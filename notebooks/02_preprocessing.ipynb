{
 "cells": [
  {
   "cell_type": "code",
   "execution_count": 1,
   "id": "d3b4c735-2af6-4d7f-adb1-ab2d692329ff",
   "metadata": {},
   "outputs": [],
   "source": [
    "import sys\n",
    "sys.path.append(\"..\")"
   ]
  },
  {
   "cell_type": "code",
   "execution_count": 2,
   "id": "28c044e8-791b-4818-be9f-74e79c40bbd8",
   "metadata": {},
   "outputs": [
    {
     "name": "stdout",
     "output_type": "stream",
     "text": [
      "Dataset URL: https://www.kaggle.com/datasets/mlg-ulb/creditcardfraud\n",
      "Dataset downloaded to directory: temp_download\n",
      "Files in temp_download: ['y_test.csv', 'X_test_selected', 'LightGBM.pkl', 'X_val_selected.csv', 'raw', 'X_val_selected', 'XGBoost.pkl', 'X_train_scaled.csv', 'X_test_selected.csv', 'X_train_enriched.csv', 'Logistic_Regression_predictions.csv', 'encoded_features_train.csv', 'LightGBM_predictions.csv', 'best_autoencoder.pth', 'y_train_res.csv', 'Random_Forest_predictions.csv', 'Random_Forest.pkl', 'X_train_selected', 'creditcard.csv', 'X_val_scaled.csv', 'X_train_selected.csv', 'X_test_enriched.csv', 'X_val_enriched.csv', 'selected_features.csv', 'X_train_res.csv', 'comparison_report.csv', 'model_performance.csv', 'encoded_features_val.csv', 'scaler.pkl', 'XGBoost_predictions.csv', 'X_test_scaled.csv', 'processed', 'Logistic_Regression.pkl', 'y_val.csv', 'encoded_features_test.csv', 'y_train.csv']\n"
     ]
    }
   ],
   "source": [
    "from src.download_data import download_kaggle_dataset\n",
    "\n",
    "dataset_name = \"mlg-ulb/creditcardfraud\"\n",
    "temp_dir = download_kaggle_dataset(dataset_name, \"temp_download\")\n",
    "\n",
    "import os\n",
    "print(f\"Files in {temp_dir}: {os.listdir(temp_dir)}\")"
   ]
  },
  {
   "cell_type": "code",
   "execution_count": 3,
   "id": "e24974f0-7c36-434d-bae6-667bc82728a9",
   "metadata": {},
   "outputs": [],
   "source": [
    "import pandas as pd\n",
    "\n",
    "file_path = os.path.join(temp_dir, \"creditcard.csv\")\n",
    "data = pd.read_csv(file_path)"
   ]
  },
  {
   "cell_type": "code",
   "execution_count": 4,
   "id": "d055d23b-533d-49df-9b39-7fe1444e32e0",
   "metadata": {},
   "outputs": [],
   "source": [
    "X = data.drop(\"Class\", axis=1)\n",
    "y = data[\"Class\"]"
   ]
  },
  {
   "cell_type": "code",
   "execution_count": 5,
   "id": "f1b5cdfa-3866-42a4-9557-aed26b326867",
   "metadata": {},
   "outputs": [],
   "source": [
    "from sklearn.model_selection import train_test_split\n",
    "\n",
    "# Initial split (train_val + test)\n",
    "X_train_val, X_test, y_train_val, y_test = train_test_split(\n",
    "    X, y, \n",
    "    test_size=0.2, \n",
    "    stratify=y,\n",
    "    random_state=42\n",
    ")\n",
    "\n",
    "# Split train_val into train and validation\n",
    "X_train, X_val, y_train, y_val = train_test_split(\n",
    "    X_train_val, y_train_val,\n",
    "    test_size=0.15,\n",
    "    stratify=y_train_val,\n",
    "    random_state=42\n",
    ")"
   ]
  },
  {
   "cell_type": "code",
   "execution_count": 6,
   "id": "0cf882c8-9454-4054-a08f-70064e9ad109",
   "metadata": {},
   "outputs": [],
   "source": [
    "from sklearn.preprocessing import StandardScaler\n",
    "\n",
    "scaler = StandardScaler()\n",
    "X_train_scaled = scaler.fit_transform(X_train)\n",
    "X_val_scaled = scaler.transform(X_val)\n",
    "X_test_scaled = scaler.transform(X_test)"
   ]
  },
  {
   "cell_type": "code",
   "execution_count": 7,
   "id": "6a4261e5-c3b3-446e-aefe-9326116db43b",
   "metadata": {},
   "outputs": [
    {
     "data": {
      "text/plain": [
       "['temp_download/scaler.pkl']"
      ]
     },
     "execution_count": 7,
     "metadata": {},
     "output_type": "execute_result"
    }
   ],
   "source": [
    "import joblib\n",
    "\n",
    "joblib.dump(scaler, os.path.join(temp_dir, \"scaler.pkl\"))"
   ]
  },
  {
   "cell_type": "code",
   "execution_count": 8,
   "id": "d05dc583-9bf2-422d-b353-c53f0a98818c",
   "metadata": {},
   "outputs": [],
   "source": [
    "datasets = {\n",
    "    # Features\n",
    "    \"X_train_scaled.csv\": X_train_scaled,\n",
    "    \"X_val_scaled.csv\": X_val_scaled,\n",
    "    \"X_test_scaled.csv\": X_test_scaled,\n",
    "    # Targets\n",
    "    \"y_train.csv\": y_train,\n",
    "    \"y_val.csv\": y_val,\n",
    "    \"y_test.csv\": y_test\n",
    "}\n",
    "\n",
    "for filename, data in datasets.items():\n",
    "    pd.DataFrame(data).to_csv(\n",
    "        os.path.join(temp_dir, filename), \n",
    "        index=False\n",
    "    )\n"
   ]
  },
  {
   "cell_type": "code",
   "execution_count": 9,
   "id": "7f8aa496-4fc5-4fca-90c1-de5d85790641",
   "metadata": {},
   "outputs": [
    {
     "name": "stdout",
     "output_type": "stream",
     "text": [
      "Files in temp_download:\n",
      "['y_test.csv', 'X_test_selected', 'LightGBM.pkl', 'X_val_selected.csv', 'raw', 'X_val_selected', 'XGBoost.pkl', 'X_train_scaled.csv', 'X_test_selected.csv', 'X_train_enriched.csv', 'Logistic_Regression_predictions.csv', 'encoded_features_train.csv', 'LightGBM_predictions.csv', 'best_autoencoder.pth', 'y_train_res.csv', 'Random_Forest_predictions.csv', 'Random_Forest.pkl', 'X_train_selected', 'creditcard.csv', 'X_val_scaled.csv', 'X_train_selected.csv', 'X_test_enriched.csv', 'X_val_enriched.csv', 'selected_features.csv', 'X_train_res.csv', 'comparison_report.csv', 'model_performance.csv', 'encoded_features_val.csv', 'scaler.pkl', 'XGBoost_predictions.csv', 'X_test_scaled.csv', 'processed', 'Logistic_Regression.pkl', 'y_val.csv', 'encoded_features_test.csv', 'y_train.csv']\n",
      "\n",
      "Dataset shapes:\n",
      "Train: (193668, 30) samples\n",
      "Val:   (34177, 30) samples\n",
      "Test:  (56962, 30) samples\n"
     ]
    }
   ],
   "source": [
    "print(f\"Files in {temp_dir}:\")\n",
    "print(os.listdir(temp_dir))\n",
    "print(\"\\nDataset shapes:\")\n",
    "print(f\"Train: {X_train_scaled.shape} samples\")\n",
    "print(f\"Val:   {X_val_scaled.shape} samples\")\n",
    "print(f\"Test:  {X_test_scaled.shape} samples\")"
   ]
  },
  {
   "cell_type": "code",
   "execution_count": null,
   "id": "131b8b68-1441-404d-89a1-f1be159212bb",
   "metadata": {},
   "outputs": [],
   "source": []
  }
 ],
 "metadata": {
  "kernelspec": {
   "display_name": "Python 3 (ipykernel)",
   "language": "python",
   "name": "python3"
  },
  "language_info": {
   "codemirror_mode": {
    "name": "ipython",
    "version": 3
   },
   "file_extension": ".py",
   "mimetype": "text/x-python",
   "name": "python",
   "nbconvert_exporter": "python",
   "pygments_lexer": "ipython3",
   "version": "3.12.7"
  }
 },
 "nbformat": 4,
 "nbformat_minor": 5
}
