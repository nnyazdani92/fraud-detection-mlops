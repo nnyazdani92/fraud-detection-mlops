{
 "cells": [
  {
   "cell_type": "code",
   "execution_count": 17,
   "id": "d3b4c735-2af6-4d7f-adb1-ab2d692329ff",
   "metadata": {},
   "outputs": [],
   "source": [
    "import sys\n",
    "sys.path.append(\"..\")"
   ]
  },
  {
   "cell_type": "code",
   "execution_count": 18,
   "id": "28c044e8-791b-4818-be9f-74e79c40bbd8",
   "metadata": {},
   "outputs": [
    {
     "name": "stdout",
     "output_type": "stream",
     "text": [
      "Dataset URL: https://www.kaggle.com/datasets/mlg-ulb/creditcardfraud\n",
      "Dataset downloaded to temporary directory: temp_download\n",
      "Files in temp_download: ['X_train_scaled.csv', 'creditcard.csv', 'scaler.pkl', 'X_test_scaled.csv']\n"
     ]
    }
   ],
   "source": [
    "from src.download_data import download_kaggle_dataset\n",
    "\n",
    "dataset_name = \"mlg-ulb/creditcardfraud\"\n",
    "temp_dir = download_kaggle_dataset(dataset_name)\n",
    "\n",
    "import os\n",
    "print(f\"Files in {temp_dir}: {os.listdir(temp_dir)}\")"
   ]
  },
  {
   "cell_type": "code",
   "execution_count": 19,
   "id": "e24974f0-7c36-434d-bae6-667bc82728a9",
   "metadata": {},
   "outputs": [],
   "source": [
    "import pandas as pd\n",
    "\n",
    "file_path = os.path.join(temp_dir, \"creditcard.csv\")\n",
    "data = pd.read_csv(file_path)"
   ]
  },
  {
   "cell_type": "code",
   "execution_count": 20,
   "id": "d055d23b-533d-49df-9b39-7fe1444e32e0",
   "metadata": {},
   "outputs": [],
   "source": [
    "X = data.drop(\"Class\", axis=1)\n",
    "y = data[\"Class\"]"
   ]
  },
  {
   "cell_type": "code",
   "execution_count": 21,
   "id": "f1b5cdfa-3866-42a4-9557-aed26b326867",
   "metadata": {},
   "outputs": [],
   "source": [
    "from sklearn.model_selection import train_test_split\n",
    "\n",
    "X_train, X_test, y_train, y_test = train_test_split(\n",
    "    X, y, test_size=0.2, stratify=y, random_state=42\n",
    ")"
   ]
  },
  {
   "cell_type": "code",
   "execution_count": 22,
   "id": "0cf882c8-9454-4054-a08f-70064e9ad109",
   "metadata": {},
   "outputs": [],
   "source": [
    "from sklearn.preprocessing import StandardScaler\n",
    "\n",
    "scaler = StandardScaler()\n",
    "X_train_scaled = scaler.fit_transform(X_train)\n",
    "X_test_scaled = scaler.transform(X_test)"
   ]
  },
  {
   "cell_type": "code",
   "execution_count": 23,
   "id": "d05dc583-9bf2-422d-b353-c53f0a98818c",
   "metadata": {},
   "outputs": [],
   "source": [
    "import joblib\n",
    "\n",
    "joblib.dump(scaler, os.path.join(temp_dir, \"scaler.pkl\"))  # Save scaler for inference\n",
    "pd.DataFrame(X_train_scaled).to_csv(os.path.join(temp_dir,\"X_train_scaled.csv\"), index=False)\n",
    "pd.DataFrame(X_test_scaled).to_csv(os.path.join(temp_dir,\"X_test_scaled.csv\"), index=False)"
   ]
  },
  {
   "cell_type": "code",
   "execution_count": 24,
   "id": "7f8aa496-4fc5-4fca-90c1-de5d85790641",
   "metadata": {},
   "outputs": [
    {
     "name": "stdout",
     "output_type": "stream",
     "text": [
      "Files in temp_download: ['X_train_scaled.csv', 'creditcard.csv', 'scaler.pkl', 'X_test_scaled.csv']\n"
     ]
    }
   ],
   "source": [
    "print(f\"Files in {temp_dir}: {os.listdir(temp_dir)}\")"
   ]
  },
  {
   "cell_type": "code",
   "execution_count": null,
   "id": "131b8b68-1441-404d-89a1-f1be159212bb",
   "metadata": {},
   "outputs": [],
   "source": []
  }
 ],
 "metadata": {
  "kernelspec": {
   "display_name": "Python 3 (ipykernel)",
   "language": "python",
   "name": "python3"
  },
  "language_info": {
   "codemirror_mode": {
    "name": "ipython",
    "version": 3
   },
   "file_extension": ".py",
   "mimetype": "text/x-python",
   "name": "python",
   "nbconvert_exporter": "python",
   "pygments_lexer": "ipython3",
   "version": "3.12.7"
  }
 },
 "nbformat": 4,
 "nbformat_minor": 5
}
