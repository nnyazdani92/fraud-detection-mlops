{
 "cells": [
  {
   "cell_type": "code",
   "execution_count": 5,
   "id": "8955d2ff-96d9-453d-9c3d-d371bac7236d",
   "metadata": {},
   "outputs": [],
   "source": [
    "import os\n",
    "import pandas as pd\n",
    "from sklearn.model_selection import train_test_split\n",
    "from sklearn.preprocessing import StandardScaler\n",
    "import joblib\n",
    "import mlflow"
   ]
  },
  {
   "cell_type": "code",
   "execution_count": 6,
   "id": "01097146-7b9e-4114-8d16-f7e5ebc4a274",
   "metadata": {},
   "outputs": [],
   "source": [
    "# Define directories\n",
    "raw_data_dir = '../data/raw/'\n",
    "processed_data_dir = '../data/processed/'\n",
    "model_dir = '../models/'"
   ]
  },
  {
   "cell_type": "code",
   "execution_count": 7,
   "id": "c80f3215-cf1b-4a8a-b824-1d3224bcfeec",
   "metadata": {},
   "outputs": [],
   "source": [
    "# Initialize MLflow and set the tracking URI\n",
    "mlflow.set_tracking_uri(\"file:///home/nick/Documents/code/fraud-detection-mlops/mlflow/mlruns\")"
   ]
  },
  {
   "cell_type": "code",
   "execution_count": 8,
   "id": "dcacf48c-5bcb-4132-978e-c49e207a5951",
   "metadata": {},
   "outputs": [
    {
     "name": "stderr",
     "output_type": "stream",
     "text": [
      "2025/02/05 23:58:07 INFO mlflow.tracking.fluent: Experiment with name 'CreditCardFraudPreprocessing' does not exist. Creating a new experiment.\n"
     ]
    },
    {
     "data": {
      "text/plain": [
       "<Experiment: artifact_location='file:///home/nick/Documents/code/fraud-detection-mlops/mlflow/mlruns/651438819155313292', creation_time=1738753087707, experiment_id='651438819155313292', last_update_time=1738753087707, lifecycle_stage='active', name='CreditCardFraudPreprocessing', tags={}>"
      ]
     },
     "execution_count": 8,
     "metadata": {},
     "output_type": "execute_result"
    }
   ],
   "source": [
    "# Create an experiment\n",
    "experiment_name = \"CreditCardFraudPreprocessing\"\n",
    "mlflow.set_experiment(experiment_name)"
   ]
  },
  {
   "cell_type": "code",
   "execution_count": 11,
   "id": "79529662-d601-4982-a399-cc6553be0614",
   "metadata": {},
   "outputs": [
    {
     "name": "stdout",
     "output_type": "stream",
     "text": [
      "Files in ../data/processed/:\n",
      "['y_test.csv', '.gitignore', 'X_train_scaled.csv', 'X_val_scaled.csv', 'X_test_scaled.csv', 'y_val.csv', '.gitkeep', 'y_train.csv']\n",
      "\n",
      "Dataset shapes:\n",
      "Train: (193668, 29) samples\n",
      "Val:   (34177, 29) samples\n",
      "Test:  (56962, 29) samples\n",
      "MLflow run completed.\n"
     ]
    }
   ],
   "source": [
    "with mlflow.start_run():\n",
    "    # Load the data\n",
    "    file_path = os.path.join(raw_data_dir, 'creditcard.csv')\n",
    "    data = pd.read_csv(file_path)\n",
    "    \n",
    "    # Log basic information about the dataset\n",
    "    mlflow.log_param(\"num_rows\", data.shape[0])\n",
    "    mlflow.log_param(\"num_columns\", data.shape[1])\n",
    "    \n",
    "    # Split features and target\n",
    "    X = data.drop(columns=['Class', 'Time'])\n",
    "    y = data['Class']\n",
    "    \n",
    "    # Initial split (train_val + test)\n",
    "    X_train_val, X_test, y_train_val, y_test = train_test_split(\n",
    "        X, y, \n",
    "        test_size=0.2, \n",
    "        stratify=y,\n",
    "        random_state=42\n",
    "    )\n",
    "    \n",
    "    # Split train_val into train and validation\n",
    "    X_train, X_val, y_train, y_val = train_test_split(\n",
    "        X_train_val, y_train_val,\n",
    "        test_size=0.15,\n",
    "        stratify=y_train_val,\n",
    "        random_state=42\n",
    "    )\n",
    "    \n",
    "    # Log split sizes\n",
    "    mlflow.log_metric(\"train_samples\", X_train.shape[0])\n",
    "    mlflow.log_metric(\"val_samples\", X_val.shape[0])\n",
    "    mlflow.log_metric(\"test_samples\", X_test.shape[0])\n",
    "    \n",
    "    # Scale the data\n",
    "    scaler = StandardScaler()\n",
    "    X_train_scaled = scaler.fit_transform(X_train)\n",
    "    X_val_scaled = scaler.transform(X_val)\n",
    "    X_test_scaled = scaler.transform(X_test)\n",
    "    \n",
    "    # Save the scaler\n",
    "    scaler_path = os.path.join(model_dir, 'scaler.pkl')\n",
    "    joblib.dump(scaler, scaler_path)\n",
    "    mlflow.log_artifact(scaler_path)\n",
    "    \n",
    "    # Prepare datasets for saving\n",
    "    datasets = {\n",
    "        # Features\n",
    "        'X_train_scaled.csv': X_train_scaled,\n",
    "        'X_val_scaled.csv': X_val_scaled,\n",
    "        'X_test_scaled.csv': X_test_scaled,\n",
    "        # Targets\n",
    "        'y_train.csv': y_train,\n",
    "        'y_val.csv': y_val,\n",
    "        'y_test.csv': y_test\n",
    "    }\n",
    "    \n",
    "    # Save datasets and log them as artifacts\n",
    "    for filename, data in datasets.items():\n",
    "        file_path = os.path.join(processed_data_dir, filename)\n",
    "        pd.DataFrame(data).to_csv(file_path, index=False)\n",
    "        mlflow.log_artifact(file_path)\n",
    "    \n",
    "    # Print final dataset shapes\n",
    "    print(f\"Files in {processed_data_dir}:\")\n",
    "    print(os.listdir(processed_data_dir))\n",
    "    print('\\nDataset shapes:')\n",
    "    print(f\"Train: {X_train_scaled.shape} samples\")\n",
    "    print(f\"Val:   {X_val_scaled.shape} samples\")\n",
    "    print(f\"Test:  {X_test_scaled.shape} samples\")\n",
    "\n",
    "print(\"MLflow run completed.\")"
   ]
  },
  {
   "cell_type": "code",
   "execution_count": null,
   "id": "bad0cdfc-e440-4d69-8b3b-aff243109de5",
   "metadata": {},
   "outputs": [],
   "source": []
  }
 ],
 "metadata": {
  "kernelspec": {
   "display_name": "Python 3 (ipykernel)",
   "language": "python",
   "name": "python3"
  },
  "language_info": {
   "codemirror_mode": {
    "name": "ipython",
    "version": 3
   },
   "file_extension": ".py",
   "mimetype": "text/x-python",
   "name": "python",
   "nbconvert_exporter": "python",
   "pygments_lexer": "ipython3",
   "version": "3.12.7"
  }
 },
 "nbformat": 4,
 "nbformat_minor": 5
}
