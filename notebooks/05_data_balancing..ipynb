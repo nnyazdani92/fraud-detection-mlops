{
 "cells": [
  {
   "cell_type": "code",
   "execution_count": 18,
   "id": "9ecee065-3143-4ddd-a831-0361b9dcc6b4",
   "metadata": {},
   "outputs": [],
   "source": [
    "import os\n",
    "import pandas as pd\n",
    "import numpy as np\n",
    "from imblearn.over_sampling import SMOTE\n",
    "from sklearn.model_selection import train_test_split\n",
    "\n",
    "temp_dir = \"temp_download\"\n",
    "\n",
    "X_train = pd.read_csv(os.path.join(temp_dir,\"X_train_selected.csv\"))\n",
    "y_train = pd.read_csv(os.path.join(temp_dir, \"y_train.csv\"))\n",
    "\n",
    "# Apply SMOTE to training data only\n",
    "sm = SMOTE(random_state=42, sampling_strategy='auto')\n",
    "X_train_res, y_train_res = sm.fit_resample(X_train, y_train)"
   ]
  },
  {
   "cell_type": "code",
   "execution_count": 19,
   "id": "9d68f88e-1530-4b5d-9b67-dfd8973e0be9",
   "metadata": {},
   "outputs": [],
   "source": [
    "X_train_res.to_csv(os.path.join(temp_dir, \"X_train_res.csv\"), index=False)\n",
    "y_train_res.to_csv(os.path.join(temp_dir, \"y_train_res.csv\"), index=False)"
   ]
  },
  {
   "cell_type": "code",
   "execution_count": null,
   "id": "8b259715-877a-4637-ade5-118322cd2837",
   "metadata": {},
   "outputs": [],
   "source": []
  }
 ],
 "metadata": {
  "kernelspec": {
   "display_name": "Python 3 (ipykernel)",
   "language": "python",
   "name": "python3"
  },
  "language_info": {
   "codemirror_mode": {
    "name": "ipython",
    "version": 3
   },
   "file_extension": ".py",
   "mimetype": "text/x-python",
   "name": "python",
   "nbconvert_exporter": "python",
   "pygments_lexer": "ipython3",
   "version": "3.12.7"
  }
 },
 "nbformat": 4,
 "nbformat_minor": 5
}
