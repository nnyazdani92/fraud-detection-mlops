{
 "cells": [
  {
   "cell_type": "code",
   "execution_count": 50,
   "id": "a680b0f9-21ee-4df1-99e1-de769c3bd05b",
   "metadata": {},
   "outputs": [],
   "source": [
    "import os\n",
    "import pandas as pd\n",
    "\n",
    "feature_selected_data_dir = '../data/selected'\n",
    "processed_data_dir = '../data/processed'\n",
    "resampled_data_dir = '../data/resampled'\n",
    "model_dir = '../models'\n",
    "\n",
    "# Load selected features\n",
    "X_train = pd.read_csv(os.path.join(resampled_data_dir,'X_train_res.csv'))\n",
    "X_test = pd.read_csv(os.path.join(feature_selected_data_dir,'X_test_selected.csv'))\n",
    "\n",
    "y_train = pd.read_csv(os.path.join(resampled_data_dir, 'y_train_res.csv')).values.ravel()\n",
    "y_test = pd.read_csv(os.path.join(processed_data_dir, 'y_test.csv')).values.ravel()"
   ]
  },
  {
   "cell_type": "code",
   "execution_count": 41,
   "id": "4d742b50-4330-4ac9-9c9c-d5efca3cb677",
   "metadata": {},
   "outputs": [],
   "source": [
    "import optuna\n",
    "from xgboost import XGBClassifier\n",
    "from sklearn.model_selection import cross_val_score\n",
    "\n",
    "def objective(trial):\n",
    "    # Define the search space for hyperparameters\n",
    "    param = {\n",
    "        'n_estimators': trial.suggest_int('n_estimators', 50, 500),\n",
    "        'max_depth': trial.suggest_int('max_depth', 3, 10),\n",
    "        'learning_rate': trial.suggest_float('learning_rate', 0.01, 0.5, log=True),\n",
    "        'subsample': trial.suggest_float('subsample', 0.6, 1.0),\n",
    "        'colsample_bytree': trial.suggest_float('colsample_bytree', 0.6, 1.0),\n",
    "        'gamma': trial.suggest_float('gamma', 1e-8, 1.0, log=True),\n",
    "        'min_child_weight': trial.suggest_int('min_child_weight', 1, 10),\n",
    "        'reg_alpha': trial.suggest_float('reg_alpha', 1e-8, 1.0, log=True),\n",
    "        'reg_lambda': trial.suggest_float('reg_lambda', 1e-8, 1.0, log=True),\n",
    "        'random_state': 42,\n",
    "        'eval_metric': 'logloss',\n",
    "        'device': 'cuda',\n",
    "        'n_jobs': -1\n",
    "    }\n",
    "\n",
    "    # Create and train the model with the suggested hyperparameters\n",
    "    model = XGBClassifier(**param)\n",
    "    model.fit(X_train, y_train)\n",
    "\n",
    "    # Evaluate the model using cross-validation\n",
    "    scores = cross_val_score(model, X_train, y_train, cv=3, scoring='roc_auc')\n",
    "    mean_score = scores.mean()\n",
    "\n",
    "    return mean_score"
   ]
  },
  {
   "cell_type": "code",
   "execution_count": 42,
   "id": "cf2ae5b6-c7e3-497b-8c32-4722b4d54234",
   "metadata": {},
   "outputs": [
    {
     "name": "stderr",
     "output_type": "stream",
     "text": [
      "[I 2025-02-05 20:39:27,101] A new study created in memory with name: no-name-1ab07777-0f60-4530-a84e-9b80c027e2c9\n",
      "[I 2025-02-05 20:39:33,803] Trial 0 finished with value: 0.9999883555174586 and parameters: {'n_estimators': 487, 'max_depth': 5, 'learning_rate': 0.24070418703869695, 'subsample': 0.6181128328044412, 'colsample_bytree': 0.8992588492690836, 'gamma': 0.000363713261791761, 'min_child_weight': 3, 'reg_alpha': 0.0006362515530907115, 'reg_lambda': 5.733503632011744e-07}. Best is trial 0 with value: 0.9999883555174586.\n",
      "[I 2025-02-05 20:39:38,881] Trial 1 finished with value: 0.999600399963751 and parameters: {'n_estimators': 246, 'max_depth': 6, 'learning_rate': 0.014304444083713392, 'subsample': 0.7324074525473574, 'colsample_bytree': 0.8003378432699214, 'gamma': 0.09307010565250218, 'min_child_weight': 5, 'reg_alpha': 0.027255673016215124, 'reg_lambda': 1.2608035834453136e-06}. Best is trial 0 with value: 0.9999883555174586.\n",
      "[I 2025-02-05 20:39:44,099] Trial 2 finished with value: 0.9999860428886422 and parameters: {'n_estimators': 338, 'max_depth': 8, 'learning_rate': 0.4883023803472604, 'subsample': 0.9628057132539743, 'colsample_bytree': 0.7956283260668424, 'gamma': 0.0014004259559263824, 'min_child_weight': 4, 'reg_alpha': 1.6695872584760626e-06, 'reg_lambda': 6.271953090543518e-08}. Best is trial 0 with value: 0.9999883555174586.\n",
      "[I 2025-02-05 20:39:50,488] Trial 3 finished with value: 0.9999624390596992 and parameters: {'n_estimators': 240, 'max_depth': 8, 'learning_rate': 0.045965639935413125, 'subsample': 0.8902108512394853, 'colsample_bytree': 0.7048050893563502, 'gamma': 0.0001443288321713335, 'min_child_weight': 10, 'reg_alpha': 0.000319016479436341, 'reg_lambda': 0.001322576209049741}. Best is trial 0 with value: 0.9999883555174586.\n",
      "[I 2025-02-05 20:39:52,924] Trial 4 finished with value: 0.9999131923725191 and parameters: {'n_estimators': 125, 'max_depth': 4, 'learning_rate': 0.15412314901960253, 'subsample': 0.8623604388116464, 'colsample_bytree': 0.8228940139458478, 'gamma': 2.342390780445723e-05, 'min_child_weight': 3, 'reg_alpha': 3.776901595511756e-05, 'reg_lambda': 0.00047432565291647696}. Best is trial 0 with value: 0.9999883555174586.\n",
      "[I 2025-02-05 20:39:57,187] Trial 5 finished with value: 0.9999833260658729 and parameters: {'n_estimators': 300, 'max_depth': 6, 'learning_rate': 0.4584184632719905, 'subsample': 0.8672170846611742, 'colsample_bytree': 0.6380228691294457, 'gamma': 0.17260372979763275, 'min_child_weight': 9, 'reg_alpha': 0.06316549933178162, 'reg_lambda': 3.3287143852019346e-08}. Best is trial 0 with value: 0.9999883555174586.\n",
      "[I 2025-02-05 20:40:01,715] Trial 6 finished with value: 0.9999552751100508 and parameters: {'n_estimators': 217, 'max_depth': 6, 'learning_rate': 0.051695916180356995, 'subsample': 0.939693196675061, 'colsample_bytree': 0.7208847314075095, 'gamma': 2.052526230991058e-05, 'min_child_weight': 1, 'reg_alpha': 2.755353436596238e-08, 'reg_lambda': 0.002743985941706496}. Best is trial 0 with value: 0.9999883555174586.\n",
      "[I 2025-02-05 20:40:07,019] Trial 7 finished with value: 0.9999854672212115 and parameters: {'n_estimators': 362, 'max_depth': 5, 'learning_rate': 0.26111444509728504, 'subsample': 0.6133511620132374, 'colsample_bytree': 0.7660224240427758, 'gamma': 0.011278944627569393, 'min_child_weight': 2, 'reg_alpha': 0.004171625930219073, 'reg_lambda': 3.2799736320953365e-07}. Best is trial 0 with value: 0.9999883555174586.\n",
      "[I 2025-02-05 20:40:15,276] Trial 8 finished with value: 0.9999820535050392 and parameters: {'n_estimators': 216, 'max_depth': 10, 'learning_rate': 0.06136842589076234, 'subsample': 0.9943321095922465, 'colsample_bytree': 0.846857725064575, 'gamma': 3.774327764583706e-05, 'min_child_weight': 4, 'reg_alpha': 2.894456981901958e-06, 'reg_lambda': 7.244109712628913e-07}. Best is trial 0 with value: 0.9999883555174586.\n",
      "[I 2025-02-05 20:40:18,575] Trial 9 finished with value: 0.9999833765329916 and parameters: {'n_estimators': 183, 'max_depth': 5, 'learning_rate': 0.19279651445029733, 'subsample': 0.7718027414180271, 'colsample_bytree': 0.9838822783030186, 'gamma': 0.0002060445519036378, 'min_child_weight': 4, 'reg_alpha': 4.814336728757453e-07, 'reg_lambda': 1.786402416662706e-08}. Best is trial 0 with value: 0.9999883555174586.\n",
      "[I 2025-02-05 20:40:23,849] Trial 10 finished with value: 0.9999532780114812 and parameters: {'n_estimators': 494, 'max_depth': 3, 'learning_rate': 0.11207981932787876, 'subsample': 0.618724548087426, 'colsample_bytree': 0.9308243926433417, 'gamma': 4.967071781204001e-08, 'min_child_weight': 7, 'reg_alpha': 0.0004545756375173291, 'reg_lambda': 0.1873993739899754}. Best is trial 0 with value: 0.9999883555174586.\n",
      "[I 2025-02-05 20:40:30,444] Trial 11 finished with value: 0.9999860384809689 and parameters: {'n_estimators': 491, 'max_depth': 8, 'learning_rate': 0.4739742179167634, 'subsample': 0.6989138354085436, 'colsample_bytree': 0.8864006088264613, 'gamma': 0.0028146957224828976, 'min_child_weight': 7, 'reg_alpha': 6.031737349698983e-06, 'reg_lambda': 1.565468311225392e-05}. Best is trial 0 with value: 0.9999883555174586.\n",
      "[I 2025-02-05 20:40:36,622] Trial 12 finished with value: 0.999986463863254 and parameters: {'n_estimators': 395, 'max_depth': 8, 'learning_rate': 0.30040327900911634, 'subsample': 0.6679114595725597, 'colsample_bytree': 0.9118941758984433, 'gamma': 1.045753254475695e-06, 'min_child_weight': 6, 'reg_alpha': 4.6882051772648574e-08, 'reg_lambda': 1.7947441418666576e-05}. Best is trial 0 with value: 0.9999883555174586.\n",
      "[I 2025-02-05 20:40:43,545] Trial 13 finished with value: 0.9999824159873759 and parameters: {'n_estimators': 410, 'max_depth': 10, 'learning_rate': 0.27529887869057784, 'subsample': 0.6536469778960861, 'colsample_bytree': 0.9276607617108236, 'gamma': 4.1131964883629755e-07, 'min_child_weight': 7, 'reg_alpha': 5.65917985792508e-08, 'reg_lambda': 1.0396493346469852e-05}. Best is trial 0 with value: 0.9999883555174586.\n",
      "[I 2025-02-05 20:40:51,085] Trial 14 finished with value: 0.9999825257357317 and parameters: {'n_estimators': 406, 'max_depth': 7, 'learning_rate': 0.09531797181441064, 'subsample': 0.6837955034296925, 'colsample_bytree': 0.9948709524061108, 'gamma': 1.0148829784336528e-06, 'min_child_weight': 6, 'reg_alpha': 0.0020239178274794557, 'reg_lambda': 3.235526039434444e-05}. Best is trial 0 with value: 0.9999883555174586.\n",
      "[I 2025-02-05 20:41:04,815] Trial 15 finished with value: 0.9999802013729231 and parameters: {'n_estimators': 434, 'max_depth': 9, 'learning_rate': 0.023837388717585332, 'subsample': 0.7961434882405029, 'colsample_bytree': 0.8884129623235834, 'gamma': 1.7142015479411854e-06, 'min_child_weight': 1, 'reg_alpha': 0.31581930605149455, 'reg_lambda': 0.0493826842319133}. Best is trial 0 with value: 0.9999883555174586.\n",
      "[I 2025-02-05 20:41:09,937] Trial 16 finished with value: 0.9999782010672811 and parameters: {'n_estimators': 446, 'max_depth': 3, 'learning_rate': 0.27046192100070915, 'subsample': 0.7370807691846197, 'colsample_bytree': 0.934456098369443, 'gamma': 1.7924645084207178e-08, 'min_child_weight': 5, 'reg_alpha': 2.5788212839747333e-05, 'reg_lambda': 2.103389521848426e-06}. Best is trial 0 with value: 0.9999883555174586.\n",
      "[I 2025-02-05 20:41:16,654] Trial 17 finished with value: 0.9999878145934393 and parameters: {'n_estimators': 351, 'max_depth': 7, 'learning_rate': 0.1534369308516107, 'subsample': 0.6519350690904712, 'colsample_bytree': 0.8673465157532149, 'gamma': 4.739987446648397e-06, 'min_child_weight': 3, 'reg_alpha': 2.693240825067094e-07, 'reg_lambda': 8.547279481719273e-05}. Best is trial 0 with value: 0.9999883555174586.\n",
      "[I 2025-02-05 20:41:18,239] Trial 18 finished with value: 0.9995924022192288 and parameters: {'n_estimators': 51, 'max_depth': 5, 'learning_rate': 0.1296011503870599, 'subsample': 0.6008887616853059, 'colsample_bytree': 0.8423019700540499, 'gamma': 0.8733773686226282, 'min_child_weight': 2, 'reg_alpha': 2.486732194519025e-07, 'reg_lambda': 0.00014219427124567525}. Best is trial 0 with value: 0.9999883555174586.\n",
      "[I 2025-02-05 20:41:25,805] Trial 19 finished with value: 0.9999699915914609 and parameters: {'n_estimators': 311, 'max_depth': 7, 'learning_rate': 0.03663774773503311, 'subsample': 0.7201231004891172, 'colsample_bytree': 0.8732027665625675, 'gamma': 8.988376552670603e-06, 'min_child_weight': 3, 'reg_alpha': 0.00012829026202377822, 'reg_lambda': 0.00787289694758956}. Best is trial 0 with value: 0.9999883555174586.\n",
      "[I 2025-02-05 20:41:30,869] Trial 20 finished with value: 0.9999645850757141 and parameters: {'n_estimators': 358, 'max_depth': 4, 'learning_rate': 0.08186826416837524, 'subsample': 0.6432156942927953, 'colsample_bytree': 0.9604993506870638, 'gamma': 0.00025146617254085383, 'min_child_weight': 3, 'reg_alpha': 0.002844511431587012, 'reg_lambda': 0.00018703758310407477}. Best is trial 0 with value: 0.9999883555174586.\n",
      "[I 2025-02-05 20:41:37,592] Trial 21 finished with value: 0.9999854910655349 and parameters: {'n_estimators': 386, 'max_depth': 7, 'learning_rate': 0.1820989295004297, 'subsample': 0.6673102525580933, 'colsample_bytree': 0.9011404949939766, 'gamma': 2.0361766297564085e-07, 'min_child_weight': 6, 'reg_alpha': 1.1614863399216534e-08, 'reg_lambda': 5.3275493743622955e-06}. Best is trial 0 with value: 0.9999883555174586.\n",
      "[I 2025-02-05 20:41:45,027] Trial 22 finished with value: 0.9999820120998528 and parameters: {'n_estimators': 456, 'max_depth': 9, 'learning_rate': 0.33185826734161794, 'subsample': 0.6482309817832153, 'colsample_bytree': 0.8598809215503302, 'gamma': 3.4343394989426306e-06, 'min_child_weight': 8, 'reg_alpha': 1.3264553060670055e-07, 'reg_lambda': 5.2527558437265926e-05}. Best is trial 0 with value: 0.9999883555174586.\n",
      "[I 2025-02-05 20:41:53,763] Trial 23 finished with value: 0.9999860388118406 and parameters: {'n_estimators': 465, 'max_depth': 9, 'learning_rate': 0.1959364272572054, 'subsample': 0.765304396911138, 'colsample_bytree': 0.9176269792581284, 'gamma': 0.0007429830267174808, 'min_child_weight': 2, 'reg_alpha': 7.388456774774512e-07, 'reg_lambda': 1.9812709800958687e-07}. Best is trial 0 with value: 0.9999883555174586.\n",
      "[I 2025-02-05 20:42:00,380] Trial 24 finished with value: 0.9999829411579636 and parameters: {'n_estimators': 388, 'max_depth': 8, 'learning_rate': 0.30646856344029694, 'subsample': 0.6978800394850713, 'colsample_bytree': 0.9494349637066721, 'gamma': 1.9820390163582047e-07, 'min_child_weight': 5, 'reg_alpha': 1.1142529625511675e-05, 'reg_lambda': 5.368450676447599e-06}. Best is trial 0 with value: 0.9999883555174586.\n",
      "[I 2025-02-05 20:42:07,000] Trial 25 finished with value: 0.9999850469947821 and parameters: {'n_estimators': 315, 'max_depth': 7, 'learning_rate': 0.13800176333101663, 'subsample': 0.6345638169328219, 'colsample_bytree': 0.6004226130886422, 'gamma': 7.045743369167448e-06, 'min_child_weight': 4, 'reg_alpha': 1.310460411585477e-07, 'reg_lambda': 1.2037825305527931e-07}. Best is trial 0 with value: 0.9999883555174586.\n",
      "[I 2025-02-05 20:42:12,498] Trial 26 finished with value: 0.9999804536620082 and parameters: {'n_estimators': 422, 'max_depth': 4, 'learning_rate': 0.22437952137931885, 'subsample': 0.6821811288984113, 'colsample_bytree': 0.7612064596296171, 'gamma': 5.786149219056761e-05, 'min_child_weight': 6, 'reg_alpha': 2.8654269992645113e-08, 'reg_lambda': 0.0003994768559559229}. Best is trial 0 with value: 0.9999883555174586.\n",
      "[I 2025-02-05 20:42:17,253] Trial 27 finished with value: 0.9999850292647584 and parameters: {'n_estimators': 279, 'max_depth': 6, 'learning_rate': 0.384067815469795, 'subsample': 0.6026104354663743, 'colsample_bytree': 0.9674883329813686, 'gamma': 0.0060978174438441465, 'min_child_weight': 3, 'reg_alpha': 0.0007122082489104037, 'reg_lambda': 6.806414711147183e-05}. Best is trial 0 with value: 0.9999883555174586.\n",
      "[I 2025-02-05 20:42:22,668] Trial 28 finished with value: 0.9999805464270454 and parameters: {'n_estimators': 349, 'max_depth': 5, 'learning_rate': 0.10849625091447893, 'subsample': 0.8165108181211738, 'colsample_bytree': 0.9035098059937462, 'gamma': 4.959584627270748e-08, 'min_child_weight': 8, 'reg_alpha': 7.645981720032814e-05, 'reg_lambda': 2.8035726205104986e-06}. Best is trial 0 with value: 0.9999883555174586.\n",
      "[I 2025-02-05 20:42:34,006] Trial 29 finished with value: 0.9998807129883133 and parameters: {'n_estimators': 499, 'max_depth': 7, 'learning_rate': 0.010427165102783057, 'subsample': 0.728483774783236, 'colsample_bytree': 0.8190995924347416, 'gamma': 0.014657071261209603, 'min_child_weight': 5, 'reg_alpha': 0.05394109815819642, 'reg_lambda': 9.0481092053942e-07}. Best is trial 0 with value: 0.9999883555174586.\n",
      "[I 2025-02-05 20:42:40,611] Trial 30 finished with value: 0.9999889562827056 and parameters: {'n_estimators': 383, 'max_depth': 6, 'learning_rate': 0.15462083623076764, 'subsample': 0.6621972467857659, 'colsample_bytree': 0.7974819324108349, 'gamma': 5.959993874075109e-07, 'min_child_weight': 2, 'reg_alpha': 0.013046301995737156, 'reg_lambda': 0.024882475120576678}. Best is trial 30 with value: 0.9999889562827056.\n",
      "[I 2025-02-05 20:42:47,211] Trial 31 finished with value: 0.9999866867880914 and parameters: {'n_estimators': 384, 'max_depth': 6, 'learning_rate': 0.15797176549049036, 'subsample': 0.6715143554138754, 'colsample_bytree': 0.8094243349707624, 'gamma': 8.011445936059194e-07, 'min_child_weight': 2, 'reg_alpha': 0.022964791455004213, 'reg_lambda': 0.015570098502384782}. Best is trial 30 with value: 0.9999889562827056.\n",
      "[I 2025-02-05 20:42:53,965] Trial 32 finished with value: 0.9999891672196096 and parameters: {'n_estimators': 373, 'max_depth': 6, 'learning_rate': 0.15895715794640072, 'subsample': 0.6364695644502583, 'colsample_bytree': 0.796504900594899, 'gamma': 5.2372231444726365e-06, 'min_child_weight': 1, 'reg_alpha': 0.012728351061553579, 'reg_lambda': 0.9236237111577459}. Best is trial 32 with value: 0.9999891672196096.\n",
      "[I 2025-02-05 20:42:59,288] Trial 33 finished with value: 0.9999800761361013 and parameters: {'n_estimators': 334, 'max_depth': 5, 'learning_rate': 0.07717123001033191, 'subsample': 0.6307708124288063, 'colsample_bytree': 0.7660457729968191, 'gamma': 5.07980701983435e-06, 'min_child_weight': 1, 'reg_alpha': 0.019981761454757222, 'reg_lambda': 0.3632367778637095}. Best is trial 32 with value: 0.9999891672196096.\n",
      "[I 2025-02-05 20:43:04,516] Trial 34 finished with value: 0.9999873347013768 and parameters: {'n_estimators': 275, 'max_depth': 6, 'learning_rate': 0.22106905134412178, 'subsample': 0.7072992748018183, 'colsample_bytree': 0.7884770756807471, 'gamma': 1.5002069550764461e-05, 'min_child_weight': 1, 'reg_alpha': 0.007247013948033754, 'reg_lambda': 0.8636151758944457}. Best is trial 32 with value: 0.9999891672196096.\n",
      "[I 2025-02-05 20:43:09,607] Trial 35 finished with value: 0.9999854825373747 and parameters: {'n_estimators': 273, 'max_depth': 6, 'learning_rate': 0.15790584459873033, 'subsample': 0.7534067556091208, 'colsample_bytree': 0.7308977019195344, 'gamma': 0.0004337376739344279, 'min_child_weight': 3, 'reg_alpha': 0.6796134633438156, 'reg_lambda': 0.08760591536876294}. Best is trial 32 with value: 0.9999891672196096.\n",
      "[I 2025-02-05 20:43:14,179] Trial 36 finished with value: 0.9999790777724029 and parameters: {'n_estimators': 334, 'max_depth': 4, 'learning_rate': 0.11942958241429516, 'subsample': 0.6272067099512105, 'colsample_bytree': 0.8307020883936134, 'gamma': 8.928694820697103e-05, 'min_child_weight': 2, 'reg_alpha': 0.1482175288214327, 'reg_lambda': 0.0020907365168024374}. Best is trial 32 with value: 0.9999891672196096.\n",
      "[I 2025-02-05 20:43:21,253] Trial 37 finished with value: 0.9999854919807413 and parameters: {'n_estimators': 473, 'max_depth': 5, 'learning_rate': 0.09046087123779427, 'subsample': 0.6565488757563523, 'colsample_bytree': 0.6632458101268897, 'gamma': 2.9848458919490885e-06, 'min_child_weight': 2, 'reg_alpha': 0.011187466688228773, 'reg_lambda': 0.016671007164049012}. Best is trial 32 with value: 0.9999891672196096.\n",
      "[I 2025-02-05 20:43:29,386] Trial 38 finished with value: 0.9999876424072718 and parameters: {'n_estimators': 374, 'max_depth': 7, 'learning_rate': 0.06739742384378002, 'subsample': 0.8339096476974828, 'colsample_bytree': 0.7965816623191715, 'gamma': 2.587070684850766e-07, 'min_child_weight': 1, 'reg_alpha': 0.0009939676072855646, 'reg_lambda': 0.9758887191780848}. Best is trial 32 with value: 0.9999891672196096.\n",
      "[I 2025-02-05 20:43:37,373] Trial 39 finished with value: 0.9999691891720538 and parameters: {'n_estimators': 429, 'max_depth': 6, 'learning_rate': 0.03573542804551454, 'subsample': 0.898826895378932, 'colsample_bytree': 0.8618422844132744, 'gamma': 7.50375683072418e-08, 'min_child_weight': 4, 'reg_alpha': 0.00018901683664893939, 'reg_lambda': 0.0007906817238484411}. Best is trial 32 with value: 0.9999891672196096.\n",
      "[I 2025-02-05 20:43:40,472] Trial 40 finished with value: 0.99998773379694 and parameters: {'n_estimators': 151, 'max_depth': 5, 'learning_rate': 0.39358711221420495, 'subsample': 0.6283186818559353, 'colsample_bytree': 0.7452539589376312, 'gamma': 3.1734069881970875e-05, 'min_child_weight': 3, 'reg_alpha': 0.0013711726431313387, 'reg_lambda': 0.041813730986567585}. Best is trial 32 with value: 0.9999891672196096.\n",
      "[I 2025-02-05 20:43:43,646] Trial 41 finished with value: 0.9999872794387876 and parameters: {'n_estimators': 171, 'max_depth': 5, 'learning_rate': 0.3970130829441979, 'subsample': 0.6207176834414208, 'colsample_bytree': 0.7435894309151976, 'gamma': 1.7531513706908404e-05, 'min_child_weight': 3, 'reg_alpha': 0.0015486097629538354, 'reg_lambda': 0.07856975552170871}. Best is trial 32 with value: 0.9999891672196096.\n",
      "[I 2025-02-05 20:43:45,561] Trial 42 finished with value: 0.9998698054172929 and parameters: {'n_estimators': 73, 'max_depth': 4, 'learning_rate': 0.23307408542763625, 'subsample': 0.6392300397229306, 'colsample_bytree': 0.6961687424287512, 'gamma': 3.8135124314154734e-05, 'min_child_weight': 4, 'reg_alpha': 0.005471849185058453, 'reg_lambda': 0.003398953100200688}. Best is trial 32 with value: 0.9999891672196096.\n",
      "[I 2025-02-05 20:43:47,997] Trial 43 finished with value: 0.999981468443102 and parameters: {'n_estimators': 114, 'max_depth': 5, 'learning_rate': 0.3997747987166635, 'subsample': 0.600578257370084, 'colsample_bytree': 0.7782392287621049, 'gamma': 0.00012172015810309634, 'min_child_weight': 3, 'reg_alpha': 0.059093691315263444, 'reg_lambda': 0.209891008855158}. Best is trial 32 with value: 0.9999891672196096.\n",
      "[I 2025-02-05 20:43:52,661] Trial 44 finished with value: 0.9999884252626066 and parameters: {'n_estimators': 245, 'max_depth': 6, 'learning_rate': 0.1857388790054515, 'subsample': 0.6922307925470385, 'colsample_bytree': 0.7023692972350987, 'gamma': 0.001021911626064578, 'min_child_weight': 2, 'reg_alpha': 0.0003613190628395858, 'reg_lambda': 0.04268269504081169}. Best is trial 32 with value: 0.9999891672196096.\n",
      "[I 2025-02-05 20:43:57,246] Trial 45 finished with value: 0.9999857460717646 and parameters: {'n_estimators': 231, 'max_depth': 6, 'learning_rate': 0.153795460769008, 'subsample': 0.6951855345288053, 'colsample_bytree': 0.6959897695614768, 'gamma': 0.00236111731144286, 'min_child_weight': 1, 'reg_alpha': 0.0002998236079661026, 'reg_lambda': 0.0050930877041373505}. Best is trial 32 with value: 0.9999891672196096.\n",
      "[I 2025-02-05 20:44:01,976] Trial 46 finished with value: 0.9999866186057381 and parameters: {'n_estimators': 257, 'max_depth': 6, 'learning_rate': 0.1862335242148121, 'subsample': 0.6617394792913748, 'colsample_bytree': 0.6550184536658202, 'gamma': 0.0009608980333532294, 'min_child_weight': 2, 'reg_alpha': 2.5841239326448015e-05, 'reg_lambda': 4.358956759850744e-08}. Best is trial 32 with value: 0.9999891672196096.\n",
      "[I 2025-02-05 20:44:07,869] Trial 47 finished with value: 0.9999855776864802 and parameters: {'n_estimators': 290, 'max_depth': 7, 'learning_rate': 0.10539828801498129, 'subsample': 0.6768270795173724, 'colsample_bytree': 0.8337221298184927, 'gamma': 0.049023161870872065, 'min_child_weight': 2, 'reg_alpha': 5.687955117595069e-05, 'reg_lambda': 0.26929231248333424}. Best is trial 32 with value: 0.9999891672196096.\n",
      "[I 2025-02-05 20:44:12,250] Trial 48 finished with value: 0.9999566542326922 and parameters: {'n_estimators': 210, 'max_depth': 6, 'learning_rate': 0.053394191537050543, 'subsample': 0.7206661424238544, 'colsample_bytree': 0.6784233649882162, 'gamma': 0.00032812001965527973, 'min_child_weight': 1, 'reg_alpha': 2.985434048518867e-06, 'reg_lambda': 0.02044558904108026}. Best is trial 32 with value: 0.9999891672196096.\n",
      "[I 2025-02-05 20:44:17,571] Trial 49 finished with value: 0.9999833039405172 and parameters: {'n_estimators': 253, 'max_depth': 8, 'learning_rate': 0.13284753001094557, 'subsample': 0.7474329899926972, 'colsample_bytree': 0.6265961237122409, 'gamma': 5.325017190842102e-07, 'min_child_weight': 10, 'reg_alpha': 0.13529923137354544, 'reg_lambda': 0.00042509674432161934}. Best is trial 32 with value: 0.9999891672196096.\n",
      "[I 2025-02-05 20:44:23,396] Trial 50 finished with value: 0.9999875238799426 and parameters: {'n_estimators': 319, 'max_depth': 7, 'learning_rate': 0.2452589217026145, 'subsample': 0.6166506631753497, 'colsample_bytree': 0.8807340723183861, 'gamma': 0.00213069060019541, 'min_child_weight': 1, 'reg_alpha': 0.0006057366984305074, 'reg_lambda': 0.4883928820362282}. Best is trial 32 with value: 0.9999891672196096.\n",
      "[I 2025-02-05 20:44:26,396] Trial 51 finished with value: 0.9999835991620563 and parameters: {'n_estimators': 155, 'max_depth': 5, 'learning_rate': 0.3455123301777015, 'subsample': 0.6500674902047926, 'colsample_bytree': 0.752025198109663, 'gamma': 2.334404345094332e-06, 'min_child_weight': 3, 'reg_alpha': 0.003089436305040951, 'reg_lambda': 0.03326808761404513}. Best is trial 32 with value: 0.9999891672196096.\n",
      "[I 2025-02-05 20:44:30,330] Trial 52 finished with value: 0.9999848663784828 and parameters: {'n_estimators': 207, 'max_depth': 6, 'learning_rate': 0.20704179250149132, 'subsample': 0.6169961795261909, 'colsample_bytree': 0.7183652214492582, 'gamma': 3.1925461482176566e-05, 'min_child_weight': 4, 'reg_alpha': 0.00027118049527937555, 'reg_lambda': 0.11262355447093028}. Best is trial 32 with value: 0.9999891672196096.\n",
      "[I 2025-02-05 20:44:35,798] Trial 53 finished with value: 0.9999805512855997 and parameters: {'n_estimators': 409, 'max_depth': 5, 'learning_rate': 0.4888231652265136, 'subsample': 0.6385679343840757, 'colsample_bytree': 0.7825827027102699, 'gamma': 0.00012222995228839244, 'min_child_weight': 2, 'reg_alpha': 0.011995432562357987, 'reg_lambda': 0.010303454498779016}. Best is trial 32 with value: 0.9999891672196096.\n",
      "[I 2025-02-05 20:44:37,818] Trial 54 finished with value: 0.9999687720119192 and parameters: {'n_estimators': 119, 'max_depth': 4, 'learning_rate': 0.2661393896578041, 'subsample': 0.6835688033536593, 'colsample_bytree': 0.8115867484085241, 'gamma': 1.1565576885533208e-05, 'min_child_weight': 2, 'reg_alpha': 0.0016206441141449642, 'reg_lambda': 0.05311507789178686}. Best is trial 32 with value: 0.9999891672196096.\n",
      "[I 2025-02-05 20:44:40,301] Trial 55 finished with value: 0.9999710544256755 and parameters: {'n_estimators': 94, 'max_depth': 6, 'learning_rate': 0.1686420696196065, 'subsample': 0.6600272084014943, 'colsample_bytree': 0.7142564213047724, 'gamma': 0.0005313304781278821, 'min_child_weight': 3, 'reg_alpha': 0.00013175526527455856, 'reg_lambda': 1.2562950261806782e-08}. Best is trial 32 with value: 0.9999891672196096.\n",
      "[I 2025-02-05 20:44:43,044] Trial 56 finished with value: 0.9999831909938295 and parameters: {'n_estimators': 148, 'max_depth': 5, 'learning_rate': 0.30839347284778085, 'subsample': 0.7106299541234263, 'colsample_bytree': 0.7381907929871224, 'gamma': 6.883144859656805e-05, 'min_child_weight': 3, 'reg_alpha': 0.001113018550674708, 'reg_lambda': 0.0016320215105668872}. Best is trial 32 with value: 0.9999891672196096.\n",
      "[I 2025-02-05 20:44:50,201] Trial 57 finished with value: 0.9999878767535791 and parameters: {'n_estimators': 362, 'max_depth': 7, 'learning_rate': 0.13336282606067937, 'subsample': 0.9474455025031672, 'colsample_bytree': 0.8542597627489815, 'gamma': 1.6353927881607257e-06, 'min_child_weight': 2, 'reg_alpha': 0.004322326706575126, 'reg_lambda': 0.005113728439246995}. Best is trial 32 with value: 0.9999891672196096.\n",
      "[I 2025-02-05 20:44:57,488] Trial 58 finished with value: 0.9999899388987107 and parameters: {'n_estimators': 367, 'max_depth': 7, 'learning_rate': 0.13913305318518582, 'subsample': 0.9239288385607853, 'colsample_bytree': 0.8540625387272723, 'gamma': 1.0102810460376275e-06, 'min_child_weight': 1, 'reg_alpha': 0.004109146097673786, 'reg_lambda': 3.460882360551424e-07}. Best is trial 58 with value: 0.9999899388987107.\n",
      "[I 2025-02-05 20:45:06,191] Trial 59 finished with value: 0.9999874152810789 and parameters: {'n_estimators': 370, 'max_depth': 8, 'learning_rate': 0.0984659018776353, 'subsample': 0.9685486374834831, 'colsample_bytree': 0.852599544454536, 'gamma': 1.08601973459785e-06, 'min_child_weight': 1, 'reg_alpha': 0.003981427354269624, 'reg_lambda': 1.2334169055596551e-07}. Best is trial 58 with value: 0.9999899388987107.\n",
      "[I 2025-02-05 20:45:14,240] Trial 60 finished with value: 0.9999868741612445 and parameters: {'n_estimators': 443, 'max_depth': 7, 'learning_rate': 0.14043958478156482, 'subsample': 0.9196904534220572, 'colsample_bytree': 0.8448887788401049, 'gamma': 8.580556071564208e-08, 'min_child_weight': 2, 'reg_alpha': 0.039354512491750655, 'reg_lambda': 2.8908709585477133e-07}. Best is trial 58 with value: 0.9999899388987107.\n",
      "[I 2025-02-05 20:45:21,042] Trial 61 finished with value: 0.9999891357697656 and parameters: {'n_estimators': 352, 'max_depth': 7, 'learning_rate': 0.1789166049883818, 'subsample': 0.9560820775352953, 'colsample_bytree': 0.893260215550549, 'gamma': 1.5619727385624073e-06, 'min_child_weight': 1, 'reg_alpha': 0.009713452599355242, 'reg_lambda': 0.000980619785938663}. Best is trial 58 with value: 0.9999899388987107.\n",
      "[I 2025-02-05 20:45:27,388] Trial 62 finished with value: 0.9999881463308194 and parameters: {'n_estimators': 302, 'max_depth': 8, 'learning_rate': 0.18645383827843112, 'subsample': 0.9739640842422363, 'colsample_bytree': 0.9040020443640587, 'gamma': 1.4425870730362403e-06, 'min_child_weight': 1, 'reg_alpha': 0.0076669955303936815, 'reg_lambda': 0.0009888570230181975}. Best is trial 58 with value: 0.9999899388987107.\n",
      "[I 2025-02-05 20:45:33,806] Trial 63 finished with value: 0.9999887540429667 and parameters: {'n_estimators': 299, 'max_depth': 8, 'learning_rate': 0.18079743462575634, 'subsample': 0.9908790092688489, 'colsample_bytree': 0.893315066307723, 'gamma': 4.706049901545733e-07, 'min_child_weight': 1, 'reg_alpha': 0.011628084844161812, 'reg_lambda': 0.0006859421512203286}. Best is trial 58 with value: 0.9999899388987107.\n",
      "[I 2025-02-05 20:45:41,389] Trial 64 finished with value: 0.9999876003977718 and parameters: {'n_estimators': 340, 'max_depth': 8, 'learning_rate': 0.11754389333279265, 'subsample': 0.9969794328281173, 'colsample_bytree': 0.8915691071095329, 'gamma': 1.1213916458499197e-08, 'min_child_weight': 1, 'reg_alpha': 0.015067241802117472, 'reg_lambda': 1.4560991599328286e-06}. Best is trial 58 with value: 0.9999899388987107.\n",
      "[I 2025-02-05 20:45:49,409] Trial 65 finished with value: 0.9999867492700654 and parameters: {'n_estimators': 398, 'max_depth': 9, 'learning_rate': 0.18325906398888533, 'subsample': 0.9814909290498585, 'colsample_bytree': 0.9370338299439632, 'gamma': 2.295489994628308e-07, 'min_child_weight': 1, 'reg_alpha': 0.10522730813684462, 'reg_lambda': 0.00016608537970850304}. Best is trial 58 with value: 0.9999899388987107.\n",
      "[I 2025-02-05 20:45:56,064] Trial 66 finished with value: 0.9999843157891349 and parameters: {'n_estimators': 323, 'max_depth': 8, 'learning_rate': 0.20406457456289587, 'subsample': 0.9524983668496204, 'colsample_bytree': 0.9206437639581568, 'gamma': 6.020027118902674e-07, 'min_child_weight': 1, 'reg_alpha': 0.027118385708217063, 'reg_lambda': 0.0002527227477367762}. Best is trial 58 with value: 0.9999899388987107.\n",
      "[I 2025-02-05 20:46:01,659] Trial 67 finished with value: 0.9999837730240481 and parameters: {'n_estimators': 299, 'max_depth': 7, 'learning_rate': 0.24407736229668545, 'subsample': 0.9366564918500202, 'colsample_bytree': 0.8763352163589601, 'gamma': 3.0118861148647575e-07, 'min_child_weight': 2, 'reg_alpha': 0.0004476284222416685, 'reg_lambda': 3.0008097788474988e-05}. Best is trial 58 with value: 0.9999899388987107.\n",
      "[I 2025-02-05 20:46:08,454] Trial 68 finished with value: 0.9999917479646628 and parameters: {'n_estimators': 375, 'max_depth': 6, 'learning_rate': 0.17369367999169733, 'subsample': 0.8546848066212989, 'colsample_bytree': 0.8950730116446355, 'gamma': 1.1637522263226727e-07, 'min_child_weight': 1, 'reg_alpha': 0.2869749898165918, 'reg_lambda': 4.146706685327304e-07}. Best is trial 68 with value: 0.9999917479646628.\n",
      "[I 2025-02-05 20:46:15,181] Trial 69 finished with value: 0.9999903101543627 and parameters: {'n_estimators': 348, 'max_depth': 6, 'learning_rate': 0.09026323524655702, 'subsample': 0.8704926658477833, 'colsample_bytree': 0.9426503362311343, 'gamma': 3.94868014512367e-08, 'min_child_weight': 1, 'reg_alpha': 0.4530039771779646, 'reg_lambda': 2.7365151815889523e-08}. Best is trial 68 with value: 0.9999917479646628.\n",
      "[I 2025-02-05 20:46:23,579] Trial 70 finished with value: 0.9999881042882591 and parameters: {'n_estimators': 375, 'max_depth': 7, 'learning_rate': 0.08115531988255426, 'subsample': 0.855840796033656, 'colsample_bytree': 0.9776424820645302, 'gamma': 3.3325682146511945e-08, 'min_child_weight': 1, 'reg_alpha': 0.7667664470993115, 'reg_lambda': 3.1577338785384514e-08}. Best is trial 68 with value: 0.9999917479646628.\n",
      "[I 2025-02-05 20:46:29,864] Trial 71 finished with value: 0.9999905509938198 and parameters: {'n_estimators': 351, 'max_depth': 6, 'learning_rate': 0.16700113176655218, 'subsample': 0.8760786890630496, 'colsample_bytree': 0.9458324161057229, 'gamma': 1.1228950143116257e-07, 'min_child_weight': 1, 'reg_alpha': 0.3010224643188726, 'reg_lambda': 5.891956125910144e-07}. Best is trial 68 with value: 0.9999917479646628.\n",
      "[I 2025-02-05 20:46:36,286] Trial 72 finished with value: 0.9999914445778364 and parameters: {'n_estimators': 342, 'max_depth': 6, 'learning_rate': 0.14617015959021826, 'subsample': 0.8810015937547994, 'colsample_bytree': 0.9524469495836592, 'gamma': 1.3525971935837183e-07, 'min_child_weight': 1, 'reg_alpha': 0.2798589638688551, 'reg_lambda': 5.182892742395803e-07}. Best is trial 68 with value: 0.9999917479646628.\n",
      "[I 2025-02-05 20:46:43,021] Trial 73 finished with value: 0.9999889544892748 and parameters: {'n_estimators': 355, 'max_depth': 6, 'learning_rate': 0.08959682449050928, 'subsample': 0.8762379220791741, 'colsample_bytree': 0.9484408266178236, 'gamma': 1.227799372988183e-07, 'min_child_weight': 1, 'reg_alpha': 0.4128132440505982, 'reg_lambda': 5.354857544053869e-07}. Best is trial 68 with value: 0.9999917479646628.\n",
      "[I 2025-02-05 20:46:49,290] Trial 74 finished with value: 0.9999884646214703 and parameters: {'n_estimators': 340, 'max_depth': 6, 'learning_rate': 0.12144794548945487, 'subsample': 0.9013269319175266, 'colsample_bytree': 0.9489202952297876, 'gamma': 1.888652692602991e-08, 'min_child_weight': 1, 'reg_alpha': 0.2663247386324663, 'reg_lambda': 9.192459484504834e-08}. Best is trial 68 with value: 0.9999917479646628.\n",
      "[I 2025-02-05 20:46:56,508] Trial 75 finished with value: 0.9999903821511976 and parameters: {'n_estimators': 395, 'max_depth': 6, 'learning_rate': 0.14406688427870534, 'subsample': 0.8433132066871354, 'colsample_bytree': 0.985146795380534, 'gamma': 1.4196648269385436e-07, 'min_child_weight': 1, 'reg_alpha': 0.22477538945511394, 'reg_lambda': 4.2743686187034643e-07}. Best is trial 68 with value: 0.9999917479646628.\n",
      "[I 2025-02-05 20:47:04,091] Trial 76 finished with value: 0.9999893180466777 and parameters: {'n_estimators': 418, 'max_depth': 6, 'learning_rate': 0.14640672124595688, 'subsample': 0.8449428892615494, 'colsample_bytree': 0.9852078935746903, 'gamma': 1.5090391812280618e-07, 'min_child_weight': 1, 'reg_alpha': 0.24770969338139287, 'reg_lambda': 3.704727934661036e-07}. Best is trial 68 with value: 0.9999917479646628.\n",
      "[I 2025-02-05 20:47:11,820] Trial 77 finished with value: 0.9999876927860689 and parameters: {'n_estimators': 414, 'max_depth': 6, 'learning_rate': 0.10321235275293172, 'subsample': 0.8500767872480849, 'colsample_bytree': 0.9941842654047797, 'gamma': 1.1420926908148658e-07, 'min_child_weight': 1, 'reg_alpha': 0.25605645067621446, 'reg_lambda': 6.266647897848899e-07}. Best is trial 68 with value: 0.9999917479646628.\n",
      "[I 2025-02-05 20:47:18,419] Trial 78 finished with value: 0.9999820185129953 and parameters: {'n_estimators': 400, 'max_depth': 6, 'learning_rate': 0.14076249110954236, 'subsample': 0.794490476052551, 'colsample_bytree': 0.9792556175664195, 'gamma': 2.6519961269877574e-08, 'min_child_weight': 9, 'reg_alpha': 0.47402385055372315, 'reg_lambda': 3.014890765300298e-06}. Best is trial 68 with value: 0.9999917479646628.\n",
      "[I 2025-02-05 20:47:25,993] Trial 79 finished with value: 0.9999883382853532 and parameters: {'n_estimators': 426, 'max_depth': 6, 'learning_rate': 0.11443191007242556, 'subsample': 0.8736870100359083, 'colsample_bytree': 0.9642718440533122, 'gamma': 6.644519579204672e-08, 'min_child_weight': 1, 'reg_alpha': 0.08908366422252521, 'reg_lambda': 3.37593653922993e-07}. Best is trial 68 with value: 0.9999917479646628.\n",
      "[I 2025-02-05 20:47:33,270] Trial 80 finished with value: 0.9999866398181654 and parameters: {'n_estimators': 392, 'max_depth': 6, 'learning_rate': 0.16629800661621855, 'subsample': 0.8367727180710458, 'colsample_bytree': 0.9952538091001708, 'gamma': 1.468989819351228e-07, 'min_child_weight': 1, 'reg_alpha': 0.9592623641956306, 'reg_lambda': 2.2007876171339262e-07}. Best is trial 68 with value: 0.9999917479646628.\n",
      "[I 2025-02-05 20:47:40,673] Trial 81 finished with value: 0.9999871263189201 and parameters: {'n_estimators': 370, 'max_depth': 7, 'learning_rate': 0.14802942616209067, 'subsample': 0.8843369062123784, 'colsample_bytree': 0.9345441122459656, 'gamma': 4.0130141137637254e-08, 'min_child_weight': 1, 'reg_alpha': 0.15974893672752752, 'reg_lambda': 1.5936611351794124e-06}. Best is trial 68 with value: 0.9999917479646628.\n",
      "[I 2025-02-05 20:47:48,028] Trial 82 finished with value: 0.9999895448156289 and parameters: {'n_estimators': 346, 'max_depth': 7, 'learning_rate': 0.12239817129905398, 'subsample': 0.8253998068549904, 'colsample_bytree': 0.9565420982109967, 'gamma': 1.6899817337782729e-07, 'min_child_weight': 1, 'reg_alpha': 0.20918011004012996, 'reg_lambda': 7.27843409905611e-06}. Best is trial 68 with value: 0.9999917479646628.\n",
      "[I 2025-02-05 20:47:54,984] Trial 83 finished with value: 0.9999879096474538 and parameters: {'n_estimators': 381, 'max_depth': 6, 'learning_rate': 0.13091326100488018, 'subsample': 0.8289024847333175, 'colsample_bytree': 0.9618950046921725, 'gamma': 5.7618492038772653e-08, 'min_child_weight': 1, 'reg_alpha': 0.19992106927819422, 'reg_lambda': 4.153837074050205e-07}. Best is trial 68 with value: 0.9999917479646628.\n",
      "[I 2025-02-05 20:48:01,308] Trial 84 finished with value: 0.9999870819786105 and parameters: {'n_estimators': 332, 'max_depth': 6, 'learning_rate': 0.09050057750609751, 'subsample': 0.8173625290682289, 'colsample_bytree': 0.97403602752171, 'gamma': 3.779734640910377e-07, 'min_child_weight': 2, 'reg_alpha': 0.48654691904525316, 'reg_lambda': 4.217844629386563e-06}. Best is trial 68 with value: 0.9999917479646628.\n",
      "[I 2025-02-05 20:48:09,137] Trial 85 finished with value: 0.9999867848601366 and parameters: {'n_estimators': 363, 'max_depth': 7, 'learning_rate': 0.06640656124930029, 'subsample': 0.9121654901089339, 'colsample_bytree': 0.9438808359392383, 'gamma': 1.8400882473964152e-07, 'min_child_weight': 2, 'reg_alpha': 0.07177832515573891, 'reg_lambda': 1.2403779952614238e-05}. Best is trial 68 with value: 0.9999917479646628.\n",
      "[I 2025-02-05 20:48:16,929] Trial 86 finished with value: 0.9999881756704164 and parameters: {'n_estimators': 417, 'max_depth': 6, 'learning_rate': 0.07426633778742359, 'subsample': 0.8465700824161785, 'colsample_bytree': 0.9875117499992753, 'gamma': 1.1663000652338723e-08, 'min_child_weight': 1, 'reg_alpha': 0.03676685516630389, 'reg_lambda': 5.6719563345328845e-08}. Best is trial 68 with value: 0.9999917479646628.\n",
      "[I 2025-02-05 20:48:23,520] Trial 87 finished with value: 0.9999899339239932 and parameters: {'n_estimators': 343, 'max_depth': 6, 'learning_rate': 0.1251170654000845, 'subsample': 0.8626652506077326, 'colsample_bytree': 0.9241850577803248, 'gamma': 1.0037364785520188e-07, 'min_child_weight': 1, 'reg_alpha': 0.33448293743479973, 'reg_lambda': 1.026983530080814e-06}. Best is trial 68 with value: 0.9999917479646628.\n",
      "[I 2025-02-05 20:48:30,636] Trial 88 finished with value: 0.9999897298331973 and parameters: {'n_estimators': 346, 'max_depth': 7, 'learning_rate': 0.12438415293226134, 'subsample': 0.8630183000172694, 'colsample_bytree': 0.9229260292411028, 'gamma': 9.734611294430992e-08, 'min_child_weight': 2, 'reg_alpha': 0.3332709270318249, 'reg_lambda': 8.675164026658318e-07}. Best is trial 68 with value: 0.9999917479646628.\n",
      "[I 2025-02-05 20:48:37,974] Trial 89 finished with value: 0.9999887457743294 and parameters: {'n_estimators': 345, 'max_depth': 7, 'learning_rate': 0.12123399889527338, 'subsample': 0.8630882675313156, 'colsample_bytree': 0.9243534754014873, 'gamma': 2.3310454717796757e-08, 'min_child_weight': 2, 'reg_alpha': 0.5554933382300279, 'reg_lambda': 9.689493034236609e-07}. Best is trial 68 with value: 0.9999917479646628.\n",
      "[I 2025-02-05 20:48:45,161] Trial 90 finished with value: 0.9999882968362662 and parameters: {'n_estimators': 332, 'max_depth': 7, 'learning_rate': 0.09883179433767408, 'subsample': 0.8896389896170511, 'colsample_bytree': 0.9107445431289801, 'gamma': 9.005222817130566e-08, 'min_child_weight': 2, 'reg_alpha': 0.3349951160411142, 'reg_lambda': 1.6279296614116657e-07}. Best is trial 68 with value: 0.9999917479646628.\n",
      "[I 2025-02-05 20:48:51,335] Trial 91 finished with value: 0.9999893064738306 and parameters: {'n_estimators': 313, 'max_depth': 6, 'learning_rate': 0.10787751624916173, 'subsample': 0.8086242697255737, 'colsample_bytree': 0.9551483659042072, 'gamma': 3.856766703723151e-08, 'min_child_weight': 1, 'reg_alpha': 0.23791250552476242, 'reg_lambda': 8.466901321352352e-06}. Best is trial 68 with value: 0.9999917479646628.\n",
      "[I 2025-02-05 20:48:58,540] Trial 92 finished with value: 0.999988934554603 and parameters: {'n_estimators': 361, 'max_depth': 7, 'learning_rate': 0.1483362140277093, 'subsample': 0.8689151206124235, 'colsample_bytree': 0.9112135256372649, 'gamma': 1.3949851592004294e-07, 'min_child_weight': 1, 'reg_alpha': 0.10972685805086006, 'reg_lambda': 2.5487750819648424e-08}. Best is trial 68 with value: 0.9999917479646628.\n",
      "[I 2025-02-05 20:49:05,236] Trial 93 finished with value: 0.9999877227523796 and parameters: {'n_estimators': 328, 'max_depth': 6, 'learning_rate': 0.12818795087035775, 'subsample': 0.7857670936658435, 'colsample_bytree': 0.9693290651747455, 'gamma': 3.65510743996462e-07, 'min_child_weight': 1, 'reg_alpha': 0.9031478981274405, 'reg_lambda': 9.799770048187786e-07}. Best is trial 68 with value: 0.9999917479646628.\n",
      "[I 2025-02-05 20:49:11,910] Trial 94 finished with value: 0.99998803988211 and parameters: {'n_estimators': 349, 'max_depth': 7, 'learning_rate': 0.2155148051775544, 'subsample': 0.8467948236627019, 'colsample_bytree': 0.9420777666168344, 'gamma': 5.425272938250388e-08, 'min_child_weight': 1, 'reg_alpha': 0.1698887341415201, 'reg_lambda': 2.4620300322541886e-06}. Best is trial 68 with value: 0.9999917479646628.\n",
      "[I 2025-02-05 20:49:28,568] Trial 95 finished with value: 0.9999863063132785 and parameters: {'n_estimators': 440, 'max_depth': 6, 'learning_rate': 0.1658397070496732, 'subsample': 0.8254292026207601, 'colsample_bytree': 0.9548837180300236, 'gamma': 2.2874984794657815e-07, 'min_child_weight': 2, 'reg_alpha': 0.052511339324261636, 'reg_lambda': 7.321621222473969e-08}. Best is trial 68 with value: 0.9999917479646628.\n",
      "[I 2025-02-05 20:49:36,072] Trial 96 finished with value: 0.9999900302804224 and parameters: {'n_estimators': 402, 'max_depth': 6, 'learning_rate': 0.11009115220601341, 'subsample': 0.8826307201497228, 'colsample_bytree': 0.9294694247517202, 'gamma': 9.518443680836618e-08, 'min_child_weight': 1, 'reg_alpha': 0.3542430979155386, 'reg_lambda': 4.835408893918388e-07}. Best is trial 68 with value: 0.9999917479646628.\n",
      "[I 2025-02-05 20:49:42,551] Trial 97 finished with value: 0.9999856545931393 and parameters: {'n_estimators': 404, 'max_depth': 5, 'learning_rate': 0.0843584257041327, 'subsample': 0.8827430099667677, 'colsample_bytree': 0.9271499260455701, 'gamma': 1.5087867655864175e-08, 'min_child_weight': 1, 'reg_alpha': 0.3849496669426001, 'reg_lambda': 6.615527805957312e-07}. Best is trial 68 with value: 0.9999917479646628.\n",
      "[I 2025-02-05 20:49:49,488] Trial 98 finished with value: 0.9999871450778158 and parameters: {'n_estimators': 388, 'max_depth': 6, 'learning_rate': 0.111513991281181, 'subsample': 0.9028244182720577, 'colsample_bytree': 0.9344000915551983, 'gamma': 7.842961180517209e-07, 'min_child_weight': 2, 'reg_alpha': 0.07526511098299225, 'reg_lambda': 1.6915508471091567e-07}. Best is trial 68 with value: 0.9999917479646628.\n",
      "[I 2025-02-05 20:49:55,369] Trial 99 finished with value: 0.9997933613928435 and parameters: {'n_estimators': 379, 'max_depth': 5, 'learning_rate': 0.022923458566821497, 'subsample': 0.8579830355326835, 'colsample_bytree': 0.9138295634527281, 'gamma': 1.0053244152688184e-07, 'min_child_weight': 1, 'reg_alpha': 0.6108175728230248, 'reg_lambda': 1.4517517042761568e-06}. Best is trial 68 with value: 0.9999917479646628.\n"
     ]
    },
    {
     "name": "stdout",
     "output_type": "stream",
     "text": [
      "Best Parameters: {'n_estimators': 375, 'max_depth': 6, 'learning_rate': 0.17369367999169733, 'subsample': 0.8546848066212989, 'colsample_bytree': 0.8950730116446355, 'gamma': 1.1637522263226727e-07, 'min_child_weight': 1, 'reg_alpha': 0.2869749898165918, 'reg_lambda': 4.146706685327304e-07}\n",
      "Best ROC AUC Score: 0.9999917479646628\n"
     ]
    }
   ],
   "source": [
    "# Run Optuna to find the best hyperparameters\n",
    "study = optuna.create_study(direction='maximize')\n",
    "study.optimize(objective, n_trials=100)\n",
    "\n",
    "# Print the best parameters and the best score\n",
    "print('Best Parameters:', study.best_params)\n",
    "print('Best ROC AUC Score:', study.best_value)"
   ]
  },
  {
   "cell_type": "code",
   "execution_count": 43,
   "id": "be1a4f94-bb4d-4045-ba2f-89a6c2bbd813",
   "metadata": {},
   "outputs": [],
   "source": [
    "# Train the final model with the best parameters\n",
    "best_params = study.best_params\n",
    "best_model = XGBClassifier(**best_params, random_state=42, device='cuda')\n",
    "best_model.fit(X_train, y_train)"
   ]
  },
  {
   "cell_type": "code",
   "execution_count": 53,
   "id": "f893f5e4-f03f-4d7f-b11e-330949b4110a",
   "metadata": {},
   "outputs": [
    {
     "data": {
      "text/plain": [
       "['../models/clf_xgb.pkl']"
      ]
     },
     "execution_count": 53,
     "metadata": {},
     "output_type": "execute_result"
    }
   ],
   "source": [
    "import joblib\n",
    "\n",
    "joblib.dump(best_model, os.path.join(model_dir, 'clf_xgb.pkl'))"
   ]
  },
  {
   "cell_type": "code",
   "execution_count": null,
   "id": "5d9923a0-1461-40aa-9234-72fa277d9e64",
   "metadata": {},
   "outputs": [],
   "source": []
  }
 ],
 "metadata": {
  "kernelspec": {
   "display_name": "Python 3 (ipykernel)",
   "language": "python",
   "name": "python3"
  },
  "language_info": {
   "codemirror_mode": {
    "name": "ipython",
    "version": 3
   },
   "file_extension": ".py",
   "mimetype": "text/x-python",
   "name": "python",
   "nbconvert_exporter": "python",
   "pygments_lexer": "ipython3",
   "version": "3.12.7"
  }
 },
 "nbformat": 4,
 "nbformat_minor": 5
}
