{
 "cells": [
  {
   "cell_type": "code",
   "execution_count": 1,
   "id": "f32cdad0-cbf0-4c8a-81f5-81f236381be4",
   "metadata": {},
   "outputs": [],
   "source": [
    "import os\n",
    "import pandas as pd\n",
    "import numpy as np\n",
    "import mlflow\n",
    "from sklearn.feature_selection import SelectKBest, mutual_info_classif, RFE\n",
    "from xgboost import XGBClassifier\n",
    "import shap\n",
    "import matplotlib.pyplot as plt"
   ]
  },
  {
   "cell_type": "code",
   "execution_count": 2,
   "id": "68d44402-3cf5-4bda-9128-2de2994bd3b8",
   "metadata": {},
   "outputs": [
    {
     "name": "stderr",
     "output_type": "stream",
     "text": [
      "2025/02/06 00:14:43 INFO mlflow.tracking.fluent: Experiment with name 'CreditCardFraudFeatureSelection' does not exist. Creating a new experiment.\n"
     ]
    },
    {
     "data": {
      "text/plain": [
       "<Experiment: artifact_location='file:///home/nick/Documents/code/fraud-detection-mlops/mlflow/mlruns/839867756831717012', creation_time=1738754083254, experiment_id='839867756831717012', last_update_time=1738754083254, lifecycle_stage='active', name='CreditCardFraudFeatureSelection', tags={}>"
      ]
     },
     "execution_count": 2,
     "metadata": {},
     "output_type": "execute_result"
    }
   ],
   "source": [
    "mlflow.set_tracking_uri(\"file:///home/nick/Documents/code/fraud-detection-mlops/mlflow/mlruns\")\n",
    "experiment_name = \"CreditCardFraudFeatureSelection\"\n",
    "mlflow.set_experiment(experiment_name)"
   ]
  },
  {
   "cell_type": "code",
   "execution_count": 3,
   "id": "b518d86f-a72a-43c3-ba65-97ff7a8ed6d2",
   "metadata": {},
   "outputs": [],
   "source": [
    "processed_data_dir = '../data/processed'\n",
    "engineered_data_dir = '../data/engineered'\n",
    "feature_selected_data_dir = '../data/selected'"
   ]
  },
  {
   "cell_type": "code",
   "execution_count": 5,
   "id": "5f806b53-35ad-4586-a469-1f991f005226",
   "metadata": {},
   "outputs": [
    {
     "name": "stdout",
     "output_type": "stream",
     "text": [
      "MLflow run completed.\n"
     ]
    }
   ],
   "source": [
    "with mlflow.start_run():\n",
    "    # Load autoencoder-enriched data\n",
    "    X_train = pd.read_csv(os.path.join(engineered_data_dir, 'X_train_enriched.csv'))\n",
    "    y_train = pd.read_csv(os.path.join(processed_data_dir, 'y_train.csv'))\n",
    "    X_val = pd.read_csv(os.path.join(engineered_data_dir, 'X_val_enriched.csv'))\n",
    "    y_val = pd.read_csv(os.path.join(processed_data_dir, 'y_val.csv'))\n",
    "    X_test = pd.read_csv(os.path.join(engineered_data_dir, 'X_test_enriched.csv'))\n",
    "\n",
    "    # Log basic information about the dataset\n",
    "    mlflow.log_param(\"num_rows_train\", X_train.shape[0])\n",
    "    mlflow.log_param(\"num_columns_train\", X_train.shape[1])\n",
    "    mlflow.log_param(\"num_rows_val\", X_val.shape[0])\n",
    "    mlflow.log_param(\"num_columns_val\", X_val.shape[1])\n",
    "\n",
    "    # Mutual Information Feature Selection\n",
    "    selector_mi = SelectKBest(mutual_info_classif, k=25)\n",
    "    X_train_mi = selector_mi.fit_transform(X_train, y_train.values.ravel())\n",
    "    X_val_mi = selector_mi.transform(X_val)\n",
    "    mi_mask = selector_mi.get_support()\n",
    "    selected_features_mi = X_train.columns[mi_mask]\n",
    "    mlflow.log_param(\"num_features_mi\", len(selected_features_mi))\n",
    "\n",
    "    # RFE Feature Selection\n",
    "    fraud_ratio = sum(y_train.values) / len(y_train)\n",
    "    scale_pos_weight = ((1 - fraud_ratio) / fraud_ratio)[0]\n",
    "    estimator = XGBClassifier(\n",
    "        scale_pos_weight=scale_pos_weight,\n",
    "        subsample=0.8,\n",
    "        random_state=42,\n",
    "        device='cuda'\n",
    "    )\n",
    "    selector_rfe = RFE(estimator, n_features_to_select=25, step=10)\n",
    "    selector_rfe.fit(X_train, y_train)\n",
    "    rfe_mask = selector_rfe.support_\n",
    "    selected_features_rfe = X_train.columns[rfe_mask]\n",
    "    mlflow.log_param(\"num_features_rfe\", len(selected_features_rfe))\n",
    "\n",
    "    # SHAP Feature Selection\n",
    "    model_shap = XGBClassifier(scale_pos_weight=scale_pos_weight, device='cuda').fit(X_train, y_train)\n",
    "    explainer = shap.TreeExplainer(model_shap)\n",
    "    shap_values = explainer.shap_values(X_train)\n",
    "    shap_importances = np.abs(shap_values).mean(axis=0)\n",
    "    feature_idx = np.argsort(shap_importances)[-20:]\n",
    "    selected_features_shap = X_train.columns[feature_idx]\n",
    "    mlflow.log_param(\"num_features_shap\", len(selected_features_shap))\n",
    "\n",
    "    # Plot SHAP summary\n",
    "    shap.summary_plot(shap_values, X_train, feature_names=X_train.columns, show=False)\n",
    "    shap_summary_path = os.path.join(feature_selected_data_dir, 'shap_summary.png')\n",
    "    plt.savefig(shap_summary_path)\n",
    "    plt.close()\n",
    "    mlflow.log_artifact(shap_summary_path)\n",
    "\n",
    "    # Create voting system (features selected by >= 2 methods)\n",
    "    selection_matrix = pd.DataFrame({\n",
    "        'MI': mi_mask,\n",
    "        'RFE': rfe_mask,\n",
    "        'SHAP': [col in selected_features_shap for col in X_train.columns],\n",
    "    })\n",
    "    final_selection = selection_matrix.sum(axis=1) >= 2\n",
    "    selected_features = X_train.columns[final_selection]\n",
    "    mlflow.log_param(\"num_final_features\", len(selected_features))\n",
    "\n",
    "    # Filter datasets\n",
    "    X_train_selected = X_train[selected_features]\n",
    "    X_val_selected = X_val[selected_features]\n",
    "    X_test_selected = X_test[selected_features]\n",
    "\n",
    "    # Save selected features and datasets\n",
    "    selected_features.to_series().to_csv(os.path.join(feature_selected_data_dir, 'selected_features.csv'), index=False)\n",
    "    X_train_selected.to_csv(os.path.join(feature_selected_data_dir, 'X_train_selected.csv'), index=False)\n",
    "    X_val_selected.to_csv(os.path.join(feature_selected_data_dir, 'X_val_selected.csv'), index=False)\n",
    "    X_test_selected.to_csv(os.path.join(feature_selected_data_dir, 'X_test_selected.csv'), index=False)\n",
    "\n",
    "    # Log artifacts\n",
    "    mlflow.log_artifact(os.path.join(feature_selected_data_dir, 'selected_features.csv'))\n",
    "    mlflow.log_artifact(os.path.join(feature_selected_data_dir, 'X_train_selected.csv'))\n",
    "    mlflow.log_artifact(os.path.join(feature_selected_data_dir, 'X_val_selected.csv'))\n",
    "    mlflow.log_artifact(os.path.join(feature_selected_data_dir, 'X_test_selected.csv'))\n",
    "\n",
    "print(\"MLflow run completed.\")"
   ]
  },
  {
   "cell_type": "code",
   "execution_count": null,
   "id": "625eae9e-4e3b-4c2f-be1a-386dcb3190e1",
   "metadata": {},
   "outputs": [],
   "source": []
  }
 ],
 "metadata": {
  "kernelspec": {
   "display_name": "Python 3 (ipykernel)",
   "language": "python",
   "name": "python3"
  },
  "language_info": {
   "codemirror_mode": {
    "name": "ipython",
    "version": 3
   },
   "file_extension": ".py",
   "mimetype": "text/x-python",
   "name": "python",
   "nbconvert_exporter": "python",
   "pygments_lexer": "ipython3",
   "version": "3.12.7"
  }
 },
 "nbformat": 4,
 "nbformat_minor": 5
}
