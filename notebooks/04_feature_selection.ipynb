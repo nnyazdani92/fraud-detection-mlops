{
 "cells": [
  {
   "cell_type": "code",
   "execution_count": 12,
   "id": "15a00821-5182-4ff7-8a77-4655282d4da5",
   "metadata": {},
   "outputs": [],
   "source": [
    "import sys\n",
    "import mlflow\n",
    "import numpy as np\n",
    "import pandas as pd\n",
    "import shap\n",
    "import matplotlib.pyplot as plt\n",
    "from pathlib import Path\n",
    "from tempfile import TemporaryDirectory\n",
    "from sklearn.feature_selection import SelectKBest, mutual_info_classif, RFE\n",
    "from xgboost import XGBClassifier\n",
    "\n",
    "sys.path.append('..')\n",
    "from src.mlflow_utils import configure_mlflow, find_latest_run_id_by_experiment_and_stage, get_targets, get_data, load_config"
   ]
  },
  {
   "cell_type": "code",
   "execution_count": 13,
   "id": "3b8ec5a5-5f7c-4a33-9d40-664d7b014d1f",
   "metadata": {},
   "outputs": [],
   "source": [
    "CONFIG = load_config()"
   ]
  },
  {
   "cell_type": "code",
   "execution_count": 16,
   "id": "01d008ae-5f4e-48b3-9a98-502604956e28",
   "metadata": {},
   "outputs": [],
   "source": [
    "def log_feature_selection_artifacts(features: list[str], datasets: dict[str, pd.DataFrame], artifacts, split_dirs) -> None:\n",
    "    \"\"\"Log selected features and datasets to MLflow\"\"\"\n",
    "    with TemporaryDirectory() as tmp_dir:\n",
    "        # Save feature list\n",
    "        feature_path = Path(tmp_dir) / \"selected_features.json\"\n",
    "        pd.Series(features).to_json(feature_path)\n",
    "        mlflow.log_artifact(feature_path, artifacts[\"selected\"])\n",
    "        \n",
    "        # Save datasets\n",
    "        for (name, data), split_dir in zip(datasets.items(), split_dirs):\n",
    "            data_path = Path(tmp_dir) / f\"{name}.parquet\"\n",
    "            data.to_parquet(data_path)\n",
    "            mlflow.log_artifact(data_path, f\"{artifacts[\"selected\"]}/{split_dir}\")"
   ]
  },
  {
   "cell_type": "code",
   "execution_count": 17,
   "id": "cf2a244d-b978-45fc-bb12-a3a0cb0747d3",
   "metadata": {},
   "outputs": [],
   "source": [
    "def mutual_info_feature_selection(X_train, y_train):\n",
    "    # Mutual Information Feature Selection\n",
    "    selector_mi = SelectKBest(mutual_info_classif, k=25)\n",
    "    X_train_mi = selector_mi.fit_transform(X_train, y_train.values.ravel())\n",
    "    mi_mask = selector_mi.get_support()\n",
    "    selected_features_mi = X_train.columns[mi_mask]\n",
    "    mlflow.log_param(\"num_features_mi\", len(selected_features_mi))\n",
    "    return selected_features_mi, mi_mask"
   ]
  },
  {
   "cell_type": "code",
   "execution_count": 18,
   "id": "4fb9e268-7e8d-416e-9d3e-db31683bd11d",
   "metadata": {},
   "outputs": [],
   "source": [
    "def calculate_scale_pos_weight(y_train) -> float:\n",
    "    fraud_ratio = sum(y_train.values) / len(y_train)\n",
    "    scale_pos_weight = ((1 - fraud_ratio) / fraud_ratio)\n",
    "    return scale_pos_weight"
   ]
  },
  {
   "cell_type": "code",
   "execution_count": 19,
   "id": "207d13aa-0232-49d2-9c34-9df06153b084",
   "metadata": {},
   "outputs": [],
   "source": [
    "def rfe_feature_selection(X_train, y_train):    \n",
    "    scale_pos_weight = calculate_scale_pos_weight(y_train)\n",
    "    estimator = XGBClassifier(\n",
    "        scale_pos_weight=scale_pos_weight,\n",
    "        subsample=0.8,\n",
    "        random_state=42,\n",
    "        device='cuda'\n",
    "    )\n",
    "    selector_rfe = RFE(estimator, n_features_to_select=25, step=10)\n",
    "    selector_rfe.fit(X_train, y_train)\n",
    "    rfe_mask = selector_rfe.support_\n",
    "    selected_features_rfe = X_train.columns[rfe_mask]\n",
    "    mlflow.log_param(\"num_features_rfe\", len(selected_features_rfe))\n",
    "    return selected_features_rfe, rfe_mask"
   ]
  },
  {
   "cell_type": "code",
   "execution_count": 20,
   "id": "60b25790-5f84-4499-8653-4a92d97918e6",
   "metadata": {},
   "outputs": [],
   "source": [
    "def shap_feature_selection(X_train, y_train):\n",
    "    scale_pos_weight = calculate_scale_pos_weight(y_train)\n",
    "    model_shap = XGBClassifier(scale_pos_weight=scale_pos_weight, device='cuda').fit(X_train, y_train)\n",
    "    explainer = shap.TreeExplainer(model_shap)\n",
    "    shap_values = explainer.shap_values(X_train)\n",
    "    shap_importances = np.abs(shap_values).mean(axis=0)\n",
    "    feature_idx = np.argsort(shap_importances)[-20:]\n",
    "    selected_features_shap = X_train.columns[feature_idx]\n",
    "    mlflow.log_param(\"num_features_shap\", len(selected_features_shap))\n",
    "    return selected_features_shap, shap_values"
   ]
  },
  {
   "cell_type": "code",
   "execution_count": 21,
   "id": "3158c372-f919-488b-9519-664ada687a23",
   "metadata": {},
   "outputs": [],
   "source": [
    "def plot_shap_summary(shap_values, X_train):\n",
    "    shap.summary_plot(shap_values, X_train, feature_names=X_train.columns, show=False)\n",
    "    with TemporaryDirectory() as tmp_dir:\n",
    "        shap_summary_path = Path(tmp_dir) / \"shap_summary.png\"\n",
    "        plt.savefig(shap_summary_path)\n",
    "        plt.close()\n",
    "        mlflow.log_artifact(shap_summary_path)"
   ]
  },
  {
   "cell_type": "code",
   "execution_count": 22,
   "id": "d2cf5b0e-f454-4535-8743-ef95f301de49",
   "metadata": {},
   "outputs": [],
   "source": [
    "def select_and_log_features(mi_mask, rfe_mask, selected_features_shap, X_train, X_val, X_test, artifacts, split_dirs):\n",
    "    # Create voting system (features selected by >= 2 methods)\n",
    "    selected_features_mi = X_train.columns[mi_mask]\n",
    "    selected_features_rfe = X_train.columns[rfe_mask]\n",
    "    selection_matrix = pd.DataFrame({\n",
    "        'MI': mi_mask,\n",
    "        'RFE': rfe_mask,\n",
    "        'SHAP': [col in selected_features_shap for col in X_train.columns],\n",
    "    })\n",
    "\n",
    "    final_selection = selection_matrix.sum(axis=1) >= 2\n",
    "    selected_features = X_train.columns[final_selection]        \n",
    "    \n",
    "    # Log selection metrics\n",
    "    mlflow.log_metrics({\n",
    "        \"mi_features_selected\": len(selected_features_mi),\n",
    "        \"rfe_features_selected\": len(selected_features_rfe),\n",
    "        \"shap_features_selected\": len(selected_features_shap),\n",
    "        \"final_features_selected\": len(selected_features)\n",
    "    })\n",
    "    \n",
    "    # Save and log final features\n",
    "    selected_data = {\n",
    "        \"X_train\": X_train[selected_features],\n",
    "        \"X_val\": X_val[selected_features],\n",
    "        \"X_test\": X_test[selected_features]\n",
    "    }\n",
    "    log_feature_selection_artifacts(selected_features, selected_data, artifacts, split_dirs)\n",
    "\n",
    "    with TemporaryDirectory() as tmp_dir:\n",
    "        # Log feature matrix\n",
    "        selection_matrix.to_parquet(Path(tmp_dir) / \"selection_matrix.parquet\")\n",
    "        mlflow.log_artifact(Path(tmp_dir) / \"selection_matrix.parquet\", \"reports\")"
   ]
  },
  {
   "cell_type": "code",
   "execution_count": 23,
   "id": "3ed77db9-9423-4da6-be31-18721184bc0f",
   "metadata": {},
   "outputs": [],
   "source": [
    "def feature_selection_pipeline(config):\n",
    "    with TemporaryDirectory() as tmp_dir:\n",
    "        mlflow.set_tags({\n",
    "            \"stage\": \"feature_selection\",\n",
    "            \"model_type\": \"ensemble_selector\"\n",
    "        })\n",
    "\n",
    "        preprocessing_experiment_name = config[\"experiment_names\"][\"preprocessing\"]\n",
    "        fe_experiment_name = config[\"experiment_names\"][\"feature_engineering\"]\n",
    "\n",
    "        # Find parent runs\n",
    "        preprocessing_run_id = find_latest_run_id_by_experiment_and_stage(preprocessing_experiment_name, config[\"run_names\"][\"preprocessing\"])\n",
    "        fe_run_id = find_latest_run_id_by_experiment_and_stage(fe_experiment_name, config[\"run_names\"][\"feature_engineering\"])\n",
    "\n",
    "        # Log lineage\n",
    "        mlflow.log_params({\n",
    "            \"preprocessing_run_id\": preprocessing_run_id,\n",
    "            \"feature_engineering_run_id\": fe_run_id\n",
    "        })\n",
    "\n",
    "        # Load data from MLflow\n",
    "        engineered_data = get_data(fe_run_id, config[\"dataset\"], config[\"artifacts\"][\"data\"][\"engineered\"])\n",
    "        targets = get_targets(preprocessing_run_id, config[\"dataset\"])\n",
    "\n",
    "        # Dataset preparation\n",
    "        X_train, y_train = engineered_data[\"X_train\"], targets[\"y_train\"]\n",
    "        X_val, y_val = engineered_data[\"X_val\"], targets[\"y_val\"]\n",
    "        X_test = engineered_data[\"X_test\"]\n",
    "\n",
    "        # Log dataset characteristics\n",
    "        mlflow.log_metrics({\n",
    "            \"original_features\": X_train.shape[1],\n",
    "            \"class_ratio\": y_train.mean()\n",
    "        })\n",
    "\n",
    "        _, mi_mask = mutual_info_feature_selection(X_train, y_train)\n",
    "        _ , rfe_mask = rfe_feature_selection(X_train, y_train)\n",
    "        selected_features_shap, shap_values = shap_feature_selection(X_train, y_train)\n",
    "        plot_shap_summary(shap_values, X_train)\n",
    "\n",
    "        artifacts = config[\"artifacts\"][\"data\"]\n",
    "        split_dirs = config[\"dataset\"][\"split_dirs\"]\n",
    "        select_and_log_features(mi_mask, rfe_mask, selected_features_shap, X_train, X_val, X_test, artifacts, split_dirs)\n",
    "        \n",
    "        # Log configuration\n",
    "        mlflow.log_dict(config, \"feature_selection_config.json\")"
   ]
  },
  {
   "cell_type": "code",
   "execution_count": 24,
   "id": "047e37c9-e298-4e9c-8af4-08b33f6f8202",
   "metadata": {},
   "outputs": [
    {
     "name": "stdout",
     "output_type": "stream",
     "text": [
      "Feature selection pipeline completed. Run ID: 9f003c5e0c5943399342b82f8e2576d2\n"
     ]
    }
   ],
   "source": [
    "if __name__ == \"__main__\":\n",
    "    experiment_name = CONFIG[\"experiment_names\"][\"feature_selection\"]\n",
    "    run_name = CONFIG[\"run_names\"][\"feature_selection\"]\n",
    "    configure_mlflow(experiment_name)\n",
    "    with mlflow.start_run(run_name=run_name):\n",
    "        feature_selection_pipeline(CONFIG)\n",
    "        print(\"Feature selection pipeline completed. Run ID:\", mlflow.active_run().info.run_id)"
   ]
  },
  {
   "cell_type": "code",
   "execution_count": null,
   "id": "54801b53-5f8b-47f3-a663-8308c909df27",
   "metadata": {},
   "outputs": [],
   "source": []
  }
 ],
 "metadata": {
  "kernelspec": {
   "display_name": "Python 3 (ipykernel)",
   "language": "python",
   "name": "python3"
  },
  "language_info": {
   "codemirror_mode": {
    "name": "ipython",
    "version": 3
   },
   "file_extension": ".py",
   "mimetype": "text/x-python",
   "name": "python",
   "nbconvert_exporter": "python",
   "pygments_lexer": "ipython3",
   "version": "3.12.7"
  }
 },
 "nbformat": 4,
 "nbformat_minor": 5
}
