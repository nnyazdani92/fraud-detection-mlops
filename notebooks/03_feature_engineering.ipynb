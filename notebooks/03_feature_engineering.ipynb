{
 "cells": [
  {
   "cell_type": "code",
   "execution_count": 1,
   "id": "facf64e0-056b-4cc4-bda6-1c99a8072c4e",
   "metadata": {},
   "outputs": [
    {
     "data": {
      "text/plain": [
       "True"
      ]
     },
     "execution_count": 1,
     "metadata": {},
     "output_type": "execute_result"
    }
   ],
   "source": [
    "import os\n",
    "import sys\n",
    "import mlflow\n",
    "import pandas as pd\n",
    "import torch\n",
    "import torch.nn as nn\n",
    "import joblib\n",
    "import matplotlib.pyplot as plt\n",
    "from pathlib import Path\n",
    "from tempfile import TemporaryDirectory\n",
    "from typing import Tuple, Dict\n",
    "from torch.utils.data import TensorDataset, DataLoader\n",
    "from mlflow.tracking import MlflowClient\n",
    "from mlflow.entities import ViewType\n",
    "from tqdm.notebook import tqdm\n",
    "\n",
    "sys.path.append('..')\n",
    "from dotenv import load_dotenv\n",
    "from src.mlflow_init import configure_mlflow\n",
    "\n",
    "load_dotenv()"
   ]
  },
  {
   "cell_type": "code",
   "execution_count": 2,
   "id": "1fa21cd9-6777-4ed8-b1d0-298849b35990",
   "metadata": {},
   "outputs": [],
   "source": [
    "CONFIG = {\n",
    "    \"data_params\": {\n",
    "        \"split_dirs\": [\"training\", \"validation\", \"testing\"],\n",
    "        \"split_types\": [\"Features\", \"Target\"],\n",
    "        \"split_names\": [\"X_train\", \"X_val\", \"X_test\"]\n",
    "    },\n",
    "    \"model_params\": {\n",
    "        \"encoding_dim\": 32,\n",
    "        \"hidden_dims\": [128, 64],\n",
    "        \"dropout\": 0.2,\n",
    "    },\n",
    "    \"training_params\": {\n",
    "        \"lr\": 1e-4,\n",
    "        \"epochs\": 100,\n",
    "        \"batch_size\": 256,\n",
    "        \"weight_decay\": 1e-5,\n",
    "        \"patience\": 15\n",
    "    }\n",
    "}"
   ]
  },
  {
   "cell_type": "code",
   "execution_count": 3,
   "id": "8a66a76a-77f2-4c69-bbb5-644cafdef0e6",
   "metadata": {},
   "outputs": [],
   "source": [
    "def get_preprocessed_data(run_id: str, data_params: dict[list[str]]) -> dict:\n",
    "    \"\"\"Retrieve preprocessed data from MLflow artifacts\"\"\"\n",
    "    client = MlflowClient()\n",
    "    data = {}\n",
    "\n",
    "    for split_dir in data_params[\"split_dirs\"]:\n",
    "        for split_type in data_params[\"split_types\"]:\n",
    "            artifacts = client.list_artifacts(run_id, os.path.join(\"data/processed\", split_dir, split_type))\n",
    "                    \n",
    "            for artifact in artifacts:\n",
    "                if artifact.path.endswith(\".parquet\"):\n",
    "                    path = client.download_artifacts(run_id, artifact.path)\n",
    "                    split = artifact.path.split(\"/\")[-1].split(\".\")[0]\n",
    "                    data[split] = pd.read_parquet(path)\n",
    "        \n",
    "    return data\n",
    "\n",
    "def find_latest_preprocessing_run() -> str:\n",
    "    \"\"\"Find the latest successful preprocessing run\"\"\"\n",
    "    client = MlflowClient()\n",
    "    experiment_id = mlflow.get_experiment_by_name(\"CreditCardFraudPreprocessing\").experiment_id\n",
    "    runs = client.search_runs(\n",
    "        experiment_ids = [experiment_id],\n",
    "        filter_string=\"tags.stage='preprocessing' AND attributes.status='FINISHED'\",\n",
    "        run_view_type=ViewType.ACTIVE_ONLY,\n",
    "        max_results=1,\n",
    "        order_by=[\"attribute.start_time DESC\"]\n",
    "    )\n",
    "    return runs[0].info.run_id if runs else None"
   ]
  },
  {
   "cell_type": "code",
   "execution_count": 4,
   "id": "26645e7e-43e6-4a16-b023-995ac71415d6",
   "metadata": {},
   "outputs": [],
   "source": [
    "def log_data_characteristics(data: pd.DataFrame, prefix: str) -> None:\n",
    "    \"\"\"Log comprehensive data characteristics\"\"\"\n",
    "    mlflow.log_metrics({\n",
    "        f\"{prefix}_samples\": data.shape[0],\n",
    "        f\"{prefix}_features\": data.shape[1],\n",
    "        f\"{prefix}_nan_count\": data.isna().sum().sum()\n",
    "    })"
   ]
  },
  {
   "cell_type": "code",
   "execution_count": 5,
   "id": "681b20c9-22ca-4f33-81f2-319ce15f361b",
   "metadata": {},
   "outputs": [
    {
     "name": "stderr",
     "output_type": "stream",
     "text": [
      "/home/nick/snap/code/181/.local/share/virtualenvs/fraud-detection-mlops-5wXwr5xg/lib/python3.12/site-packages/mlflow/pyfunc/utils/data_validation.py:134: UserWarning: \u001b[33mAdd type hints to the `predict` method to enable data validation and automatic signature inference during model logging. Check https://mlflow.org/docs/latest/model/python_model.html#type-hint-usage-in-pythonmodel for more details.\u001b[0m\n",
      "  color_warning(\n"
     ]
    }
   ],
   "source": [
    "class AutoencoderMLflowWrapper(mlflow.pyfunc.PythonModel):\n",
    "    \"\"\"MLflow-compatible wrapper for Autoencoder model\"\"\"\n",
    "    def __init__(self, autoencoder, encoder):\n",
    "        super().__init__()\n",
    "        self.autoencoder = autoencoder\n",
    "        self.encoder = encoder\n",
    "        \n",
    "    def predict(self, context, model_input):\n",
    "        with torch.no_grad():\n",
    "            tensor_input = torch.FloatTensor(model_input.values)\n",
    "            return self.encoder(tensor_input).numpy()"
   ]
  },
  {
   "cell_type": "code",
   "execution_count": 6,
   "id": "d210c97a-086e-403f-a9d7-24a9c7dc667f",
   "metadata": {},
   "outputs": [],
   "source": [
    "def create_autoencoder(config: Dict, input_dim: int) -> Tuple[torch.nn.Module, torch.nn.Module]:\n",
    "    \"\"\"Autoencoder training pipeline with MLflow integration\"\"\"\n",
    "    # Model architecture\n",
    "    class Autoencoder(nn.Module):\n",
    "        def __init__(self, input_dim):\n",
    "            super().__init__()\n",
    "            self.enc1 = nn.Linear(input_dim, config[\"model_params\"][\"hidden_dims\"][0])\n",
    "            self.enc_act1 = nn.ReLU()\n",
    "            self.enc2 = nn.Linear(config[\"model_params\"][\"hidden_dims\"][0], config[\"model_params\"][\"hidden_dims\"][1])\n",
    "            self.enc_bn = nn.BatchNorm1d(config[\"model_params\"][\"hidden_dims\"][1])\n",
    "            self.enc_act2 = nn.ReLU()\n",
    "            self.enc3 = nn.Linear(config[\"model_params\"][\"hidden_dims\"][1], config[\"model_params\"][\"encoding_dim\"])\n",
    "            self.dropout = nn.Dropout(config[\"model_params\"][\"dropout\"])\n",
    "            self.dec1 = nn.Linear(config[\"model_params\"][\"encoding_dim\"], config[\"model_params\"][\"hidden_dims\"][1])\n",
    "            self.dec_act1 = nn.ReLU()\n",
    "            self.dec2 = nn.Linear(config[\"model_params\"][\"hidden_dims\"][1], config[\"model_params\"][\"hidden_dims\"][0])\n",
    "            self.dec_act2 = nn.ReLU()\n",
    "            self.dec3 = nn.Linear(config[\"model_params\"][\"hidden_dims\"][0], input_dim)\n",
    "\n",
    "        def forward(self, x):\n",
    "            enc1_out = self.enc_act1(self.enc1(x))\n",
    "            enc2_out = self.enc_act2(self.enc_bn(self.enc2(enc1_out)))\n",
    "            encoding = self.enc3(enc2_out)\n",
    "            drop = self.dropout(encoding)\n",
    "            dec1_out = self.dec_act1(self.dec1(drop))\n",
    "            dec2_in = dec1_out + enc2_out\n",
    "            dec2_out = self.dec_act2(self.dec2(dec2_in))\n",
    "            dec3_in = dec2_out + enc1_out\n",
    "            output = self.dec3(dec3_in)\n",
    "            return output\n",
    "        \n",
    "    model = Autoencoder(input_dim)\n",
    "    device = torch.device('cuda' if torch.cuda.is_available() else 'cpu')\n",
    "    model.to(device)\n",
    "    \n",
    "    # Log model architecture\n",
    "    mlflow.log_params({\n",
    "        \"input_dim\": input_dim,\n",
    "        **config[\"model_params\"],\n",
    "        \"optimizer\": \"Adam\",\n",
    "        \"loss_fn\": \"SmoothL1Loss\"\n",
    "    })\n",
    "    \n",
    "    return model, device"
   ]
  },
  {
   "cell_type": "code",
   "execution_count": 7,
   "id": "01d70ba9-294d-4a08-900f-75784cd8ad20",
   "metadata": {},
   "outputs": [],
   "source": [
    "# Define Encoder\n",
    "class Encoder(nn.Module):\n",
    "    def __init__(self, autoencoder):\n",
    "        super(Encoder, self).__init__()\n",
    "        self.enc1 = autoencoder.enc1\n",
    "        self.enc_act1 = autoencoder.enc_act1\n",
    "        self.enc2 = autoencoder.enc2\n",
    "        self.enc_bn = autoencoder.enc_bn\n",
    "        self.enc_act2 = autoencoder.enc_act2\n",
    "        self.enc3 = autoencoder.enc3\n",
    "\n",
    "    def forward(self, x):\n",
    "        x = self.enc_act1(self.enc1(x))\n",
    "        x = self.enc_act2(self.enc_bn(self.enc2(x)))\n",
    "        x = self.enc3(x)\n",
    "        return x"
   ]
  },
  {
   "cell_type": "code",
   "execution_count": 8,
   "id": "1d506614-7a47-4657-80a9-bb17e74664b0",
   "metadata": {},
   "outputs": [],
   "source": [
    "def filter_non_fraud(features, target):\n",
    "    non_fraud_mask = (target == 0).values.flatten()\n",
    "    non_fraud_features = features[non_fraud_mask]\n",
    "    return non_fraud_features"
   ]
  },
  {
   "cell_type": "code",
   "execution_count": 9,
   "id": "b1733655-f6ca-4757-b5c7-5dc2f7720fa8",
   "metadata": {},
   "outputs": [],
   "source": [
    "def train(epochs, autoencoder, train_loader, val_loader, optimizer, criterion, device, save_dir, config):\n",
    "    best_loss = float('inf')\n",
    "    patience_counter = 0\n",
    "    train_losses = []\n",
    "    val_losses = []\n",
    "    \n",
    "    epoch_bar = tqdm(range(epochs), desc='Training Autoencoder', unit='epoch')\n",
    "    for epoch in epoch_bar:\n",
    "        # Training phase\n",
    "        autoencoder.train()\n",
    "        epoch_train_loss = 0\n",
    "        for batch in tqdm(train_loader, desc=f'Epoch {epoch+1}', leave=False, unit='batch'):\n",
    "            batch = batch[0].to(device)\n",
    "            optimizer.zero_grad()\n",
    "            outputs = autoencoder(batch)\n",
    "            loss = criterion(outputs, batch)\n",
    "            loss.backward()\n",
    "            torch.nn.utils.clip_grad_norm_(autoencoder.parameters(), 1.0)\n",
    "            optimizer.step()\n",
    "            epoch_train_loss += loss.item() * batch.size(0)\n",
    "\n",
    "        # Validation phase\n",
    "        autoencoder.eval()\n",
    "        epoch_val_loss = 0\n",
    "        with torch.no_grad():\n",
    "            for batch in val_loader:\n",
    "                batch = batch[0].to(device)\n",
    "                outputs = autoencoder(batch)\n",
    "                loss = criterion(outputs, batch)\n",
    "                epoch_val_loss += loss.item() * batch.size(0)\n",
    "\n",
    "        # Calculate metrics\n",
    "        train_loss = epoch_train_loss / len(train_loader.dataset)\n",
    "        val_loss = epoch_val_loss / len(val_loader.dataset)\n",
    "        train_losses.append(train_loss)\n",
    "        val_losses.append(val_loss)\n",
    "\n",
    "        # Update progress bar\n",
    "        epoch_bar.set_postfix({\n",
    "            'Train Loss': f'{train_loss:.4f}',\n",
    "            'Val Loss': f'{val_loss:.4f}',\n",
    "            'LR': f'{optimizer.param_groups[0][\"lr\"]:.2e}'\n",
    "        })\n",
    "\n",
    "        mlflow.log_metrics({\n",
    "            \"train_loss\": train_loss,\n",
    "            \"val_loss\": val_loss,\n",
    "            \"learning_rate\": optimizer.param_groups[0]['lr']\n",
    "        }, step=epoch)\n",
    "\n",
    "        # Early stopping and model checkpointing\n",
    "        if val_loss < best_loss:\n",
    "            best_loss = val_loss\n",
    "            patience_counter = 0\n",
    "            torch.save(autoencoder.state_dict(), Path(save_dir) / \"best_model.pth\")\n",
    "        else:\n",
    "            patience_counter += 1\n",
    "            if patience_counter >= config[\"training_params\"][\"patience\"]:\n",
    "                break\n",
    "\n",
    "    return train_losses, val_losses"
   ]
  },
  {
   "cell_type": "code",
   "execution_count": 10,
   "id": "97231bff-d29d-4492-a3fe-882754dff68e",
   "metadata": {},
   "outputs": [],
   "source": [
    "def plot_history(train_losses, val_losses, figsize=(10, 5)):\n",
    "    plt.figure(figsize=figsize)\n",
    "    plt.plot(train_losses, label='Training Loss')\n",
    "    plt.plot(val_losses, label='Validation Loss')\n",
    "    plt.title('Autoencoder Training Progress')\n",
    "    plt.xlabel('Epochs')\n",
    "    plt.ylabel('MSE Loss')\n",
    "    plt.legend()\n",
    "    plt.grid(True)\n",
    "\n",
    "    with TemporaryDirectory() as tmp_dir:\n",
    "        plot_path = os.path.join(tmp_dir, \"training_history.png\")\n",
    "        plt.savefig(plot_path)\n",
    "        mlflow.log_artifact(plot_path)\n",
    "        \n",
    "    plt.close()"
   ]
  },
  {
   "cell_type": "code",
   "execution_count": 11,
   "id": "bf6f5f08-05ac-4527-966b-5c0808cf3aa3",
   "metadata": {},
   "outputs": [],
   "source": [
    "def feature_engineering_pipeline(config: dict):    \n",
    "    # Link to preprocessing run\n",
    "    preprocessing_run_id = find_latest_preprocessing_run()\n",
    "    if not preprocessing_run_id:\n",
    "        raise ValueError(\"No successful preprocessing run found\")\n",
    "        \n",
    "    mlflow.log_param(\"preprocessing_run_id\", preprocessing_run_id)\n",
    "    mlflow.set_tag(\"parent_run\", preprocessing_run_id)\n",
    "\n",
    "    # Retrieve processed data from MLflow\n",
    "    processed_data = get_preprocessed_data(preprocessing_run_id, config[\"data_params\"])\n",
    "    \n",
    "    # Log data characteristics\n",
    "    mlflow.log_metrics({\n",
    "        \"train_samples_retrieved\": processed_data[\"X_train\"].shape[0],\n",
    "        \"val_samples_retrieved\": processed_data[\"X_val\"].shape[0],\n",
    "        \"test_samples_retrieved\": processed_data[\"X_test\"].shape[0]\n",
    "    })\n",
    "\n",
    "    # Filter non-fraud cases\n",
    "    X_train_non_fraud = filter_non_fraud(processed_data[\"X_train\"], processed_data[\"y_train\"])\n",
    "    X_val_non_fraud = filter_non_fraud(processed_data[\"X_val\"], processed_data[\"y_val\"])\n",
    "\n",
    "    # Create datasets\n",
    "    train_dataset = TensorDataset(torch.tensor(X_train_non_fraud.values, dtype=torch.float32))\n",
    "    val_dataset = TensorDataset(torch.tensor(X_val_non_fraud.values, dtype=torch.float32))\n",
    "\n",
    "    batch_size = config[\"training_params\"][\"batch_size\"]\n",
    "    train_loader = DataLoader(train_dataset, batch_size=batch_size, shuffle=True, num_workers=os.cpu_count())\n",
    "    val_loader = DataLoader(val_dataset, batch_size=batch_size, num_workers=os.cpu_count())\n",
    "\n",
    "    input_dim = X_train_non_fraud.shape[1]\n",
    "\n",
    "     # Initialize model and training components\n",
    "    autoencoder, device = create_autoencoder(config, input_dim)\n",
    "    criterion = nn.SmoothL1Loss()\n",
    "    optimizer = torch.optim.Adam(\n",
    "        autoencoder.parameters(),\n",
    "        lr=config[\"training_params\"][\"lr\"],\n",
    "        weight_decay=config[\"training_params\"][\"weight_decay\"]\n",
    "    )\n",
    "    \n",
    "    # Log training configuration\n",
    "    mlflow.log_params(config[\"training_params\"])\n",
    "    mlflow.log_dict(config, \"training_config.json\")\n",
    "\n",
    "    epochs = config[\"training_params\"][\"epochs\"]\n",
    "    \n",
    "    with TemporaryDirectory() as save_dir:\n",
    "        train_losses, val_losses = train(epochs, autoencoder, train_loader, val_loader, optimizer, criterion, device, save_dir, config)\n",
    "        plot_history(train_losses, val_losses)\n",
    "        autoencoder.load_state_dict(torch.load(Path(save_dir) / \"best_model.pth\"))\n",
    "        \n",
    "    # Generate and log encoded features\n",
    "    autoencoder.eval()\n",
    "    encoder = Encoder(autoencoder).eval()\n",
    "\n",
    "    mlflow.pytorch.log_model(\n",
    "        pytorch_model=encoder,\n",
    "        artifact_path=\"encoder\",\n",
    "        registered_model_name=\"FraudEncoder\"\n",
    "    )\n",
    "    \n",
    "    with torch.no_grad():\n",
    "        with TemporaryDirectory() as tmp_dir:\n",
    "            for split in config['data_params']['split_names']:\n",
    "                tensor_data = torch.FloatTensor(processed_data[split].values).to(device)\n",
    "                encoded = encoder(tensor_data).cpu().numpy()\n",
    "                pd.DataFrame(encoded).to_parquet(Path(tmp_dir) / f\"encoded_{split}.parquet\")\n",
    "                mlflow.log_artifact(Path(tmp_dir) / f\"encoded_{split}.parquet\", \n",
    "                                  f\"engineered_features/{split}\")\n",
    "            \n",
    "    # Log environment details\n",
    "    mlflow.log_params({\n",
    "        \"pytorch_version\": torch.__version__,\n",
    "        \"cuda_available\": torch.cuda.is_available(),\n",
    "        \"device_count\": torch.cuda.device_count() if torch.cuda.is_available() else 0\n",
    "    })"
   ]
  },
  {
   "cell_type": "code",
   "execution_count": 12,
   "id": "b97b5b16-0475-4345-a147-0d46ebd899b6",
   "metadata": {},
   "outputs": [
    {
     "data": {
      "application/vnd.jupyter.widget-view+json": {
       "model_id": "7f66061a8457496195a0ee663b7d5107",
       "version_major": 2,
       "version_minor": 0
      },
      "text/plain": [
       "Training Autoencoder:   0%|          | 0/100 [00:00<?, ?epoch/s]"
      ]
     },
     "metadata": {},
     "output_type": "display_data"
    },
    {
     "data": {
      "application/vnd.jupyter.widget-view+json": {
       "model_id": "f3039c653b5c4e7597859670b0b8384d",
       "version_major": 2,
       "version_minor": 0
      },
      "text/plain": [
       "Epoch 1:   0%|          | 0/756 [00:00<?, ?batch/s]"
      ]
     },
     "metadata": {},
     "output_type": "display_data"
    },
    {
     "data": {
      "application/vnd.jupyter.widget-view+json": {
       "model_id": "1884ab2ca83548bfb68f2a6e93134874",
       "version_major": 2,
       "version_minor": 0
      },
      "text/plain": [
       "Epoch 2:   0%|          | 0/756 [00:00<?, ?batch/s]"
      ]
     },
     "metadata": {},
     "output_type": "display_data"
    },
    {
     "data": {
      "application/vnd.jupyter.widget-view+json": {
       "model_id": "08c2b398da3a48358c3654dd841da32c",
       "version_major": 2,
       "version_minor": 0
      },
      "text/plain": [
       "Epoch 3:   0%|          | 0/756 [00:00<?, ?batch/s]"
      ]
     },
     "metadata": {},
     "output_type": "display_data"
    },
    {
     "data": {
      "application/vnd.jupyter.widget-view+json": {
       "model_id": "89b9ad8ad4d44648b6efdf6d5ce542d9",
       "version_major": 2,
       "version_minor": 0
      },
      "text/plain": [
       "Epoch 4:   0%|          | 0/756 [00:00<?, ?batch/s]"
      ]
     },
     "metadata": {},
     "output_type": "display_data"
    },
    {
     "data": {
      "application/vnd.jupyter.widget-view+json": {
       "model_id": "b0ecf9e7bc104865a83add78ad607ce4",
       "version_major": 2,
       "version_minor": 0
      },
      "text/plain": [
       "Epoch 5:   0%|          | 0/756 [00:00<?, ?batch/s]"
      ]
     },
     "metadata": {},
     "output_type": "display_data"
    },
    {
     "data": {
      "application/vnd.jupyter.widget-view+json": {
       "model_id": "f613ffaf1f114fe3ab70516a44af85fc",
       "version_major": 2,
       "version_minor": 0
      },
      "text/plain": [
       "Epoch 6:   0%|          | 0/756 [00:00<?, ?batch/s]"
      ]
     },
     "metadata": {},
     "output_type": "display_data"
    },
    {
     "data": {
      "application/vnd.jupyter.widget-view+json": {
       "model_id": "80388154c6f148ddbff6aef9000b54d8",
       "version_major": 2,
       "version_minor": 0
      },
      "text/plain": [
       "Epoch 7:   0%|          | 0/756 [00:00<?, ?batch/s]"
      ]
     },
     "metadata": {},
     "output_type": "display_data"
    },
    {
     "data": {
      "application/vnd.jupyter.widget-view+json": {
       "model_id": "de586ac6219d449fa31230fa4deffbcd",
       "version_major": 2,
       "version_minor": 0
      },
      "text/plain": [
       "Epoch 8:   0%|          | 0/756 [00:00<?, ?batch/s]"
      ]
     },
     "metadata": {},
     "output_type": "display_data"
    },
    {
     "data": {
      "application/vnd.jupyter.widget-view+json": {
       "model_id": "fd09cf0d34204f57b82977ce2aa84d1e",
       "version_major": 2,
       "version_minor": 0
      },
      "text/plain": [
       "Epoch 9:   0%|          | 0/756 [00:00<?, ?batch/s]"
      ]
     },
     "metadata": {},
     "output_type": "display_data"
    },
    {
     "data": {
      "application/vnd.jupyter.widget-view+json": {
       "model_id": "8a0bd04677e74c7fa3fef15b55c450f0",
       "version_major": 2,
       "version_minor": 0
      },
      "text/plain": [
       "Epoch 10:   0%|          | 0/756 [00:00<?, ?batch/s]"
      ]
     },
     "metadata": {},
     "output_type": "display_data"
    },
    {
     "data": {
      "application/vnd.jupyter.widget-view+json": {
       "model_id": "3d80ab2b3c8d4ba2b753e7b48f99e073",
       "version_major": 2,
       "version_minor": 0
      },
      "text/plain": [
       "Epoch 11:   0%|          | 0/756 [00:00<?, ?batch/s]"
      ]
     },
     "metadata": {},
     "output_type": "display_data"
    },
    {
     "data": {
      "application/vnd.jupyter.widget-view+json": {
       "model_id": "4b6e47f222f74538916c9a8a09aa7656",
       "version_major": 2,
       "version_minor": 0
      },
      "text/plain": [
       "Epoch 12:   0%|          | 0/756 [00:00<?, ?batch/s]"
      ]
     },
     "metadata": {},
     "output_type": "display_data"
    },
    {
     "data": {
      "application/vnd.jupyter.widget-view+json": {
       "model_id": "0909cd3d70954e69ac83e7fe25aa768e",
       "version_major": 2,
       "version_minor": 0
      },
      "text/plain": [
       "Epoch 13:   0%|          | 0/756 [00:00<?, ?batch/s]"
      ]
     },
     "metadata": {},
     "output_type": "display_data"
    },
    {
     "data": {
      "application/vnd.jupyter.widget-view+json": {
       "model_id": "2216e869cec84a80a157f2340e7d6cb6",
       "version_major": 2,
       "version_minor": 0
      },
      "text/plain": [
       "Epoch 14:   0%|          | 0/756 [00:00<?, ?batch/s]"
      ]
     },
     "metadata": {},
     "output_type": "display_data"
    },
    {
     "data": {
      "application/vnd.jupyter.widget-view+json": {
       "model_id": "fcc021b17f5e4768b2b59c7bdc7a65f0",
       "version_major": 2,
       "version_minor": 0
      },
      "text/plain": [
       "Epoch 15:   0%|          | 0/756 [00:00<?, ?batch/s]"
      ]
     },
     "metadata": {},
     "output_type": "display_data"
    },
    {
     "data": {
      "application/vnd.jupyter.widget-view+json": {
       "model_id": "60743799f6ac4327b94e5c95663fcecc",
       "version_major": 2,
       "version_minor": 0
      },
      "text/plain": [
       "Epoch 16:   0%|          | 0/756 [00:00<?, ?batch/s]"
      ]
     },
     "metadata": {},
     "output_type": "display_data"
    },
    {
     "data": {
      "application/vnd.jupyter.widget-view+json": {
       "model_id": "815830c0f97e47ba89e997a5d1508b5c",
       "version_major": 2,
       "version_minor": 0
      },
      "text/plain": [
       "Epoch 17:   0%|          | 0/756 [00:00<?, ?batch/s]"
      ]
     },
     "metadata": {},
     "output_type": "display_data"
    },
    {
     "data": {
      "application/vnd.jupyter.widget-view+json": {
       "model_id": "3c301272c0de4a7aa3b3b04e0a703a47",
       "version_major": 2,
       "version_minor": 0
      },
      "text/plain": [
       "Epoch 18:   0%|          | 0/756 [00:00<?, ?batch/s]"
      ]
     },
     "metadata": {},
     "output_type": "display_data"
    },
    {
     "data": {
      "application/vnd.jupyter.widget-view+json": {
       "model_id": "50f5895610b1481986d2d582ad78fa01",
       "version_major": 2,
       "version_minor": 0
      },
      "text/plain": [
       "Epoch 19:   0%|          | 0/756 [00:00<?, ?batch/s]"
      ]
     },
     "metadata": {},
     "output_type": "display_data"
    },
    {
     "data": {
      "application/vnd.jupyter.widget-view+json": {
       "model_id": "2b25f012ffdb4e96832ac79d95df4bbd",
       "version_major": 2,
       "version_minor": 0
      },
      "text/plain": [
       "Epoch 20:   0%|          | 0/756 [00:00<?, ?batch/s]"
      ]
     },
     "metadata": {},
     "output_type": "display_data"
    },
    {
     "data": {
      "application/vnd.jupyter.widget-view+json": {
       "model_id": "c6be3ef70b0448cfa6e2c03bb15f122d",
       "version_major": 2,
       "version_minor": 0
      },
      "text/plain": [
       "Epoch 21:   0%|          | 0/756 [00:00<?, ?batch/s]"
      ]
     },
     "metadata": {},
     "output_type": "display_data"
    },
    {
     "data": {
      "application/vnd.jupyter.widget-view+json": {
       "model_id": "e46a912604bf41a397cf52c4ed3768d1",
       "version_major": 2,
       "version_minor": 0
      },
      "text/plain": [
       "Epoch 22:   0%|          | 0/756 [00:00<?, ?batch/s]"
      ]
     },
     "metadata": {},
     "output_type": "display_data"
    },
    {
     "data": {
      "application/vnd.jupyter.widget-view+json": {
       "model_id": "3955b0a49b94489eb6044eef4a7d1f03",
       "version_major": 2,
       "version_minor": 0
      },
      "text/plain": [
       "Epoch 23:   0%|          | 0/756 [00:00<?, ?batch/s]"
      ]
     },
     "metadata": {},
     "output_type": "display_data"
    },
    {
     "data": {
      "application/vnd.jupyter.widget-view+json": {
       "model_id": "dc5f47f7d6e8414f9c6da87083efca61",
       "version_major": 2,
       "version_minor": 0
      },
      "text/plain": [
       "Epoch 24:   0%|          | 0/756 [00:00<?, ?batch/s]"
      ]
     },
     "metadata": {},
     "output_type": "display_data"
    },
    {
     "data": {
      "application/vnd.jupyter.widget-view+json": {
       "model_id": "c68b77d35586441792852c11ef884998",
       "version_major": 2,
       "version_minor": 0
      },
      "text/plain": [
       "Epoch 25:   0%|          | 0/756 [00:00<?, ?batch/s]"
      ]
     },
     "metadata": {},
     "output_type": "display_data"
    },
    {
     "data": {
      "application/vnd.jupyter.widget-view+json": {
       "model_id": "fca422b2742941c897072880edea2f53",
       "version_major": 2,
       "version_minor": 0
      },
      "text/plain": [
       "Epoch 26:   0%|          | 0/756 [00:00<?, ?batch/s]"
      ]
     },
     "metadata": {},
     "output_type": "display_data"
    },
    {
     "data": {
      "application/vnd.jupyter.widget-view+json": {
       "model_id": "557171fd0a2c49fea7454ded6dc8ef18",
       "version_major": 2,
       "version_minor": 0
      },
      "text/plain": [
       "Epoch 27:   0%|          | 0/756 [00:00<?, ?batch/s]"
      ]
     },
     "metadata": {},
     "output_type": "display_data"
    },
    {
     "data": {
      "application/vnd.jupyter.widget-view+json": {
       "model_id": "f4f882e78cd340aca01a9fb120c1a147",
       "version_major": 2,
       "version_minor": 0
      },
      "text/plain": [
       "Epoch 28:   0%|          | 0/756 [00:00<?, ?batch/s]"
      ]
     },
     "metadata": {},
     "output_type": "display_data"
    },
    {
     "data": {
      "application/vnd.jupyter.widget-view+json": {
       "model_id": "dbc1cb7bd10447b0936b3e4fe46cab47",
       "version_major": 2,
       "version_minor": 0
      },
      "text/plain": [
       "Epoch 29:   0%|          | 0/756 [00:00<?, ?batch/s]"
      ]
     },
     "metadata": {},
     "output_type": "display_data"
    },
    {
     "data": {
      "application/vnd.jupyter.widget-view+json": {
       "model_id": "7b7857e863ea4475b3086c09f21acefa",
       "version_major": 2,
       "version_minor": 0
      },
      "text/plain": [
       "Epoch 30:   0%|          | 0/756 [00:00<?, ?batch/s]"
      ]
     },
     "metadata": {},
     "output_type": "display_data"
    },
    {
     "data": {
      "application/vnd.jupyter.widget-view+json": {
       "model_id": "b66dfa22f929463d83604813e2cfef6e",
       "version_major": 2,
       "version_minor": 0
      },
      "text/plain": [
       "Epoch 31:   0%|          | 0/756 [00:00<?, ?batch/s]"
      ]
     },
     "metadata": {},
     "output_type": "display_data"
    },
    {
     "data": {
      "application/vnd.jupyter.widget-view+json": {
       "model_id": "0f31a7a587fa4dfc97ea1c811f463761",
       "version_major": 2,
       "version_minor": 0
      },
      "text/plain": [
       "Epoch 32:   0%|          | 0/756 [00:00<?, ?batch/s]"
      ]
     },
     "metadata": {},
     "output_type": "display_data"
    },
    {
     "data": {
      "application/vnd.jupyter.widget-view+json": {
       "model_id": "83cf8817f4e9433e86d2ea7a10bfa6a7",
       "version_major": 2,
       "version_minor": 0
      },
      "text/plain": [
       "Epoch 33:   0%|          | 0/756 [00:00<?, ?batch/s]"
      ]
     },
     "metadata": {},
     "output_type": "display_data"
    },
    {
     "data": {
      "application/vnd.jupyter.widget-view+json": {
       "model_id": "f9c7590406f149ee937eba7c0dc4f981",
       "version_major": 2,
       "version_minor": 0
      },
      "text/plain": [
       "Epoch 34:   0%|          | 0/756 [00:00<?, ?batch/s]"
      ]
     },
     "metadata": {},
     "output_type": "display_data"
    },
    {
     "data": {
      "application/vnd.jupyter.widget-view+json": {
       "model_id": "8b6388a08b5b4ca2abfd950cc7c5a960",
       "version_major": 2,
       "version_minor": 0
      },
      "text/plain": [
       "Epoch 35:   0%|          | 0/756 [00:00<?, ?batch/s]"
      ]
     },
     "metadata": {},
     "output_type": "display_data"
    },
    {
     "data": {
      "application/vnd.jupyter.widget-view+json": {
       "model_id": "6979fbc62d364d2cab0cebef116f7df9",
       "version_major": 2,
       "version_minor": 0
      },
      "text/plain": [
       "Epoch 36:   0%|          | 0/756 [00:00<?, ?batch/s]"
      ]
     },
     "metadata": {},
     "output_type": "display_data"
    },
    {
     "data": {
      "application/vnd.jupyter.widget-view+json": {
       "model_id": "c72aab7f7f894f2b9e6e4f11126aaec2",
       "version_major": 2,
       "version_minor": 0
      },
      "text/plain": [
       "Epoch 37:   0%|          | 0/756 [00:00<?, ?batch/s]"
      ]
     },
     "metadata": {},
     "output_type": "display_data"
    },
    {
     "data": {
      "application/vnd.jupyter.widget-view+json": {
       "model_id": "9ebf0d8aba9b49ba8b170e232838b147",
       "version_major": 2,
       "version_minor": 0
      },
      "text/plain": [
       "Epoch 38:   0%|          | 0/756 [00:00<?, ?batch/s]"
      ]
     },
     "metadata": {},
     "output_type": "display_data"
    },
    {
     "data": {
      "application/vnd.jupyter.widget-view+json": {
       "model_id": "2e408d4a7f0c4c75986b87ec72a67cdc",
       "version_major": 2,
       "version_minor": 0
      },
      "text/plain": [
       "Epoch 39:   0%|          | 0/756 [00:00<?, ?batch/s]"
      ]
     },
     "metadata": {},
     "output_type": "display_data"
    },
    {
     "data": {
      "application/vnd.jupyter.widget-view+json": {
       "model_id": "4b005bc09a3e4ec6922fdb491ad5b209",
       "version_major": 2,
       "version_minor": 0
      },
      "text/plain": [
       "Epoch 40:   0%|          | 0/756 [00:00<?, ?batch/s]"
      ]
     },
     "metadata": {},
     "output_type": "display_data"
    },
    {
     "data": {
      "application/vnd.jupyter.widget-view+json": {
       "model_id": "b85a53f3f8f140e58c9272c9fa55ea8c",
       "version_major": 2,
       "version_minor": 0
      },
      "text/plain": [
       "Epoch 41:   0%|          | 0/756 [00:00<?, ?batch/s]"
      ]
     },
     "metadata": {},
     "output_type": "display_data"
    },
    {
     "data": {
      "application/vnd.jupyter.widget-view+json": {
       "model_id": "e6aef9135eb04f9085b44814cf06125f",
       "version_major": 2,
       "version_minor": 0
      },
      "text/plain": [
       "Epoch 42:   0%|          | 0/756 [00:00<?, ?batch/s]"
      ]
     },
     "metadata": {},
     "output_type": "display_data"
    },
    {
     "data": {
      "application/vnd.jupyter.widget-view+json": {
       "model_id": "08fed8da58cb4d3d9c6ae7e505195e99",
       "version_major": 2,
       "version_minor": 0
      },
      "text/plain": [
       "Epoch 43:   0%|          | 0/756 [00:00<?, ?batch/s]"
      ]
     },
     "metadata": {},
     "output_type": "display_data"
    },
    {
     "data": {
      "application/vnd.jupyter.widget-view+json": {
       "model_id": "b34c76f412fc4201931d81b902e690f6",
       "version_major": 2,
       "version_minor": 0
      },
      "text/plain": [
       "Epoch 44:   0%|          | 0/756 [00:00<?, ?batch/s]"
      ]
     },
     "metadata": {},
     "output_type": "display_data"
    },
    {
     "data": {
      "application/vnd.jupyter.widget-view+json": {
       "model_id": "704fcfea3f514a9f810861bb4552fae5",
       "version_major": 2,
       "version_minor": 0
      },
      "text/plain": [
       "Epoch 45:   0%|          | 0/756 [00:00<?, ?batch/s]"
      ]
     },
     "metadata": {},
     "output_type": "display_data"
    },
    {
     "data": {
      "application/vnd.jupyter.widget-view+json": {
       "model_id": "03dba5415b524191902c46950f8a8268",
       "version_major": 2,
       "version_minor": 0
      },
      "text/plain": [
       "Epoch 46:   0%|          | 0/756 [00:00<?, ?batch/s]"
      ]
     },
     "metadata": {},
     "output_type": "display_data"
    },
    {
     "data": {
      "application/vnd.jupyter.widget-view+json": {
       "model_id": "20c46486ecc844bea1126b11e2a1f273",
       "version_major": 2,
       "version_minor": 0
      },
      "text/plain": [
       "Epoch 47:   0%|          | 0/756 [00:00<?, ?batch/s]"
      ]
     },
     "metadata": {},
     "output_type": "display_data"
    },
    {
     "data": {
      "application/vnd.jupyter.widget-view+json": {
       "model_id": "79dd6369249a4864baf7ac2f5180aab5",
       "version_major": 2,
       "version_minor": 0
      },
      "text/plain": [
       "Epoch 48:   0%|          | 0/756 [00:00<?, ?batch/s]"
      ]
     },
     "metadata": {},
     "output_type": "display_data"
    },
    {
     "data": {
      "application/vnd.jupyter.widget-view+json": {
       "model_id": "bfe638fb1cee4db09e12563375013193",
       "version_major": 2,
       "version_minor": 0
      },
      "text/plain": [
       "Epoch 49:   0%|          | 0/756 [00:00<?, ?batch/s]"
      ]
     },
     "metadata": {},
     "output_type": "display_data"
    },
    {
     "data": {
      "application/vnd.jupyter.widget-view+json": {
       "model_id": "57effbf6d0c946dc94295376be1f48ca",
       "version_major": 2,
       "version_minor": 0
      },
      "text/plain": [
       "Epoch 50:   0%|          | 0/756 [00:00<?, ?batch/s]"
      ]
     },
     "metadata": {},
     "output_type": "display_data"
    },
    {
     "data": {
      "application/vnd.jupyter.widget-view+json": {
       "model_id": "3902aefb0b254fc2a9fe91450a12b4fe",
       "version_major": 2,
       "version_minor": 0
      },
      "text/plain": [
       "Epoch 51:   0%|          | 0/756 [00:00<?, ?batch/s]"
      ]
     },
     "metadata": {},
     "output_type": "display_data"
    },
    {
     "data": {
      "application/vnd.jupyter.widget-view+json": {
       "model_id": "12cc143163ad4db4b2fb215ad790eab4",
       "version_major": 2,
       "version_minor": 0
      },
      "text/plain": [
       "Epoch 52:   0%|          | 0/756 [00:00<?, ?batch/s]"
      ]
     },
     "metadata": {},
     "output_type": "display_data"
    },
    {
     "data": {
      "application/vnd.jupyter.widget-view+json": {
       "model_id": "630aaf8b3b0a49f7b372f2eac5069923",
       "version_major": 2,
       "version_minor": 0
      },
      "text/plain": [
       "Epoch 53:   0%|          | 0/756 [00:00<?, ?batch/s]"
      ]
     },
     "metadata": {},
     "output_type": "display_data"
    },
    {
     "data": {
      "application/vnd.jupyter.widget-view+json": {
       "model_id": "008483af457b445089e0d901004931dc",
       "version_major": 2,
       "version_minor": 0
      },
      "text/plain": [
       "Epoch 54:   0%|          | 0/756 [00:00<?, ?batch/s]"
      ]
     },
     "metadata": {},
     "output_type": "display_data"
    },
    {
     "data": {
      "application/vnd.jupyter.widget-view+json": {
       "model_id": "08c33faf8d6f41599fc42d5d5f99cb27",
       "version_major": 2,
       "version_minor": 0
      },
      "text/plain": [
       "Epoch 55:   0%|          | 0/756 [00:00<?, ?batch/s]"
      ]
     },
     "metadata": {},
     "output_type": "display_data"
    },
    {
     "data": {
      "application/vnd.jupyter.widget-view+json": {
       "model_id": "65f5839c48e548138e2e60ec83d1ebc8",
       "version_major": 2,
       "version_minor": 0
      },
      "text/plain": [
       "Epoch 56:   0%|          | 0/756 [00:00<?, ?batch/s]"
      ]
     },
     "metadata": {},
     "output_type": "display_data"
    },
    {
     "data": {
      "application/vnd.jupyter.widget-view+json": {
       "model_id": "aaba03431b964cd588d0639d998d6f39",
       "version_major": 2,
       "version_minor": 0
      },
      "text/plain": [
       "Epoch 57:   0%|          | 0/756 [00:00<?, ?batch/s]"
      ]
     },
     "metadata": {},
     "output_type": "display_data"
    },
    {
     "data": {
      "application/vnd.jupyter.widget-view+json": {
       "model_id": "fbe50e071c5942eca0f480d4d1c77589",
       "version_major": 2,
       "version_minor": 0
      },
      "text/plain": [
       "Epoch 58:   0%|          | 0/756 [00:00<?, ?batch/s]"
      ]
     },
     "metadata": {},
     "output_type": "display_data"
    },
    {
     "data": {
      "application/vnd.jupyter.widget-view+json": {
       "model_id": "2782186f6e7a4fc9ae1eedb24618b327",
       "version_major": 2,
       "version_minor": 0
      },
      "text/plain": [
       "Epoch 59:   0%|          | 0/756 [00:00<?, ?batch/s]"
      ]
     },
     "metadata": {},
     "output_type": "display_data"
    },
    {
     "data": {
      "application/vnd.jupyter.widget-view+json": {
       "model_id": "094912c47bba42a7b1eb0c1c872dcda6",
       "version_major": 2,
       "version_minor": 0
      },
      "text/plain": [
       "Epoch 60:   0%|          | 0/756 [00:00<?, ?batch/s]"
      ]
     },
     "metadata": {},
     "output_type": "display_data"
    },
    {
     "data": {
      "application/vnd.jupyter.widget-view+json": {
       "model_id": "0b12c9c5f40a45ff8add5baec7e3a0b5",
       "version_major": 2,
       "version_minor": 0
      },
      "text/plain": [
       "Epoch 61:   0%|          | 0/756 [00:00<?, ?batch/s]"
      ]
     },
     "metadata": {},
     "output_type": "display_data"
    },
    {
     "data": {
      "application/vnd.jupyter.widget-view+json": {
       "model_id": "9fbc25ae59224de39f5f4bdf047f97f7",
       "version_major": 2,
       "version_minor": 0
      },
      "text/plain": [
       "Epoch 62:   0%|          | 0/756 [00:00<?, ?batch/s]"
      ]
     },
     "metadata": {},
     "output_type": "display_data"
    },
    {
     "data": {
      "application/vnd.jupyter.widget-view+json": {
       "model_id": "5fd845bfcf9545e6ba55667f19328b7f",
       "version_major": 2,
       "version_minor": 0
      },
      "text/plain": [
       "Epoch 63:   0%|          | 0/756 [00:00<?, ?batch/s]"
      ]
     },
     "metadata": {},
     "output_type": "display_data"
    },
    {
     "data": {
      "application/vnd.jupyter.widget-view+json": {
       "model_id": "f1878512584348bbb5b284ed8119618d",
       "version_major": 2,
       "version_minor": 0
      },
      "text/plain": [
       "Epoch 64:   0%|          | 0/756 [00:00<?, ?batch/s]"
      ]
     },
     "metadata": {},
     "output_type": "display_data"
    },
    {
     "data": {
      "application/vnd.jupyter.widget-view+json": {
       "model_id": "3fe2322d1d5d4fc8bc25fe25ca04e3a9",
       "version_major": 2,
       "version_minor": 0
      },
      "text/plain": [
       "Epoch 65:   0%|          | 0/756 [00:00<?, ?batch/s]"
      ]
     },
     "metadata": {},
     "output_type": "display_data"
    },
    {
     "data": {
      "application/vnd.jupyter.widget-view+json": {
       "model_id": "c7a442b3ba0a4192b091749b2eb7f3ca",
       "version_major": 2,
       "version_minor": 0
      },
      "text/plain": [
       "Epoch 66:   0%|          | 0/756 [00:00<?, ?batch/s]"
      ]
     },
     "metadata": {},
     "output_type": "display_data"
    },
    {
     "data": {
      "application/vnd.jupyter.widget-view+json": {
       "model_id": "7e2bf27fdc804621851a86e0670fc55b",
       "version_major": 2,
       "version_minor": 0
      },
      "text/plain": [
       "Epoch 67:   0%|          | 0/756 [00:00<?, ?batch/s]"
      ]
     },
     "metadata": {},
     "output_type": "display_data"
    },
    {
     "data": {
      "application/vnd.jupyter.widget-view+json": {
       "model_id": "e1c9ca4162f64125bd04a2b5c11910f6",
       "version_major": 2,
       "version_minor": 0
      },
      "text/plain": [
       "Epoch 68:   0%|          | 0/756 [00:00<?, ?batch/s]"
      ]
     },
     "metadata": {},
     "output_type": "display_data"
    },
    {
     "data": {
      "application/vnd.jupyter.widget-view+json": {
       "model_id": "2666b661c67b4ef98489652e10c3e983",
       "version_major": 2,
       "version_minor": 0
      },
      "text/plain": [
       "Epoch 69:   0%|          | 0/756 [00:00<?, ?batch/s]"
      ]
     },
     "metadata": {},
     "output_type": "display_data"
    },
    {
     "data": {
      "application/vnd.jupyter.widget-view+json": {
       "model_id": "db276118905f497184621598ccdc21f1",
       "version_major": 2,
       "version_minor": 0
      },
      "text/plain": [
       "Epoch 70:   0%|          | 0/756 [00:00<?, ?batch/s]"
      ]
     },
     "metadata": {},
     "output_type": "display_data"
    },
    {
     "data": {
      "application/vnd.jupyter.widget-view+json": {
       "model_id": "78a379a449f148eeb6c38c517f6e7bcc",
       "version_major": 2,
       "version_minor": 0
      },
      "text/plain": [
       "Epoch 71:   0%|          | 0/756 [00:00<?, ?batch/s]"
      ]
     },
     "metadata": {},
     "output_type": "display_data"
    },
    {
     "data": {
      "application/vnd.jupyter.widget-view+json": {
       "model_id": "2e5fbd7ff3b742059485760a9d66799d",
       "version_major": 2,
       "version_minor": 0
      },
      "text/plain": [
       "Epoch 72:   0%|          | 0/756 [00:00<?, ?batch/s]"
      ]
     },
     "metadata": {},
     "output_type": "display_data"
    },
    {
     "data": {
      "application/vnd.jupyter.widget-view+json": {
       "model_id": "b5091272274646f7bb1424341d5fdfbc",
       "version_major": 2,
       "version_minor": 0
      },
      "text/plain": [
       "Epoch 73:   0%|          | 0/756 [00:00<?, ?batch/s]"
      ]
     },
     "metadata": {},
     "output_type": "display_data"
    },
    {
     "data": {
      "application/vnd.jupyter.widget-view+json": {
       "model_id": "72d77ca2c2784a10926ca65a17c4b04c",
       "version_major": 2,
       "version_minor": 0
      },
      "text/plain": [
       "Epoch 74:   0%|          | 0/756 [00:00<?, ?batch/s]"
      ]
     },
     "metadata": {},
     "output_type": "display_data"
    },
    {
     "data": {
      "application/vnd.jupyter.widget-view+json": {
       "model_id": "4346fc08ad104b638b5ff21ab36967d5",
       "version_major": 2,
       "version_minor": 0
      },
      "text/plain": [
       "Epoch 75:   0%|          | 0/756 [00:00<?, ?batch/s]"
      ]
     },
     "metadata": {},
     "output_type": "display_data"
    },
    {
     "data": {
      "application/vnd.jupyter.widget-view+json": {
       "model_id": "520e716b1212420899f1ed146082b9c4",
       "version_major": 2,
       "version_minor": 0
      },
      "text/plain": [
       "Epoch 76:   0%|          | 0/756 [00:00<?, ?batch/s]"
      ]
     },
     "metadata": {},
     "output_type": "display_data"
    },
    {
     "data": {
      "application/vnd.jupyter.widget-view+json": {
       "model_id": "d248582c11b443d799d184222e6c5b0a",
       "version_major": 2,
       "version_minor": 0
      },
      "text/plain": [
       "Epoch 77:   0%|          | 0/756 [00:00<?, ?batch/s]"
      ]
     },
     "metadata": {},
     "output_type": "display_data"
    },
    {
     "data": {
      "application/vnd.jupyter.widget-view+json": {
       "model_id": "e8c2d2fe3f7e4d5dbd7869f3458378f9",
       "version_major": 2,
       "version_minor": 0
      },
      "text/plain": [
       "Epoch 78:   0%|          | 0/756 [00:00<?, ?batch/s]"
      ]
     },
     "metadata": {},
     "output_type": "display_data"
    },
    {
     "data": {
      "application/vnd.jupyter.widget-view+json": {
       "model_id": "8e31583f18684b348d5441034859148a",
       "version_major": 2,
       "version_minor": 0
      },
      "text/plain": [
       "Epoch 79:   0%|          | 0/756 [00:00<?, ?batch/s]"
      ]
     },
     "metadata": {},
     "output_type": "display_data"
    },
    {
     "data": {
      "application/vnd.jupyter.widget-view+json": {
       "model_id": "7c16b2c377b7425aaf45d289c27c7202",
       "version_major": 2,
       "version_minor": 0
      },
      "text/plain": [
       "Epoch 80:   0%|          | 0/756 [00:00<?, ?batch/s]"
      ]
     },
     "metadata": {},
     "output_type": "display_data"
    },
    {
     "data": {
      "application/vnd.jupyter.widget-view+json": {
       "model_id": "e669250ef79243cca41c1ed7a1a6e9b6",
       "version_major": 2,
       "version_minor": 0
      },
      "text/plain": [
       "Epoch 81:   0%|          | 0/756 [00:00<?, ?batch/s]"
      ]
     },
     "metadata": {},
     "output_type": "display_data"
    },
    {
     "data": {
      "application/vnd.jupyter.widget-view+json": {
       "model_id": "d3601db31dad4667a4e9ceb2f04e6b59",
       "version_major": 2,
       "version_minor": 0
      },
      "text/plain": [
       "Epoch 82:   0%|          | 0/756 [00:00<?, ?batch/s]"
      ]
     },
     "metadata": {},
     "output_type": "display_data"
    },
    {
     "data": {
      "application/vnd.jupyter.widget-view+json": {
       "model_id": "c2ea82c0e4be481f8f4d0921e29c4ee1",
       "version_major": 2,
       "version_minor": 0
      },
      "text/plain": [
       "Epoch 83:   0%|          | 0/756 [00:00<?, ?batch/s]"
      ]
     },
     "metadata": {},
     "output_type": "display_data"
    },
    {
     "data": {
      "application/vnd.jupyter.widget-view+json": {
       "model_id": "0b14777b1f9e4d92a008c28d3ba0be30",
       "version_major": 2,
       "version_minor": 0
      },
      "text/plain": [
       "Epoch 84:   0%|          | 0/756 [00:00<?, ?batch/s]"
      ]
     },
     "metadata": {},
     "output_type": "display_data"
    },
    {
     "data": {
      "application/vnd.jupyter.widget-view+json": {
       "model_id": "60e597e4eee447da9fa8a7b9188f98a6",
       "version_major": 2,
       "version_minor": 0
      },
      "text/plain": [
       "Epoch 85:   0%|          | 0/756 [00:00<?, ?batch/s]"
      ]
     },
     "metadata": {},
     "output_type": "display_data"
    },
    {
     "data": {
      "application/vnd.jupyter.widget-view+json": {
       "model_id": "93643381f172420c8786a99966a172d0",
       "version_major": 2,
       "version_minor": 0
      },
      "text/plain": [
       "Epoch 86:   0%|          | 0/756 [00:00<?, ?batch/s]"
      ]
     },
     "metadata": {},
     "output_type": "display_data"
    },
    {
     "data": {
      "application/vnd.jupyter.widget-view+json": {
       "model_id": "43c77333ddb7466586d8866da11a5217",
       "version_major": 2,
       "version_minor": 0
      },
      "text/plain": [
       "Epoch 87:   0%|          | 0/756 [00:00<?, ?batch/s]"
      ]
     },
     "metadata": {},
     "output_type": "display_data"
    },
    {
     "data": {
      "application/vnd.jupyter.widget-view+json": {
       "model_id": "b2141cee364f4e54ab98d7f89a8f68e7",
       "version_major": 2,
       "version_minor": 0
      },
      "text/plain": [
       "Epoch 88:   0%|          | 0/756 [00:00<?, ?batch/s]"
      ]
     },
     "metadata": {},
     "output_type": "display_data"
    },
    {
     "data": {
      "application/vnd.jupyter.widget-view+json": {
       "model_id": "14ccad3beca745c094b22d28fb81a2c8",
       "version_major": 2,
       "version_minor": 0
      },
      "text/plain": [
       "Epoch 89:   0%|          | 0/756 [00:00<?, ?batch/s]"
      ]
     },
     "metadata": {},
     "output_type": "display_data"
    },
    {
     "data": {
      "application/vnd.jupyter.widget-view+json": {
       "model_id": "6c3c2a1deba947ea850776f82db958d4",
       "version_major": 2,
       "version_minor": 0
      },
      "text/plain": [
       "Epoch 90:   0%|          | 0/756 [00:00<?, ?batch/s]"
      ]
     },
     "metadata": {},
     "output_type": "display_data"
    },
    {
     "data": {
      "application/vnd.jupyter.widget-view+json": {
       "model_id": "bd176105a31e4e6e8ff21cb13b32675f",
       "version_major": 2,
       "version_minor": 0
      },
      "text/plain": [
       "Epoch 91:   0%|          | 0/756 [00:00<?, ?batch/s]"
      ]
     },
     "metadata": {},
     "output_type": "display_data"
    },
    {
     "data": {
      "application/vnd.jupyter.widget-view+json": {
       "model_id": "3379569209d84fbab0042d6c0cecd4df",
       "version_major": 2,
       "version_minor": 0
      },
      "text/plain": [
       "Epoch 92:   0%|          | 0/756 [00:00<?, ?batch/s]"
      ]
     },
     "metadata": {},
     "output_type": "display_data"
    },
    {
     "data": {
      "application/vnd.jupyter.widget-view+json": {
       "model_id": "cd159692a981457bba88a04d5a102955",
       "version_major": 2,
       "version_minor": 0
      },
      "text/plain": [
       "Epoch 93:   0%|          | 0/756 [00:00<?, ?batch/s]"
      ]
     },
     "metadata": {},
     "output_type": "display_data"
    },
    {
     "data": {
      "application/vnd.jupyter.widget-view+json": {
       "model_id": "64ffb01b6cab45c98f29da5ae8ae9762",
       "version_major": 2,
       "version_minor": 0
      },
      "text/plain": [
       "Epoch 94:   0%|          | 0/756 [00:00<?, ?batch/s]"
      ]
     },
     "metadata": {},
     "output_type": "display_data"
    },
    {
     "data": {
      "application/vnd.jupyter.widget-view+json": {
       "model_id": "d510b6c4012448d987e7cd79c99b6ef2",
       "version_major": 2,
       "version_minor": 0
      },
      "text/plain": [
       "Epoch 95:   0%|          | 0/756 [00:00<?, ?batch/s]"
      ]
     },
     "metadata": {},
     "output_type": "display_data"
    },
    {
     "data": {
      "application/vnd.jupyter.widget-view+json": {
       "model_id": "3586f575e07d4172a493b862b93849c6",
       "version_major": 2,
       "version_minor": 0
      },
      "text/plain": [
       "Epoch 96:   0%|          | 0/756 [00:00<?, ?batch/s]"
      ]
     },
     "metadata": {},
     "output_type": "display_data"
    },
    {
     "data": {
      "application/vnd.jupyter.widget-view+json": {
       "model_id": "d936c9a319774a9f900e14b79325e7ac",
       "version_major": 2,
       "version_minor": 0
      },
      "text/plain": [
       "Epoch 97:   0%|          | 0/756 [00:00<?, ?batch/s]"
      ]
     },
     "metadata": {},
     "output_type": "display_data"
    },
    {
     "data": {
      "application/vnd.jupyter.widget-view+json": {
       "model_id": "e10d1eb3dab2444f9935d1e91b6a4144",
       "version_major": 2,
       "version_minor": 0
      },
      "text/plain": [
       "Epoch 98:   0%|          | 0/756 [00:00<?, ?batch/s]"
      ]
     },
     "metadata": {},
     "output_type": "display_data"
    },
    {
     "data": {
      "application/vnd.jupyter.widget-view+json": {
       "model_id": "2480f90cd2de476aa3fcc8256b989e34",
       "version_major": 2,
       "version_minor": 0
      },
      "text/plain": [
       "Epoch 99:   0%|          | 0/756 [00:00<?, ?batch/s]"
      ]
     },
     "metadata": {},
     "output_type": "display_data"
    },
    {
     "data": {
      "application/vnd.jupyter.widget-view+json": {
       "model_id": "06c73015924f4444b8b2a09823b1fdb9",
       "version_major": 2,
       "version_minor": 0
      },
      "text/plain": [
       "Epoch 100:   0%|          | 0/756 [00:00<?, ?batch/s]"
      ]
     },
     "metadata": {},
     "output_type": "display_data"
    },
    {
     "name": "stderr",
     "output_type": "stream",
     "text": [
      "\u001b[31m2025/02/06 13:12:19 WARNING mlflow.models.model: Model logged without a signature and input example. Please set `input_example` parameter when logging the model to auto infer the model signature.\u001b[0m\n",
      "Registered model 'FraudEncoder' already exists. Creating a new version of this model...\n",
      "Created version '7' of model 'FraudEncoder'.\n"
     ]
    },
    {
     "name": "stdout",
     "output_type": "stream",
     "text": [
      "Feature engineering pipeline completed. Run ID: 7037e9e4ce404cb29c9cbe1175ca07be\n"
     ]
    }
   ],
   "source": [
    "if __name__ == \"__main__\":\n",
    "    configure_mlflow(\"CreditCardFraudAutoencoder\")\n",
    "    with mlflow.start_run(run_name=\"feature_engineering\") as run:\n",
    "        feature_engineering_pipeline(CONFIG)\n",
    "        print(\"Feature engineering pipeline completed. Run ID:\", mlflow.active_run().info.run_id)"
   ]
  },
  {
   "cell_type": "code",
   "execution_count": null,
   "id": "d46a000a-1ebf-4c05-a5fe-40ade6d1b8cf",
   "metadata": {},
   "outputs": [],
   "source": []
  }
 ],
 "metadata": {
  "kernelspec": {
   "display_name": "Python 3 (ipykernel)",
   "language": "python",
   "name": "python3"
  },
  "language_info": {
   "codemirror_mode": {
    "name": "ipython",
    "version": 3
   },
   "file_extension": ".py",
   "mimetype": "text/x-python",
   "name": "python",
   "nbconvert_exporter": "python",
   "pygments_lexer": "ipython3",
   "version": "3.12.7"
  }
 },
 "nbformat": 4,
 "nbformat_minor": 5
}
