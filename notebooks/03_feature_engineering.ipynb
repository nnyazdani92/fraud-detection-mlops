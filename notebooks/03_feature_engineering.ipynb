{
 "cells": [
  {
   "cell_type": "code",
   "execution_count": 1,
   "id": "facf64e0-056b-4cc4-bda6-1c99a8072c4e",
   "metadata": {},
   "outputs": [],
   "source": [
    "import os\n",
    "import sys\n",
    "import mlflow\n",
    "import pandas as pd\n",
    "import torch\n",
    "import torch.nn as nn\n",
    "import matplotlib.pyplot as plt\n",
    "from pathlib import Path\n",
    "from tempfile import TemporaryDirectory\n",
    "from torch.utils.data import TensorDataset, DataLoader\n",
    "from tqdm.notebook import tqdm\n",
    "\n",
    "sys.path.append('..')\n",
    "from src.mlflow_utils import configure_mlflow, get_data, find_latest_run_id_by_experiment_and_stage, load_config"
   ]
  },
  {
   "cell_type": "code",
   "execution_count": 2,
   "id": "1ae4e11c-4eeb-4458-9d5b-bbf245ab3e48",
   "metadata": {},
   "outputs": [],
   "source": [
    "CONFIG = load_config()"
   ]
  },
  {
   "cell_type": "code",
   "execution_count": 3,
   "id": "26645e7e-43e6-4a16-b023-995ac71415d6",
   "metadata": {},
   "outputs": [],
   "source": [
    "def log_data_characteristics(data: pd.DataFrame, prefix: str) -> None:\n",
    "    \"\"\"Log comprehensive data characteristics\"\"\"\n",
    "    mlflow.log_metrics({\n",
    "        f\"{prefix}_samples\": data.shape[0],\n",
    "        f\"{prefix}_features\": data.shape[1],\n",
    "        f\"{prefix}_nan_count\": data.isna().sum().sum()\n",
    "    })"
   ]
  },
  {
   "cell_type": "code",
   "execution_count": 4,
   "id": "681b20c9-22ca-4f33-81f2-319ce15f361b",
   "metadata": {},
   "outputs": [
    {
     "name": "stderr",
     "output_type": "stream",
     "text": [
      "/home/nick/snap/code/181/.local/share/virtualenvs/fraud-detection-mlops-5wXwr5xg/lib/python3.12/site-packages/mlflow/pyfunc/utils/data_validation.py:134: UserWarning: \u001b[33mAdd type hints to the `predict` method to enable data validation and automatic signature inference during model logging. Check https://mlflow.org/docs/latest/model/python_model.html#type-hint-usage-in-pythonmodel for more details.\u001b[0m\n",
      "  color_warning(\n"
     ]
    }
   ],
   "source": [
    "class AutoencoderMLflowWrapper(mlflow.pyfunc.PythonModel):\n",
    "    \"\"\"MLflow-compatible wrapper for Autoencoder model\"\"\"\n",
    "    def __init__(self, autoencoder, encoder):\n",
    "        super().__init__()\n",
    "        self.autoencoder = autoencoder\n",
    "        self.encoder = encoder\n",
    "        \n",
    "    def predict(self, context, model_input):\n",
    "        with torch.no_grad():\n",
    "            tensor_input = torch.FloatTensor(model_input.values)\n",
    "            return self.encoder(tensor_input).numpy()"
   ]
  },
  {
   "cell_type": "code",
   "execution_count": 5,
   "id": "d210c97a-086e-403f-a9d7-24a9c7dc667f",
   "metadata": {},
   "outputs": [],
   "source": [
    "def create_autoencoder(config: dict, input_dim: int) -> tuple[nn.Module, torch.device]:\n",
    "    \"\"\"Autoencoder training pipeline with MLflow integration\"\"\"\n",
    "    # Model architecture\n",
    "    params = config[\"models\"][\"autoencoder\"][\"params\"]\n",
    "    \n",
    "    class Autoencoder(nn.Module):\n",
    "        def __init__(self, input_dim):\n",
    "            super().__init__()\n",
    "            self.enc1 = nn.Linear(input_dim ,params[\"hidden_dims\"][0])\n",
    "            self.enc_act1 = nn.ReLU()\n",
    "            self.enc2 = nn.Linear(params[\"hidden_dims\"][0], params[\"hidden_dims\"][1])\n",
    "            self.enc_bn = nn.BatchNorm1d(params[\"hidden_dims\"][1])\n",
    "            self.enc_act2 = nn.ReLU()\n",
    "            self.enc3 = nn.Linear(params[\"hidden_dims\"][1], params[\"encoding_dim\"])\n",
    "            self.dropout = nn.Dropout(params[\"dropout\"])\n",
    "            self.dec1 = nn.Linear(params[\"encoding_dim\"], params[\"hidden_dims\"][1])\n",
    "            self.dec_act1 = nn.ReLU()\n",
    "            self.dec2 = nn.Linear(params[\"hidden_dims\"][1], params[\"hidden_dims\"][0])\n",
    "            self.dec_act2 = nn.ReLU()\n",
    "            self.dec3 = nn.Linear(params[\"hidden_dims\"][0], input_dim)\n",
    "\n",
    "        def forward(self, x):\n",
    "            enc1_out = self.enc_act1(self.enc1(x))\n",
    "            enc2_out = self.enc_act2(self.enc_bn(self.enc2(enc1_out)))\n",
    "            encoding = self.enc3(enc2_out)\n",
    "            drop = self.dropout(encoding)\n",
    "            dec1_out = self.dec_act1(self.dec1(drop))\n",
    "            dec2_in = dec1_out + enc2_out\n",
    "            dec2_out = self.dec_act2(self.dec2(dec2_in))\n",
    "            dec3_in = dec2_out + enc1_out\n",
    "            output = self.dec3(dec3_in)\n",
    "            return output\n",
    "        \n",
    "    model = Autoencoder(input_dim)\n",
    "    device = torch.device('cuda' if torch.cuda.is_available() else 'cpu')\n",
    "    model.to(device)\n",
    "    \n",
    "    # Log model architecture\n",
    "    mlflow.log_params({\n",
    "        \"input_dim\": input_dim,\n",
    "        **params,\n",
    "        \"optimizer\": \"Adam\",\n",
    "        \"loss_fn\": \"SmoothL1Loss\"\n",
    "    })\n",
    "    \n",
    "    return model, device"
   ]
  },
  {
   "cell_type": "code",
   "execution_count": 6,
   "id": "01d70ba9-294d-4a08-900f-75784cd8ad20",
   "metadata": {},
   "outputs": [],
   "source": [
    "# Define Encoder\n",
    "class Encoder(nn.Module):\n",
    "    def __init__(self, autoencoder):\n",
    "        super(Encoder, self).__init__()\n",
    "        self.enc1 = autoencoder.enc1\n",
    "        self.enc_act1 = autoencoder.enc_act1\n",
    "        self.enc2 = autoencoder.enc2\n",
    "        self.enc_bn = autoencoder.enc_bn\n",
    "        self.enc_act2 = autoencoder.enc_act2\n",
    "        self.enc3 = autoencoder.enc3\n",
    "\n",
    "    def forward(self, x):\n",
    "        x = self.enc_act1(self.enc1(x))\n",
    "        x = self.enc_act2(self.enc_bn(self.enc2(x)))\n",
    "        x = self.enc3(x)\n",
    "        return x"
   ]
  },
  {
   "cell_type": "code",
   "execution_count": 7,
   "id": "1d506614-7a47-4657-80a9-bb17e74664b0",
   "metadata": {},
   "outputs": [],
   "source": [
    "def filter_non_fraud(features, target):\n",
    "    non_fraud_mask = (target == 0).values.flatten()\n",
    "    non_fraud_features = features[non_fraud_mask]\n",
    "    return non_fraud_features"
   ]
  },
  {
   "cell_type": "code",
   "execution_count": 8,
   "id": "b1733655-f6ca-4757-b5c7-5dc2f7720fa8",
   "metadata": {},
   "outputs": [],
   "source": [
    "def train(epochs, autoencoder, train_loader, val_loader, optimizer, criterion, device, save_dir, config):\n",
    "    best_loss = float('inf')\n",
    "    patience_counter = 0\n",
    "    train_losses = []\n",
    "    val_losses = []\n",
    "    \n",
    "    epoch_bar = tqdm(range(epochs), desc='Training Autoencoder', unit='epoch')\n",
    "    for epoch in epoch_bar:\n",
    "        # Training phase\n",
    "        autoencoder.train()\n",
    "        epoch_train_loss = 0\n",
    "        for batch in tqdm(train_loader, desc=f'Epoch {epoch+1}', leave=False, unit='batch'):\n",
    "            batch = batch[0].to(device)\n",
    "            optimizer.zero_grad()\n",
    "            outputs = autoencoder(batch)\n",
    "            loss = criterion(outputs, batch)\n",
    "            loss.backward()\n",
    "            torch.nn.utils.clip_grad_norm_(autoencoder.parameters(), 1.0)\n",
    "            optimizer.step()\n",
    "            epoch_train_loss += loss.item() * batch.size(0)\n",
    "\n",
    "        # Validation phase\n",
    "        autoencoder.eval()\n",
    "        epoch_val_loss = 0\n",
    "        with torch.no_grad():\n",
    "            for batch in val_loader:\n",
    "                batch = batch[0].to(device)\n",
    "                outputs = autoencoder(batch)\n",
    "                loss = criterion(outputs, batch)\n",
    "                epoch_val_loss += loss.item() * batch.size(0)\n",
    "\n",
    "        # Calculate metrics\n",
    "        train_loss = epoch_train_loss / len(train_loader.dataset)\n",
    "        val_loss = epoch_val_loss / len(val_loader.dataset)\n",
    "        train_losses.append(train_loss)\n",
    "        val_losses.append(val_loss)\n",
    "\n",
    "        # Update progress bar\n",
    "        epoch_bar.set_postfix({\n",
    "            'Train Loss': f'{train_loss:.4f}',\n",
    "            'Val Loss': f'{val_loss:.4f}',\n",
    "            'LR': f'{optimizer.param_groups[0][\"lr\"]:.2e}'\n",
    "        })\n",
    "\n",
    "        mlflow.log_metrics({\n",
    "            \"train_loss\": train_loss,\n",
    "            \"val_loss\": val_loss,\n",
    "            \"learning_rate\": optimizer.param_groups[0]['lr']\n",
    "        }, step=epoch)\n",
    "\n",
    "        patience = config[\"models\"][\"autoencoder\"][\"training_params\"][\"patience\"]\n",
    "\n",
    "        # Early stopping and model checkpointing\n",
    "        if val_loss < best_loss:\n",
    "            best_loss = val_loss\n",
    "            patience_counter = 0\n",
    "            torch.save(autoencoder.state_dict(), Path(save_dir) / \"best_model.pth\")\n",
    "        else:\n",
    "            patience_counter += 1\n",
    "            if patience_counter >= patience:\n",
    "                break\n",
    "\n",
    "    return train_losses, val_losses"
   ]
  },
  {
   "cell_type": "code",
   "execution_count": 9,
   "id": "97231bff-d29d-4492-a3fe-882754dff68e",
   "metadata": {},
   "outputs": [],
   "source": [
    "def plot_history(train_losses, val_losses, figsize=(10, 5)):\n",
    "    plt.figure(figsize=figsize)\n",
    "    plt.plot(train_losses, label='Training Loss')\n",
    "    plt.plot(val_losses, label='Validation Loss')\n",
    "    plt.title('Autoencoder Training Progress')\n",
    "    plt.xlabel('Epochs')\n",
    "    plt.ylabel('MSE Loss')\n",
    "    plt.legend()\n",
    "    plt.grid(True)\n",
    "\n",
    "    with TemporaryDirectory() as tmp_dir:\n",
    "        plot_path = os.path.join(tmp_dir, \"training_history.png\")\n",
    "        plt.savefig(plot_path)\n",
    "        mlflow.log_artifact(plot_path)\n",
    "        \n",
    "    plt.close()"
   ]
  },
  {
   "cell_type": "code",
   "execution_count": 10,
   "id": "bf6f5f08-05ac-4527-966b-5c0808cf3aa3",
   "metadata": {},
   "outputs": [],
   "source": [
    "def feature_engineering_pipeline(config: dict): \n",
    "    # Log environment details\n",
    "    mlflow.log_params({\n",
    "        \"pytorch_version\": torch.__version__,\n",
    "        \"cuda_available\": torch.cuda.is_available(),\n",
    "        \"device_count\": torch.cuda.device_count() if torch.cuda.is_available() else 0\n",
    "    })\n",
    "    # Link to preprocessing run\n",
    "    preprocessing_run_id = find_latest_run_id_by_experiment_and_stage(\n",
    "        config[\"experiment_names\"][\"preprocessing\"],\n",
    "        config[\"run_names\"][\"preprocessing\"]\n",
    "    )\n",
    "    if not preprocessing_run_id:\n",
    "        raise ValueError(\"No successful preprocessing run found\")\n",
    "        \n",
    "    mlflow.log_param(\"preprocessing_run_id\", preprocessing_run_id)\n",
    "    mlflow.set_tags({\n",
    "        \"stage\": \"feature_engineering\",\n",
    "        \"dataset_type\": \"tabular\",\n",
    "        \"task\": \"reconstruction\",\n",
    "        \"parent_run\": preprocessing_run_id\n",
    "    })\n",
    "\n",
    "    # Retrieve processed data from MLflow\n",
    "    processed_data = get_data(preprocessing_run_id, config[\"dataset\"], config[\"artifacts\"][\"data\"][\"processed\"])\n",
    "    \n",
    "    # Log data characteristics\n",
    "    mlflow.log_metrics({\n",
    "        \"train_samples_retrieved\": processed_data[\"X_train\"].shape[0],\n",
    "        \"val_samples_retrieved\": processed_data[\"X_val\"].shape[0],\n",
    "        \"test_samples_retrieved\": processed_data[\"X_test\"].shape[0]\n",
    "    })\n",
    "\n",
    "    # Filter non-fraud cases\n",
    "    X_train_non_fraud = filter_non_fraud(processed_data[\"X_train\"], processed_data[\"y_train\"])\n",
    "    X_val_non_fraud = filter_non_fraud(processed_data[\"X_val\"], processed_data[\"y_val\"])\n",
    "\n",
    "    # Create datasets\n",
    "    train_dataset = TensorDataset(torch.tensor(X_train_non_fraud.values, dtype=torch.float32))\n",
    "    val_dataset = TensorDataset(torch.tensor(X_val_non_fraud.values, dtype=torch.float32))\n",
    "\n",
    "    batch_size = config[\"models\"][\"autoencoder\"][\"training_params\"][\"batch_size\"]\n",
    "    train_loader = DataLoader(train_dataset, batch_size=batch_size, shuffle=True, num_workers=os.cpu_count())\n",
    "    val_loader = DataLoader(val_dataset, batch_size=batch_size, num_workers=os.cpu_count())\n",
    "\n",
    "    input_dim = X_train_non_fraud.shape[1]\n",
    "    training_params = config[\"models\"][\"autoencoder\"][\"training_params\"]\n",
    "\n",
    "     # Initialize model and training components\n",
    "    autoencoder, device = create_autoencoder(config, input_dim)\n",
    "    criterion = nn.SmoothL1Loss()\n",
    "    optimizer = torch.optim.Adam(\n",
    "        autoencoder.parameters(),\n",
    "        lr=training_params[\"lr\"],\n",
    "        weight_decay=training_params[\"weight_decay\"]\n",
    "    )\n",
    "    \n",
    "    # Log training configuration\n",
    "    mlflow.log_params(training_params)\n",
    "    mlflow.log_dict(config, \"training_config.json\")\n",
    "\n",
    "    epochs = training_params[\"epochs\"]\n",
    "    \n",
    "    with TemporaryDirectory() as save_dir:\n",
    "        train_losses, val_losses = train(epochs, autoencoder, train_loader, val_loader, optimizer, criterion, device, save_dir, config)\n",
    "        plot_history(train_losses, val_losses)\n",
    "        autoencoder.load_state_dict(torch.load(Path(save_dir) / \"best_model.pth\"))\n",
    "        \n",
    "    # Generate and log encoded features\n",
    "    autoencoder.eval()\n",
    "    encoder = Encoder(autoencoder).eval()\n",
    "\n",
    "    mlflow.pytorch.log_model(\n",
    "        pytorch_model=encoder,\n",
    "        artifact_path=\"encoder\",\n",
    "        registered_model_name=\"FraudEncoder\"\n",
    "    )\n",
    "\n",
    "    split_names = config[\"dataset\"][\"split_names\"]\n",
    "    split_dirs = config[\"dataset\"][\"split_dirs\"]\n",
    "    engineered_features_base_path = config[\"artifacts\"][\"data\"][\"engineered\"]\n",
    "    \n",
    "    with torch.no_grad():\n",
    "        with TemporaryDirectory() as tmp_dir:\n",
    "            for split_name, split_dir in zip(split_names, split_dirs):\n",
    "                split_name = f\"X_{split_name}\"\n",
    "                tensor_data = torch.FloatTensor(processed_data[split_name].values).to(device)\n",
    "                encoded = pd.DataFrame(encoder(tensor_data).cpu().numpy())\n",
    "                enriched = pd.concat([processed_data[split_name], encoded], axis=1, ignore_index=True)\n",
    "                enriched.to_parquet(Path(tmp_dir) / f\"{split_name}.parquet\")\n",
    "                mlflow.log_artifact(Path(tmp_dir) / f\"{split_name}.parquet\", f\"{engineered_features_base_path}/{split_dir}\")\n",
    "\n",
    "    # Log configuration\n",
    "    mlflow.log_dict(config, \"feature_engineering_config.json\")"
   ]
  },
  {
   "cell_type": "code",
   "execution_count": 11,
   "id": "b97b5b16-0475-4345-a147-0d46ebd899b6",
   "metadata": {},
   "outputs": [
    {
     "data": {
      "application/vnd.jupyter.widget-view+json": {
       "model_id": "a9f6d9d3706140e695f36dca92b895de",
       "version_major": 2,
       "version_minor": 0
      },
      "text/plain": [
       "Training Autoencoder:   0%|          | 0/100 [00:00<?, ?epoch/s]"
      ]
     },
     "metadata": {},
     "output_type": "display_data"
    },
    {
     "data": {
      "application/vnd.jupyter.widget-view+json": {
       "model_id": "c80c2af8b9ed4347b919191321fd78c1",
       "version_major": 2,
       "version_minor": 0
      },
      "text/plain": [
       "Epoch 1:   0%|          | 0/756 [00:00<?, ?batch/s]"
      ]
     },
     "metadata": {},
     "output_type": "display_data"
    },
    {
     "data": {
      "application/vnd.jupyter.widget-view+json": {
       "model_id": "f3dd9c7d44964550ac99b9fa35ef9c58",
       "version_major": 2,
       "version_minor": 0
      },
      "text/plain": [
       "Epoch 2:   0%|          | 0/756 [00:00<?, ?batch/s]"
      ]
     },
     "metadata": {},
     "output_type": "display_data"
    },
    {
     "data": {
      "application/vnd.jupyter.widget-view+json": {
       "model_id": "db94a29208fa47ebaf393e2b4fed662b",
       "version_major": 2,
       "version_minor": 0
      },
      "text/plain": [
       "Epoch 3:   0%|          | 0/756 [00:00<?, ?batch/s]"
      ]
     },
     "metadata": {},
     "output_type": "display_data"
    },
    {
     "data": {
      "application/vnd.jupyter.widget-view+json": {
       "model_id": "52920a9d5c8d466ead404e24047cf69c",
       "version_major": 2,
       "version_minor": 0
      },
      "text/plain": [
       "Epoch 4:   0%|          | 0/756 [00:00<?, ?batch/s]"
      ]
     },
     "metadata": {},
     "output_type": "display_data"
    },
    {
     "data": {
      "application/vnd.jupyter.widget-view+json": {
       "model_id": "5ecd5f32321b47d781490627bd58342f",
       "version_major": 2,
       "version_minor": 0
      },
      "text/plain": [
       "Epoch 5:   0%|          | 0/756 [00:00<?, ?batch/s]"
      ]
     },
     "metadata": {},
     "output_type": "display_data"
    },
    {
     "data": {
      "application/vnd.jupyter.widget-view+json": {
       "model_id": "ebcc24c5b72149c4ba5ff254f5af61e5",
       "version_major": 2,
       "version_minor": 0
      },
      "text/plain": [
       "Epoch 6:   0%|          | 0/756 [00:00<?, ?batch/s]"
      ]
     },
     "metadata": {},
     "output_type": "display_data"
    },
    {
     "data": {
      "application/vnd.jupyter.widget-view+json": {
       "model_id": "59cc6f289b20449d9631bbd9c56f4b5d",
       "version_major": 2,
       "version_minor": 0
      },
      "text/plain": [
       "Epoch 7:   0%|          | 0/756 [00:00<?, ?batch/s]"
      ]
     },
     "metadata": {},
     "output_type": "display_data"
    },
    {
     "data": {
      "application/vnd.jupyter.widget-view+json": {
       "model_id": "3ad1dde0dedd4cd9b1965387bea8730f",
       "version_major": 2,
       "version_minor": 0
      },
      "text/plain": [
       "Epoch 8:   0%|          | 0/756 [00:00<?, ?batch/s]"
      ]
     },
     "metadata": {},
     "output_type": "display_data"
    },
    {
     "data": {
      "application/vnd.jupyter.widget-view+json": {
       "model_id": "cdb6d246afda48a6a1fd4628e46c154d",
       "version_major": 2,
       "version_minor": 0
      },
      "text/plain": [
       "Epoch 9:   0%|          | 0/756 [00:00<?, ?batch/s]"
      ]
     },
     "metadata": {},
     "output_type": "display_data"
    },
    {
     "data": {
      "application/vnd.jupyter.widget-view+json": {
       "model_id": "3f776fec46b34ee1a94ccd301040b108",
       "version_major": 2,
       "version_minor": 0
      },
      "text/plain": [
       "Epoch 10:   0%|          | 0/756 [00:00<?, ?batch/s]"
      ]
     },
     "metadata": {},
     "output_type": "display_data"
    },
    {
     "data": {
      "application/vnd.jupyter.widget-view+json": {
       "model_id": "37f34adc946240739890348e2245cef5",
       "version_major": 2,
       "version_minor": 0
      },
      "text/plain": [
       "Epoch 11:   0%|          | 0/756 [00:00<?, ?batch/s]"
      ]
     },
     "metadata": {},
     "output_type": "display_data"
    },
    {
     "data": {
      "application/vnd.jupyter.widget-view+json": {
       "model_id": "3d391a8cf95b44d7a7ca14220846e340",
       "version_major": 2,
       "version_minor": 0
      },
      "text/plain": [
       "Epoch 12:   0%|          | 0/756 [00:00<?, ?batch/s]"
      ]
     },
     "metadata": {},
     "output_type": "display_data"
    },
    {
     "data": {
      "application/vnd.jupyter.widget-view+json": {
       "model_id": "dedeacbb94aa441f800bdf2ebb41124d",
       "version_major": 2,
       "version_minor": 0
      },
      "text/plain": [
       "Epoch 13:   0%|          | 0/756 [00:00<?, ?batch/s]"
      ]
     },
     "metadata": {},
     "output_type": "display_data"
    },
    {
     "data": {
      "application/vnd.jupyter.widget-view+json": {
       "model_id": "9151d1a6997b449ba8538661c065dfb5",
       "version_major": 2,
       "version_minor": 0
      },
      "text/plain": [
       "Epoch 14:   0%|          | 0/756 [00:00<?, ?batch/s]"
      ]
     },
     "metadata": {},
     "output_type": "display_data"
    },
    {
     "data": {
      "application/vnd.jupyter.widget-view+json": {
       "model_id": "a4eb082e32a142569410aa0c898f31aa",
       "version_major": 2,
       "version_minor": 0
      },
      "text/plain": [
       "Epoch 15:   0%|          | 0/756 [00:00<?, ?batch/s]"
      ]
     },
     "metadata": {},
     "output_type": "display_data"
    },
    {
     "data": {
      "application/vnd.jupyter.widget-view+json": {
       "model_id": "80f7874f808a48549d77526b920dbd6a",
       "version_major": 2,
       "version_minor": 0
      },
      "text/plain": [
       "Epoch 16:   0%|          | 0/756 [00:00<?, ?batch/s]"
      ]
     },
     "metadata": {},
     "output_type": "display_data"
    },
    {
     "data": {
      "application/vnd.jupyter.widget-view+json": {
       "model_id": "66a8b9f418294cb7b98f11f33ff900b2",
       "version_major": 2,
       "version_minor": 0
      },
      "text/plain": [
       "Epoch 17:   0%|          | 0/756 [00:00<?, ?batch/s]"
      ]
     },
     "metadata": {},
     "output_type": "display_data"
    },
    {
     "data": {
      "application/vnd.jupyter.widget-view+json": {
       "model_id": "6d3d1640e0174d2e846ffc25ba88239c",
       "version_major": 2,
       "version_minor": 0
      },
      "text/plain": [
       "Epoch 18:   0%|          | 0/756 [00:00<?, ?batch/s]"
      ]
     },
     "metadata": {},
     "output_type": "display_data"
    },
    {
     "data": {
      "application/vnd.jupyter.widget-view+json": {
       "model_id": "64d8ad7f7ccc42568ae4955b0fac80bb",
       "version_major": 2,
       "version_minor": 0
      },
      "text/plain": [
       "Epoch 19:   0%|          | 0/756 [00:00<?, ?batch/s]"
      ]
     },
     "metadata": {},
     "output_type": "display_data"
    },
    {
     "data": {
      "application/vnd.jupyter.widget-view+json": {
       "model_id": "ad4142600c2848eeaed62bcc342260d3",
       "version_major": 2,
       "version_minor": 0
      },
      "text/plain": [
       "Epoch 20:   0%|          | 0/756 [00:00<?, ?batch/s]"
      ]
     },
     "metadata": {},
     "output_type": "display_data"
    },
    {
     "data": {
      "application/vnd.jupyter.widget-view+json": {
       "model_id": "8b715cc03c4d4b2b839ed81bef9fb908",
       "version_major": 2,
       "version_minor": 0
      },
      "text/plain": [
       "Epoch 21:   0%|          | 0/756 [00:00<?, ?batch/s]"
      ]
     },
     "metadata": {},
     "output_type": "display_data"
    },
    {
     "data": {
      "application/vnd.jupyter.widget-view+json": {
       "model_id": "6ec981a073c540e59869ecfa8ab6b54a",
       "version_major": 2,
       "version_minor": 0
      },
      "text/plain": [
       "Epoch 22:   0%|          | 0/756 [00:00<?, ?batch/s]"
      ]
     },
     "metadata": {},
     "output_type": "display_data"
    },
    {
     "data": {
      "application/vnd.jupyter.widget-view+json": {
       "model_id": "5729955182cd4746848052a7d98af804",
       "version_major": 2,
       "version_minor": 0
      },
      "text/plain": [
       "Epoch 23:   0%|          | 0/756 [00:00<?, ?batch/s]"
      ]
     },
     "metadata": {},
     "output_type": "display_data"
    },
    {
     "data": {
      "application/vnd.jupyter.widget-view+json": {
       "model_id": "38e0d47d28af443e87cf2110abadcc22",
       "version_major": 2,
       "version_minor": 0
      },
      "text/plain": [
       "Epoch 24:   0%|          | 0/756 [00:00<?, ?batch/s]"
      ]
     },
     "metadata": {},
     "output_type": "display_data"
    },
    {
     "data": {
      "application/vnd.jupyter.widget-view+json": {
       "model_id": "1787b2d225044a46b676ff404cc4c590",
       "version_major": 2,
       "version_minor": 0
      },
      "text/plain": [
       "Epoch 25:   0%|          | 0/756 [00:00<?, ?batch/s]"
      ]
     },
     "metadata": {},
     "output_type": "display_data"
    },
    {
     "data": {
      "application/vnd.jupyter.widget-view+json": {
       "model_id": "a5d28e7f759c44adb65e4a32665cbfff",
       "version_major": 2,
       "version_minor": 0
      },
      "text/plain": [
       "Epoch 26:   0%|          | 0/756 [00:00<?, ?batch/s]"
      ]
     },
     "metadata": {},
     "output_type": "display_data"
    },
    {
     "data": {
      "application/vnd.jupyter.widget-view+json": {
       "model_id": "4fe60563fc004cc5826e8256d9daf552",
       "version_major": 2,
       "version_minor": 0
      },
      "text/plain": [
       "Epoch 27:   0%|          | 0/756 [00:00<?, ?batch/s]"
      ]
     },
     "metadata": {},
     "output_type": "display_data"
    },
    {
     "data": {
      "application/vnd.jupyter.widget-view+json": {
       "model_id": "7a964aa49eab4e1082d61964409bcf39",
       "version_major": 2,
       "version_minor": 0
      },
      "text/plain": [
       "Epoch 28:   0%|          | 0/756 [00:00<?, ?batch/s]"
      ]
     },
     "metadata": {},
     "output_type": "display_data"
    },
    {
     "data": {
      "application/vnd.jupyter.widget-view+json": {
       "model_id": "fac84096f9734cba9afb507edf28d26e",
       "version_major": 2,
       "version_minor": 0
      },
      "text/plain": [
       "Epoch 29:   0%|          | 0/756 [00:00<?, ?batch/s]"
      ]
     },
     "metadata": {},
     "output_type": "display_data"
    },
    {
     "data": {
      "application/vnd.jupyter.widget-view+json": {
       "model_id": "38e2983d9f154eb191abbded85b04c0b",
       "version_major": 2,
       "version_minor": 0
      },
      "text/plain": [
       "Epoch 30:   0%|          | 0/756 [00:00<?, ?batch/s]"
      ]
     },
     "metadata": {},
     "output_type": "display_data"
    },
    {
     "data": {
      "application/vnd.jupyter.widget-view+json": {
       "model_id": "2bff91cf7eb94c768da38f0e6b2144d7",
       "version_major": 2,
       "version_minor": 0
      },
      "text/plain": [
       "Epoch 31:   0%|          | 0/756 [00:00<?, ?batch/s]"
      ]
     },
     "metadata": {},
     "output_type": "display_data"
    },
    {
     "data": {
      "application/vnd.jupyter.widget-view+json": {
       "model_id": "7d63c5fa4f5849e3bc0ff250b6c4daa6",
       "version_major": 2,
       "version_minor": 0
      },
      "text/plain": [
       "Epoch 32:   0%|          | 0/756 [00:00<?, ?batch/s]"
      ]
     },
     "metadata": {},
     "output_type": "display_data"
    },
    {
     "data": {
      "application/vnd.jupyter.widget-view+json": {
       "model_id": "6e67e548bdd04b88989e41be8309e758",
       "version_major": 2,
       "version_minor": 0
      },
      "text/plain": [
       "Epoch 33:   0%|          | 0/756 [00:00<?, ?batch/s]"
      ]
     },
     "metadata": {},
     "output_type": "display_data"
    },
    {
     "data": {
      "application/vnd.jupyter.widget-view+json": {
       "model_id": "d61e8ea1c8df4a8ca8fbd97396be6937",
       "version_major": 2,
       "version_minor": 0
      },
      "text/plain": [
       "Epoch 34:   0%|          | 0/756 [00:00<?, ?batch/s]"
      ]
     },
     "metadata": {},
     "output_type": "display_data"
    },
    {
     "data": {
      "application/vnd.jupyter.widget-view+json": {
       "model_id": "87091af9d7194388862f6e8523f32773",
       "version_major": 2,
       "version_minor": 0
      },
      "text/plain": [
       "Epoch 35:   0%|          | 0/756 [00:00<?, ?batch/s]"
      ]
     },
     "metadata": {},
     "output_type": "display_data"
    },
    {
     "data": {
      "application/vnd.jupyter.widget-view+json": {
       "model_id": "c9390caed2e54650adc01d865fcd1568",
       "version_major": 2,
       "version_minor": 0
      },
      "text/plain": [
       "Epoch 36:   0%|          | 0/756 [00:00<?, ?batch/s]"
      ]
     },
     "metadata": {},
     "output_type": "display_data"
    },
    {
     "data": {
      "application/vnd.jupyter.widget-view+json": {
       "model_id": "8f5de20633064c158068a7a4ad816a61",
       "version_major": 2,
       "version_minor": 0
      },
      "text/plain": [
       "Epoch 37:   0%|          | 0/756 [00:00<?, ?batch/s]"
      ]
     },
     "metadata": {},
     "output_type": "display_data"
    },
    {
     "data": {
      "application/vnd.jupyter.widget-view+json": {
       "model_id": "57412e1d8fab4257a63146b67af164ec",
       "version_major": 2,
       "version_minor": 0
      },
      "text/plain": [
       "Epoch 38:   0%|          | 0/756 [00:00<?, ?batch/s]"
      ]
     },
     "metadata": {},
     "output_type": "display_data"
    },
    {
     "data": {
      "application/vnd.jupyter.widget-view+json": {
       "model_id": "a75490bd602f436b8ed3d7de2cce58ee",
       "version_major": 2,
       "version_minor": 0
      },
      "text/plain": [
       "Epoch 39:   0%|          | 0/756 [00:00<?, ?batch/s]"
      ]
     },
     "metadata": {},
     "output_type": "display_data"
    },
    {
     "data": {
      "application/vnd.jupyter.widget-view+json": {
       "model_id": "247a6a7593db4e9c991c4d28aea8a62f",
       "version_major": 2,
       "version_minor": 0
      },
      "text/plain": [
       "Epoch 40:   0%|          | 0/756 [00:00<?, ?batch/s]"
      ]
     },
     "metadata": {},
     "output_type": "display_data"
    },
    {
     "data": {
      "application/vnd.jupyter.widget-view+json": {
       "model_id": "594f51f1299348b49adcb30010ed00cc",
       "version_major": 2,
       "version_minor": 0
      },
      "text/plain": [
       "Epoch 41:   0%|          | 0/756 [00:00<?, ?batch/s]"
      ]
     },
     "metadata": {},
     "output_type": "display_data"
    },
    {
     "data": {
      "application/vnd.jupyter.widget-view+json": {
       "model_id": "8e96a19fa5c04b0293272b52ab30f56e",
       "version_major": 2,
       "version_minor": 0
      },
      "text/plain": [
       "Epoch 42:   0%|          | 0/756 [00:00<?, ?batch/s]"
      ]
     },
     "metadata": {},
     "output_type": "display_data"
    },
    {
     "data": {
      "application/vnd.jupyter.widget-view+json": {
       "model_id": "d7b6cc80f9164eeeb6c041b0f9e73f90",
       "version_major": 2,
       "version_minor": 0
      },
      "text/plain": [
       "Epoch 43:   0%|          | 0/756 [00:00<?, ?batch/s]"
      ]
     },
     "metadata": {},
     "output_type": "display_data"
    },
    {
     "data": {
      "application/vnd.jupyter.widget-view+json": {
       "model_id": "497f8a7052404a1e9b77b21ab640cb1e",
       "version_major": 2,
       "version_minor": 0
      },
      "text/plain": [
       "Epoch 44:   0%|          | 0/756 [00:00<?, ?batch/s]"
      ]
     },
     "metadata": {},
     "output_type": "display_data"
    },
    {
     "data": {
      "application/vnd.jupyter.widget-view+json": {
       "model_id": "e7d96de16dc64740afe786547d186173",
       "version_major": 2,
       "version_minor": 0
      },
      "text/plain": [
       "Epoch 45:   0%|          | 0/756 [00:00<?, ?batch/s]"
      ]
     },
     "metadata": {},
     "output_type": "display_data"
    },
    {
     "data": {
      "application/vnd.jupyter.widget-view+json": {
       "model_id": "e5b9c403e6654f8cb89bcfc8fda31072",
       "version_major": 2,
       "version_minor": 0
      },
      "text/plain": [
       "Epoch 46:   0%|          | 0/756 [00:00<?, ?batch/s]"
      ]
     },
     "metadata": {},
     "output_type": "display_data"
    },
    {
     "data": {
      "application/vnd.jupyter.widget-view+json": {
       "model_id": "52052b28a5f54f448ba780ae12abc487",
       "version_major": 2,
       "version_minor": 0
      },
      "text/plain": [
       "Epoch 47:   0%|          | 0/756 [00:00<?, ?batch/s]"
      ]
     },
     "metadata": {},
     "output_type": "display_data"
    },
    {
     "data": {
      "application/vnd.jupyter.widget-view+json": {
       "model_id": "0441aec46630422f9f1de04a57d49624",
       "version_major": 2,
       "version_minor": 0
      },
      "text/plain": [
       "Epoch 48:   0%|          | 0/756 [00:00<?, ?batch/s]"
      ]
     },
     "metadata": {},
     "output_type": "display_data"
    },
    {
     "data": {
      "application/vnd.jupyter.widget-view+json": {
       "model_id": "64bfd9108f994c92a27632b80fa6f601",
       "version_major": 2,
       "version_minor": 0
      },
      "text/plain": [
       "Epoch 49:   0%|          | 0/756 [00:00<?, ?batch/s]"
      ]
     },
     "metadata": {},
     "output_type": "display_data"
    },
    {
     "data": {
      "application/vnd.jupyter.widget-view+json": {
       "model_id": "73b03ea7236040baa5839317118f8c1b",
       "version_major": 2,
       "version_minor": 0
      },
      "text/plain": [
       "Epoch 50:   0%|          | 0/756 [00:00<?, ?batch/s]"
      ]
     },
     "metadata": {},
     "output_type": "display_data"
    },
    {
     "data": {
      "application/vnd.jupyter.widget-view+json": {
       "model_id": "0771632cfa52464c8adeed958e12c7c4",
       "version_major": 2,
       "version_minor": 0
      },
      "text/plain": [
       "Epoch 51:   0%|          | 0/756 [00:00<?, ?batch/s]"
      ]
     },
     "metadata": {},
     "output_type": "display_data"
    },
    {
     "data": {
      "application/vnd.jupyter.widget-view+json": {
       "model_id": "eaec4d80ad1a4a638ec348426b925f9a",
       "version_major": 2,
       "version_minor": 0
      },
      "text/plain": [
       "Epoch 52:   0%|          | 0/756 [00:00<?, ?batch/s]"
      ]
     },
     "metadata": {},
     "output_type": "display_data"
    },
    {
     "data": {
      "application/vnd.jupyter.widget-view+json": {
       "model_id": "955c017e0eaf4fcca9b55112ef3eccba",
       "version_major": 2,
       "version_minor": 0
      },
      "text/plain": [
       "Epoch 53:   0%|          | 0/756 [00:00<?, ?batch/s]"
      ]
     },
     "metadata": {},
     "output_type": "display_data"
    },
    {
     "data": {
      "application/vnd.jupyter.widget-view+json": {
       "model_id": "8ae4c8de583949ae96978b56debc6ef1",
       "version_major": 2,
       "version_minor": 0
      },
      "text/plain": [
       "Epoch 54:   0%|          | 0/756 [00:00<?, ?batch/s]"
      ]
     },
     "metadata": {},
     "output_type": "display_data"
    },
    {
     "data": {
      "application/vnd.jupyter.widget-view+json": {
       "model_id": "fec9823b04fc4f58bd033ddff22224c5",
       "version_major": 2,
       "version_minor": 0
      },
      "text/plain": [
       "Epoch 55:   0%|          | 0/756 [00:00<?, ?batch/s]"
      ]
     },
     "metadata": {},
     "output_type": "display_data"
    },
    {
     "data": {
      "application/vnd.jupyter.widget-view+json": {
       "model_id": "257cf26b8f9443b88cd44580bef6a4f1",
       "version_major": 2,
       "version_minor": 0
      },
      "text/plain": [
       "Epoch 56:   0%|          | 0/756 [00:00<?, ?batch/s]"
      ]
     },
     "metadata": {},
     "output_type": "display_data"
    },
    {
     "data": {
      "application/vnd.jupyter.widget-view+json": {
       "model_id": "d1dc3e510cdc4f77ae2e4a836f3a7647",
       "version_major": 2,
       "version_minor": 0
      },
      "text/plain": [
       "Epoch 57:   0%|          | 0/756 [00:00<?, ?batch/s]"
      ]
     },
     "metadata": {},
     "output_type": "display_data"
    },
    {
     "data": {
      "application/vnd.jupyter.widget-view+json": {
       "model_id": "c3e4c4f814ce4a22b3d33334eeecb072",
       "version_major": 2,
       "version_minor": 0
      },
      "text/plain": [
       "Epoch 58:   0%|          | 0/756 [00:00<?, ?batch/s]"
      ]
     },
     "metadata": {},
     "output_type": "display_data"
    },
    {
     "data": {
      "application/vnd.jupyter.widget-view+json": {
       "model_id": "6dea5a31706f4207a0e23c1af8351d2e",
       "version_major": 2,
       "version_minor": 0
      },
      "text/plain": [
       "Epoch 59:   0%|          | 0/756 [00:00<?, ?batch/s]"
      ]
     },
     "metadata": {},
     "output_type": "display_data"
    },
    {
     "data": {
      "application/vnd.jupyter.widget-view+json": {
       "model_id": "94f11f2080ed4bc7886ac3e5eac68f41",
       "version_major": 2,
       "version_minor": 0
      },
      "text/plain": [
       "Epoch 60:   0%|          | 0/756 [00:00<?, ?batch/s]"
      ]
     },
     "metadata": {},
     "output_type": "display_data"
    },
    {
     "data": {
      "application/vnd.jupyter.widget-view+json": {
       "model_id": "f0075ded0c9f4887a2ec694164d77dc0",
       "version_major": 2,
       "version_minor": 0
      },
      "text/plain": [
       "Epoch 61:   0%|          | 0/756 [00:00<?, ?batch/s]"
      ]
     },
     "metadata": {},
     "output_type": "display_data"
    },
    {
     "data": {
      "application/vnd.jupyter.widget-view+json": {
       "model_id": "fefaff2c7f264b7bacdbeeae40aa10fa",
       "version_major": 2,
       "version_minor": 0
      },
      "text/plain": [
       "Epoch 62:   0%|          | 0/756 [00:00<?, ?batch/s]"
      ]
     },
     "metadata": {},
     "output_type": "display_data"
    },
    {
     "data": {
      "application/vnd.jupyter.widget-view+json": {
       "model_id": "be940e2d23e64fee9000e4fb6662c4a2",
       "version_major": 2,
       "version_minor": 0
      },
      "text/plain": [
       "Epoch 63:   0%|          | 0/756 [00:00<?, ?batch/s]"
      ]
     },
     "metadata": {},
     "output_type": "display_data"
    },
    {
     "data": {
      "application/vnd.jupyter.widget-view+json": {
       "model_id": "278ca47db92e466a84193aef1b0ad113",
       "version_major": 2,
       "version_minor": 0
      },
      "text/plain": [
       "Epoch 64:   0%|          | 0/756 [00:00<?, ?batch/s]"
      ]
     },
     "metadata": {},
     "output_type": "display_data"
    },
    {
     "data": {
      "application/vnd.jupyter.widget-view+json": {
       "model_id": "1991e404980f462f8d53a064b287ef62",
       "version_major": 2,
       "version_minor": 0
      },
      "text/plain": [
       "Epoch 65:   0%|          | 0/756 [00:00<?, ?batch/s]"
      ]
     },
     "metadata": {},
     "output_type": "display_data"
    },
    {
     "data": {
      "application/vnd.jupyter.widget-view+json": {
       "model_id": "42b04d76bba7469e97b450d91b6d6b51",
       "version_major": 2,
       "version_minor": 0
      },
      "text/plain": [
       "Epoch 66:   0%|          | 0/756 [00:00<?, ?batch/s]"
      ]
     },
     "metadata": {},
     "output_type": "display_data"
    },
    {
     "data": {
      "application/vnd.jupyter.widget-view+json": {
       "model_id": "58d374053d0d4b179427a36d9cc37842",
       "version_major": 2,
       "version_minor": 0
      },
      "text/plain": [
       "Epoch 67:   0%|          | 0/756 [00:00<?, ?batch/s]"
      ]
     },
     "metadata": {},
     "output_type": "display_data"
    },
    {
     "data": {
      "application/vnd.jupyter.widget-view+json": {
       "model_id": "88a7b77855ce42f1bf437e5246253b94",
       "version_major": 2,
       "version_minor": 0
      },
      "text/plain": [
       "Epoch 68:   0%|          | 0/756 [00:00<?, ?batch/s]"
      ]
     },
     "metadata": {},
     "output_type": "display_data"
    },
    {
     "data": {
      "application/vnd.jupyter.widget-view+json": {
       "model_id": "0d365afab42c4cabb89fe6efdea271ce",
       "version_major": 2,
       "version_minor": 0
      },
      "text/plain": [
       "Epoch 69:   0%|          | 0/756 [00:00<?, ?batch/s]"
      ]
     },
     "metadata": {},
     "output_type": "display_data"
    },
    {
     "data": {
      "application/vnd.jupyter.widget-view+json": {
       "model_id": "6415ee61c2344ae8a9b13c703f5d06b9",
       "version_major": 2,
       "version_minor": 0
      },
      "text/plain": [
       "Epoch 70:   0%|          | 0/756 [00:00<?, ?batch/s]"
      ]
     },
     "metadata": {},
     "output_type": "display_data"
    },
    {
     "data": {
      "application/vnd.jupyter.widget-view+json": {
       "model_id": "ae7a06f0547448c99f5549aeac954aaf",
       "version_major": 2,
       "version_minor": 0
      },
      "text/plain": [
       "Epoch 71:   0%|          | 0/756 [00:00<?, ?batch/s]"
      ]
     },
     "metadata": {},
     "output_type": "display_data"
    },
    {
     "data": {
      "application/vnd.jupyter.widget-view+json": {
       "model_id": "d8977f6b50f24a55bcc5fc1823dcb83b",
       "version_major": 2,
       "version_minor": 0
      },
      "text/plain": [
       "Epoch 72:   0%|          | 0/756 [00:00<?, ?batch/s]"
      ]
     },
     "metadata": {},
     "output_type": "display_data"
    },
    {
     "data": {
      "application/vnd.jupyter.widget-view+json": {
       "model_id": "7375869ac7d346ab8c1eda961f06a453",
       "version_major": 2,
       "version_minor": 0
      },
      "text/plain": [
       "Epoch 73:   0%|          | 0/756 [00:00<?, ?batch/s]"
      ]
     },
     "metadata": {},
     "output_type": "display_data"
    },
    {
     "data": {
      "application/vnd.jupyter.widget-view+json": {
       "model_id": "5de3dedad2754d38acce0355ea95906e",
       "version_major": 2,
       "version_minor": 0
      },
      "text/plain": [
       "Epoch 74:   0%|          | 0/756 [00:00<?, ?batch/s]"
      ]
     },
     "metadata": {},
     "output_type": "display_data"
    },
    {
     "data": {
      "application/vnd.jupyter.widget-view+json": {
       "model_id": "c51468970ab744868d77a5646cd07d19",
       "version_major": 2,
       "version_minor": 0
      },
      "text/plain": [
       "Epoch 75:   0%|          | 0/756 [00:00<?, ?batch/s]"
      ]
     },
     "metadata": {},
     "output_type": "display_data"
    },
    {
     "data": {
      "application/vnd.jupyter.widget-view+json": {
       "model_id": "d2e92a3b400a407dab631eda888c2e2d",
       "version_major": 2,
       "version_minor": 0
      },
      "text/plain": [
       "Epoch 76:   0%|          | 0/756 [00:00<?, ?batch/s]"
      ]
     },
     "metadata": {},
     "output_type": "display_data"
    },
    {
     "data": {
      "application/vnd.jupyter.widget-view+json": {
       "model_id": "570d6e4b27da4a1db3cab619a68e94e7",
       "version_major": 2,
       "version_minor": 0
      },
      "text/plain": [
       "Epoch 77:   0%|          | 0/756 [00:00<?, ?batch/s]"
      ]
     },
     "metadata": {},
     "output_type": "display_data"
    },
    {
     "data": {
      "application/vnd.jupyter.widget-view+json": {
       "model_id": "85d3729bdc3743cd8c1811637a1832f6",
       "version_major": 2,
       "version_minor": 0
      },
      "text/plain": [
       "Epoch 78:   0%|          | 0/756 [00:00<?, ?batch/s]"
      ]
     },
     "metadata": {},
     "output_type": "display_data"
    },
    {
     "data": {
      "application/vnd.jupyter.widget-view+json": {
       "model_id": "7c2cdc4e5087498a9d1a53426e5d92b4",
       "version_major": 2,
       "version_minor": 0
      },
      "text/plain": [
       "Epoch 79:   0%|          | 0/756 [00:00<?, ?batch/s]"
      ]
     },
     "metadata": {},
     "output_type": "display_data"
    },
    {
     "data": {
      "application/vnd.jupyter.widget-view+json": {
       "model_id": "68870034c38140c1ab1d8691b274ab92",
       "version_major": 2,
       "version_minor": 0
      },
      "text/plain": [
       "Epoch 80:   0%|          | 0/756 [00:00<?, ?batch/s]"
      ]
     },
     "metadata": {},
     "output_type": "display_data"
    },
    {
     "data": {
      "application/vnd.jupyter.widget-view+json": {
       "model_id": "449485d450864cd881b111f4e80bcafa",
       "version_major": 2,
       "version_minor": 0
      },
      "text/plain": [
       "Epoch 81:   0%|          | 0/756 [00:00<?, ?batch/s]"
      ]
     },
     "metadata": {},
     "output_type": "display_data"
    },
    {
     "data": {
      "application/vnd.jupyter.widget-view+json": {
       "model_id": "256c585918a2491c9bafa02e0944a397",
       "version_major": 2,
       "version_minor": 0
      },
      "text/plain": [
       "Epoch 82:   0%|          | 0/756 [00:00<?, ?batch/s]"
      ]
     },
     "metadata": {},
     "output_type": "display_data"
    },
    {
     "data": {
      "application/vnd.jupyter.widget-view+json": {
       "model_id": "f38a2b48c3134e929d0ebbfd70e4e821",
       "version_major": 2,
       "version_minor": 0
      },
      "text/plain": [
       "Epoch 83:   0%|          | 0/756 [00:00<?, ?batch/s]"
      ]
     },
     "metadata": {},
     "output_type": "display_data"
    },
    {
     "data": {
      "application/vnd.jupyter.widget-view+json": {
       "model_id": "533b1d93afdb439eb805bb3a9f257314",
       "version_major": 2,
       "version_minor": 0
      },
      "text/plain": [
       "Epoch 84:   0%|          | 0/756 [00:00<?, ?batch/s]"
      ]
     },
     "metadata": {},
     "output_type": "display_data"
    },
    {
     "data": {
      "application/vnd.jupyter.widget-view+json": {
       "model_id": "bfa82ee0f6b749f6be3bf3c603650952",
       "version_major": 2,
       "version_minor": 0
      },
      "text/plain": [
       "Epoch 85:   0%|          | 0/756 [00:00<?, ?batch/s]"
      ]
     },
     "metadata": {},
     "output_type": "display_data"
    },
    {
     "data": {
      "application/vnd.jupyter.widget-view+json": {
       "model_id": "79aaf3ecd4554a01a0e7e3cc27051402",
       "version_major": 2,
       "version_minor": 0
      },
      "text/plain": [
       "Epoch 86:   0%|          | 0/756 [00:00<?, ?batch/s]"
      ]
     },
     "metadata": {},
     "output_type": "display_data"
    },
    {
     "data": {
      "application/vnd.jupyter.widget-view+json": {
       "model_id": "2cdb214b71cf43b1a8d16eacc70d4aaa",
       "version_major": 2,
       "version_minor": 0
      },
      "text/plain": [
       "Epoch 87:   0%|          | 0/756 [00:00<?, ?batch/s]"
      ]
     },
     "metadata": {},
     "output_type": "display_data"
    },
    {
     "data": {
      "application/vnd.jupyter.widget-view+json": {
       "model_id": "99dda5f25db843ff884bf4a773eb4209",
       "version_major": 2,
       "version_minor": 0
      },
      "text/plain": [
       "Epoch 88:   0%|          | 0/756 [00:00<?, ?batch/s]"
      ]
     },
     "metadata": {},
     "output_type": "display_data"
    },
    {
     "data": {
      "application/vnd.jupyter.widget-view+json": {
       "model_id": "3e9986ee8b714cf79801fb97e42731cb",
       "version_major": 2,
       "version_minor": 0
      },
      "text/plain": [
       "Epoch 89:   0%|          | 0/756 [00:00<?, ?batch/s]"
      ]
     },
     "metadata": {},
     "output_type": "display_data"
    },
    {
     "data": {
      "application/vnd.jupyter.widget-view+json": {
       "model_id": "cd88ac6bc95147c0924f2cf24446dd46",
       "version_major": 2,
       "version_minor": 0
      },
      "text/plain": [
       "Epoch 90:   0%|          | 0/756 [00:00<?, ?batch/s]"
      ]
     },
     "metadata": {},
     "output_type": "display_data"
    },
    {
     "data": {
      "application/vnd.jupyter.widget-view+json": {
       "model_id": "43ba6be9c80640a6b13550134ad2bee9",
       "version_major": 2,
       "version_minor": 0
      },
      "text/plain": [
       "Epoch 91:   0%|          | 0/756 [00:00<?, ?batch/s]"
      ]
     },
     "metadata": {},
     "output_type": "display_data"
    },
    {
     "data": {
      "application/vnd.jupyter.widget-view+json": {
       "model_id": "c4427447afb14d74a6a765de204f4a8d",
       "version_major": 2,
       "version_minor": 0
      },
      "text/plain": [
       "Epoch 92:   0%|          | 0/756 [00:00<?, ?batch/s]"
      ]
     },
     "metadata": {},
     "output_type": "display_data"
    },
    {
     "data": {
      "application/vnd.jupyter.widget-view+json": {
       "model_id": "a7895e1c3e934bbaa11524e1f9b255d6",
       "version_major": 2,
       "version_minor": 0
      },
      "text/plain": [
       "Epoch 93:   0%|          | 0/756 [00:00<?, ?batch/s]"
      ]
     },
     "metadata": {},
     "output_type": "display_data"
    },
    {
     "data": {
      "application/vnd.jupyter.widget-view+json": {
       "model_id": "7ff7dddc2cdb4f34bfaffe9edf6ab58c",
       "version_major": 2,
       "version_minor": 0
      },
      "text/plain": [
       "Epoch 94:   0%|          | 0/756 [00:00<?, ?batch/s]"
      ]
     },
     "metadata": {},
     "output_type": "display_data"
    },
    {
     "data": {
      "application/vnd.jupyter.widget-view+json": {
       "model_id": "76d1374b5ba74381bdcbdd1b523169d7",
       "version_major": 2,
       "version_minor": 0
      },
      "text/plain": [
       "Epoch 95:   0%|          | 0/756 [00:00<?, ?batch/s]"
      ]
     },
     "metadata": {},
     "output_type": "display_data"
    },
    {
     "data": {
      "application/vnd.jupyter.widget-view+json": {
       "model_id": "9007ce845ff74644a8891a62487ca3bc",
       "version_major": 2,
       "version_minor": 0
      },
      "text/plain": [
       "Epoch 96:   0%|          | 0/756 [00:00<?, ?batch/s]"
      ]
     },
     "metadata": {},
     "output_type": "display_data"
    },
    {
     "data": {
      "application/vnd.jupyter.widget-view+json": {
       "model_id": "012a662bef9148799c37bf14df794473",
       "version_major": 2,
       "version_minor": 0
      },
      "text/plain": [
       "Epoch 97:   0%|          | 0/756 [00:00<?, ?batch/s]"
      ]
     },
     "metadata": {},
     "output_type": "display_data"
    },
    {
     "data": {
      "application/vnd.jupyter.widget-view+json": {
       "model_id": "1dd39d5eb0904ad4bfd9ef41560c0ef3",
       "version_major": 2,
       "version_minor": 0
      },
      "text/plain": [
       "Epoch 98:   0%|          | 0/756 [00:00<?, ?batch/s]"
      ]
     },
     "metadata": {},
     "output_type": "display_data"
    },
    {
     "data": {
      "application/vnd.jupyter.widget-view+json": {
       "model_id": "0f0d95bc9963423d93cdfc726284c369",
       "version_major": 2,
       "version_minor": 0
      },
      "text/plain": [
       "Epoch 99:   0%|          | 0/756 [00:00<?, ?batch/s]"
      ]
     },
     "metadata": {},
     "output_type": "display_data"
    },
    {
     "data": {
      "application/vnd.jupyter.widget-view+json": {
       "model_id": "a64834e60b814906a8451f72e5a49f5a",
       "version_major": 2,
       "version_minor": 0
      },
      "text/plain": [
       "Epoch 100:   0%|          | 0/756 [00:00<?, ?batch/s]"
      ]
     },
     "metadata": {},
     "output_type": "display_data"
    },
    {
     "name": "stderr",
     "output_type": "stream",
     "text": [
      "\u001b[31m2025/02/06 19:29:12 WARNING mlflow.models.model: Model logged without a signature and input example. Please set `input_example` parameter when logging the model to auto infer the model signature.\u001b[0m\n",
      "Registered model 'FraudEncoder' already exists. Creating a new version of this model...\n",
      "Created version '20' of model 'FraudEncoder'.\n"
     ]
    },
    {
     "name": "stdout",
     "output_type": "stream",
     "text": [
      "Feature engineering pipeline completed. Run ID: df38d85d415c4e409d5b229badadd045\n"
     ]
    }
   ],
   "source": [
    "if __name__ == \"__main__\":\n",
    "    experiment_name = CONFIG[\"experiment_names\"][\"feature_engineering\"]\n",
    "    configure_mlflow(experiment_name)\n",
    "    with mlflow.start_run(run_name=CONFIG[\"run_names\"][\"feature_engineering\"]) as run:\n",
    "        feature_engineering_pipeline(CONFIG)\n",
    "        print(\"Feature engineering pipeline completed. Run ID:\", mlflow.active_run().info.run_id)"
   ]
  },
  {
   "cell_type": "code",
   "execution_count": null,
   "id": "4c1877c9-3b6d-4d85-ac42-230a9346747a",
   "metadata": {},
   "outputs": [],
   "source": []
  }
 ],
 "metadata": {
  "kernelspec": {
   "display_name": "Python 3 (ipykernel)",
   "language": "python",
   "name": "python3"
  },
  "language_info": {
   "codemirror_mode": {
    "name": "ipython",
    "version": 3
   },
   "file_extension": ".py",
   "mimetype": "text/x-python",
   "name": "python",
   "nbconvert_exporter": "python",
   "pygments_lexer": "ipython3",
   "version": "3.12.7"
  }
 },
 "nbformat": 4,
 "nbformat_minor": 5
}
