{
 "cells": [
  {
   "cell_type": "code",
   "execution_count": 1,
   "id": "052c6fcd-01e0-4d56-b825-bff657594f15",
   "metadata": {},
   "outputs": [],
   "source": [
    "temp_dir = \"temp_download\""
   ]
  },
  {
   "cell_type": "code",
   "execution_count": 2,
   "id": "6b35d607-3384-4013-991a-f0140c21784a",
   "metadata": {},
   "outputs": [],
   "source": [
    "import os\n",
    "import pandas as pd\n",
    "\n",
    "X_train_scaled = pd.read_csv(os.path.join(temp_dir, \"X_train_scaled.csv\"))\n",
    "X_val_scaled = pd.read_csv(os.path.join(temp_dir, \"X_val_scaled.csv\"))\n",
    "X_test_scaled = pd.read_csv(os.path.join(temp_dir, \"X_test_scaled.csv\"))\n",
    "\n",
    "y_train = pd.read_csv(os.path.join(temp_dir, \"y_train.csv\"))\n",
    "y_val = pd.read_csv(os.path.join(temp_dir, \"y_val.csv\"))"
   ]
  },
  {
   "cell_type": "code",
   "execution_count": 3,
   "id": "67c31a75-c44d-48a6-a0e4-86f65ea34a2c",
   "metadata": {},
   "outputs": [],
   "source": [
    "import torch\n",
    "\n",
    "train_tensor = torch.FloatTensor(X_train_scaled.values)\n",
    "val_tensor = torch.FloatTensor(X_val_scaled.values)\n",
    "test_tensor = torch.FloatTensor(X_test_scaled.values)"
   ]
  },
  {
   "cell_type": "code",
   "execution_count": 4,
   "id": "da6a8a0e-6a86-41d3-b712-fd87f5c1ecf0",
   "metadata": {},
   "outputs": [],
   "source": [
    "non_fraud_mask_train = (y_train == 0).values\n",
    "non_fraud_mask_val = (y_val == 0).values"
   ]
  },
  {
   "cell_type": "code",
   "execution_count": 5,
   "id": "c7cad29f-94c9-4992-b1ab-97e7f98ee583",
   "metadata": {},
   "outputs": [],
   "source": [
    "X_train_non_fraud = X_train_scaled[non_fraud_mask_train]\n",
    "X_val_non_fraud = X_val_scaled[non_fraud_mask_val]"
   ]
  },
  {
   "cell_type": "code",
   "execution_count": 6,
   "id": "b090556f-a8f0-4838-ac69-79851a7df8ce",
   "metadata": {},
   "outputs": [],
   "source": [
    "from torch.utils.data import TensorDataset"
   ]
  },
  {
   "cell_type": "code",
   "execution_count": 7,
   "id": "382e4a5a-ade5-4647-829d-479423d50c08",
   "metadata": {},
   "outputs": [],
   "source": [
    "train_dataset = TensorDataset(torch.tensor(X_train_non_fraud.values, dtype=torch.float32))\n",
    "val_dataset = TensorDataset(torch.tensor(X_val_non_fraud.values, dtype=torch.float32))"
   ]
  },
  {
   "cell_type": "code",
   "execution_count": 8,
   "id": "a46304dc-5123-4cc0-8a37-7bb026985903",
   "metadata": {},
   "outputs": [],
   "source": [
    "device = torch.device(\"cuda\" if torch.cuda.is_available() else \"cpu\")"
   ]
  },
  {
   "cell_type": "code",
   "execution_count": 9,
   "id": "a5205866-2d9c-4c8c-9f9d-a7d9cf5fb93f",
   "metadata": {},
   "outputs": [],
   "source": [
    "import torch.nn as nn\n",
    "\n",
    "class Autoencoder(nn.Module):\n",
    "    def __init__(self, input_dim, encoding_dim):\n",
    "        super().__init__()\n",
    "        \n",
    "        # Encoder layers\n",
    "        self.enc1 = nn.Linear(input_dim, 128)\n",
    "        self.enc_act1 = nn.ReLU()\n",
    "        self.enc2 = nn.Linear(128, 64)\n",
    "        self.enc_bn = nn.BatchNorm1d(64)\n",
    "        self.enc_act2 = nn.ReLU()\n",
    "        self.enc3 = nn.Linear(64, encoding_dim)\n",
    "        self.dropout = nn.Dropout(0.2)\n",
    "        \n",
    "        # Decoder layers\n",
    "        self.dec1 = nn.Linear(encoding_dim, 64)\n",
    "        self.dec_act1 = nn.ReLU()\n",
    "        self.dec2 = nn.Linear(64, 128)\n",
    "        self.dec_act2 = nn.ReLU()\n",
    "        self.dec3 = nn.Linear(128, input_dim)\n",
    "\n",
    "    def forward(self, x):\n",
    "        # Encoder\n",
    "        enc1_out = self.enc_act1(self.enc1(x))\n",
    "        enc2_out = self.enc_act2(self.enc_bn(self.enc2(enc1_out)))\n",
    "        encoding = self.enc3(enc2_out)\n",
    "        drop = self.dropout(encoding)\n",
    "        \n",
    "        # Decoder with skip connections\n",
    "        dec1_out = self.dec_act1(self.dec1(drop))\n",
    "        # Skip connection from enc2_out to decoder\n",
    "        dec2_in = dec1_out + enc2_out\n",
    "        dec2_out = self.dec_act2(self.dec2(dec2_in))\n",
    "        # Skip connection from enc1_out to decoder\n",
    "        dec3_in = dec2_out + enc1_out\n",
    "        output = self.dec3(dec3_in)\n",
    "        \n",
    "        return output\n",
    "\n",
    "# Initialize\n",
    "input_dim = X_train_scaled.shape[1]\n",
    "encoding_dim = 32\n",
    "autoencoder = Autoencoder(input_dim, encoding_dim).to(device)"
   ]
  },
  {
   "cell_type": "code",
   "execution_count": 10,
   "id": "caee344c-41ea-4ed6-89dd-cffb8156ae85",
   "metadata": {},
   "outputs": [],
   "source": [
    "class Encoder(nn.Module):\n",
    "    def __init__(self, autoencoder):\n",
    "        super(Encoder, self).__init__()\n",
    "        \n",
    "        # Copy the encoder layers from the autoencoder\n",
    "        self.enc1 = autoencoder.enc1\n",
    "        self.enc_act1 = autoencoder.enc_act1\n",
    "        self.enc2 = autoencoder.enc2\n",
    "        self.enc_bn = autoencoder.enc_bn\n",
    "        self.enc_act2 = autoencoder.enc_act2\n",
    "        self.enc3 = autoencoder.enc3\n",
    "\n",
    "    def forward(self, x):\n",
    "        # Forward pass through the encoder\n",
    "        x = self.enc_act1(self.enc1(x))\n",
    "        x = self.enc_act2(self.enc_bn(self.enc2(x)))\n",
    "        x = self.enc3(x)\n",
    "        \n",
    "        return x"
   ]
  },
  {
   "cell_type": "code",
   "execution_count": 11,
   "id": "43873b21-599c-4eb0-a500-12ebb54bc585",
   "metadata": {},
   "outputs": [],
   "source": [
    "lr = 1e-4\n",
    "criterion = nn.SmoothL1Loss()\n",
    "optimizer = torch.optim.Adam(autoencoder.parameters(), lr=lr, weight_decay=1e-5)\n",
    "scheduler = torch.optim.lr_scheduler.ReduceLROnPlateau(optimizer, 'min', patience=3)\n",
    "\n",
    "epochs = 200\n",
    "train_losses = []\n",
    "val_losses = []\n",
    "best_loss = float('inf')\n",
    "save_path = os.path.join(temp_dir, \"best_autoencoder.pth\")"
   ]
  },
  {
   "cell_type": "code",
   "execution_count": 12,
   "id": "6a5952ff-129b-4af0-8a13-3882a325c82d",
   "metadata": {},
   "outputs": [],
   "source": [
    "from torch.utils.data import DataLoader\n",
    "\n",
    "batch_size = 256\n",
    "train_loader = DataLoader(train_dataset, batch_size=batch_size, shuffle=True, num_workers=os.cpu_count())\n",
    "val_loader = DataLoader(val_dataset, batch_size=batch_size, num_workers=os.cpu_count())"
   ]
  },
  {
   "cell_type": "code",
   "execution_count": 13,
   "id": "6109d792-0b46-4e3e-9fd9-be90c2eedb2e",
   "metadata": {},
   "outputs": [
    {
     "data": {
      "application/vnd.jupyter.widget-view+json": {
       "model_id": "58a849c5a6ce4c548303f634715469b8",
       "version_major": 2,
       "version_minor": 0
      },
      "text/plain": [
       "Training Autoencoder:   0%|          | 0/200 [00:00<?, ?epoch/s]"
      ]
     },
     "metadata": {},
     "output_type": "display_data"
    },
    {
     "data": {
      "application/vnd.jupyter.widget-view+json": {
       "model_id": "4388a727c55d4494920fcf09122fbe0d",
       "version_major": 2,
       "version_minor": 0
      },
      "text/plain": [
       "Epoch 1:   0%|          | 0/756 [00:00<?, ?batch/s]"
      ]
     },
     "metadata": {},
     "output_type": "display_data"
    },
    {
     "data": {
      "application/vnd.jupyter.widget-view+json": {
       "model_id": "178509f5e48d4ee88e246dfac66640c0",
       "version_major": 2,
       "version_minor": 0
      },
      "text/plain": [
       "Epoch 2:   0%|          | 0/756 [00:00<?, ?batch/s]"
      ]
     },
     "metadata": {},
     "output_type": "display_data"
    },
    {
     "data": {
      "application/vnd.jupyter.widget-view+json": {
       "model_id": "a88d5a8b76c140ce969ff0fc0a9d9401",
       "version_major": 2,
       "version_minor": 0
      },
      "text/plain": [
       "Epoch 3:   0%|          | 0/756 [00:00<?, ?batch/s]"
      ]
     },
     "metadata": {},
     "output_type": "display_data"
    },
    {
     "data": {
      "application/vnd.jupyter.widget-view+json": {
       "model_id": "c98dbc6400f048a88f5de384edda5347",
       "version_major": 2,
       "version_minor": 0
      },
      "text/plain": [
       "Epoch 4:   0%|          | 0/756 [00:00<?, ?batch/s]"
      ]
     },
     "metadata": {},
     "output_type": "display_data"
    },
    {
     "data": {
      "application/vnd.jupyter.widget-view+json": {
       "model_id": "673fe524672c47949b18757034d3c0a3",
       "version_major": 2,
       "version_minor": 0
      },
      "text/plain": [
       "Epoch 5:   0%|          | 0/756 [00:00<?, ?batch/s]"
      ]
     },
     "metadata": {},
     "output_type": "display_data"
    },
    {
     "data": {
      "application/vnd.jupyter.widget-view+json": {
       "model_id": "8a9ba6e489384acba4758a891d738bab",
       "version_major": 2,
       "version_minor": 0
      },
      "text/plain": [
       "Epoch 6:   0%|          | 0/756 [00:00<?, ?batch/s]"
      ]
     },
     "metadata": {},
     "output_type": "display_data"
    },
    {
     "data": {
      "application/vnd.jupyter.widget-view+json": {
       "model_id": "522b8d3bd0644c209d7f38563d603ddf",
       "version_major": 2,
       "version_minor": 0
      },
      "text/plain": [
       "Epoch 7:   0%|          | 0/756 [00:00<?, ?batch/s]"
      ]
     },
     "metadata": {},
     "output_type": "display_data"
    },
    {
     "data": {
      "application/vnd.jupyter.widget-view+json": {
       "model_id": "7dae4d29c0fd40f1a6e20b94d60bdb93",
       "version_major": 2,
       "version_minor": 0
      },
      "text/plain": [
       "Epoch 8:   0%|          | 0/756 [00:00<?, ?batch/s]"
      ]
     },
     "metadata": {},
     "output_type": "display_data"
    },
    {
     "data": {
      "application/vnd.jupyter.widget-view+json": {
       "model_id": "f00c51422ea94143a6a1c760e3b88b08",
       "version_major": 2,
       "version_minor": 0
      },
      "text/plain": [
       "Epoch 9:   0%|          | 0/756 [00:00<?, ?batch/s]"
      ]
     },
     "metadata": {},
     "output_type": "display_data"
    },
    {
     "data": {
      "application/vnd.jupyter.widget-view+json": {
       "model_id": "b5d38142275249408388c8be52ffacd0",
       "version_major": 2,
       "version_minor": 0
      },
      "text/plain": [
       "Epoch 10:   0%|          | 0/756 [00:00<?, ?batch/s]"
      ]
     },
     "metadata": {},
     "output_type": "display_data"
    },
    {
     "data": {
      "application/vnd.jupyter.widget-view+json": {
       "model_id": "b35dbec916c041c7951c12ea8c954610",
       "version_major": 2,
       "version_minor": 0
      },
      "text/plain": [
       "Epoch 11:   0%|          | 0/756 [00:00<?, ?batch/s]"
      ]
     },
     "metadata": {},
     "output_type": "display_data"
    },
    {
     "data": {
      "application/vnd.jupyter.widget-view+json": {
       "model_id": "945c66b536d64c3dbbb29ddc62973959",
       "version_major": 2,
       "version_minor": 0
      },
      "text/plain": [
       "Epoch 12:   0%|          | 0/756 [00:00<?, ?batch/s]"
      ]
     },
     "metadata": {},
     "output_type": "display_data"
    },
    {
     "data": {
      "application/vnd.jupyter.widget-view+json": {
       "model_id": "62f672f317664cc3bb909ce01e13db25",
       "version_major": 2,
       "version_minor": 0
      },
      "text/plain": [
       "Epoch 13:   0%|          | 0/756 [00:00<?, ?batch/s]"
      ]
     },
     "metadata": {},
     "output_type": "display_data"
    },
    {
     "data": {
      "application/vnd.jupyter.widget-view+json": {
       "model_id": "71e41b1fba3849c8a5f0debf40cdcf98",
       "version_major": 2,
       "version_minor": 0
      },
      "text/plain": [
       "Epoch 14:   0%|          | 0/756 [00:00<?, ?batch/s]"
      ]
     },
     "metadata": {},
     "output_type": "display_data"
    },
    {
     "data": {
      "application/vnd.jupyter.widget-view+json": {
       "model_id": "b05b008786c540178b62a310ab086494",
       "version_major": 2,
       "version_minor": 0
      },
      "text/plain": [
       "Epoch 15:   0%|          | 0/756 [00:00<?, ?batch/s]"
      ]
     },
     "metadata": {},
     "output_type": "display_data"
    },
    {
     "data": {
      "application/vnd.jupyter.widget-view+json": {
       "model_id": "8001a6c8aed04365ba1ede5812711886",
       "version_major": 2,
       "version_minor": 0
      },
      "text/plain": [
       "Epoch 16:   0%|          | 0/756 [00:00<?, ?batch/s]"
      ]
     },
     "metadata": {},
     "output_type": "display_data"
    },
    {
     "data": {
      "application/vnd.jupyter.widget-view+json": {
       "model_id": "9d15fa9b1006495d9b6f5ceac37e1634",
       "version_major": 2,
       "version_minor": 0
      },
      "text/plain": [
       "Epoch 17:   0%|          | 0/756 [00:00<?, ?batch/s]"
      ]
     },
     "metadata": {},
     "output_type": "display_data"
    },
    {
     "data": {
      "application/vnd.jupyter.widget-view+json": {
       "model_id": "a7ce959641bd4ac99292c26db08a0710",
       "version_major": 2,
       "version_minor": 0
      },
      "text/plain": [
       "Epoch 18:   0%|          | 0/756 [00:00<?, ?batch/s]"
      ]
     },
     "metadata": {},
     "output_type": "display_data"
    },
    {
     "data": {
      "application/vnd.jupyter.widget-view+json": {
       "model_id": "c001766e6c27463c886c7925f7c857a3",
       "version_major": 2,
       "version_minor": 0
      },
      "text/plain": [
       "Epoch 19:   0%|          | 0/756 [00:00<?, ?batch/s]"
      ]
     },
     "metadata": {},
     "output_type": "display_data"
    },
    {
     "data": {
      "application/vnd.jupyter.widget-view+json": {
       "model_id": "d37bfcbd52bf44e984781e7dd6e44dae",
       "version_major": 2,
       "version_minor": 0
      },
      "text/plain": [
       "Epoch 20:   0%|          | 0/756 [00:00<?, ?batch/s]"
      ]
     },
     "metadata": {},
     "output_type": "display_data"
    },
    {
     "data": {
      "application/vnd.jupyter.widget-view+json": {
       "model_id": "4cdd1a1c1086424d8be3037c19e4b100",
       "version_major": 2,
       "version_minor": 0
      },
      "text/plain": [
       "Epoch 21:   0%|          | 0/756 [00:00<?, ?batch/s]"
      ]
     },
     "metadata": {},
     "output_type": "display_data"
    },
    {
     "data": {
      "application/vnd.jupyter.widget-view+json": {
       "model_id": "fe492b8c5ba44f80a3c14835e7b30f30",
       "version_major": 2,
       "version_minor": 0
      },
      "text/plain": [
       "Epoch 22:   0%|          | 0/756 [00:00<?, ?batch/s]"
      ]
     },
     "metadata": {},
     "output_type": "display_data"
    },
    {
     "data": {
      "application/vnd.jupyter.widget-view+json": {
       "model_id": "09b7e885a19146c4a6d498f2404c4c44",
       "version_major": 2,
       "version_minor": 0
      },
      "text/plain": [
       "Epoch 23:   0%|          | 0/756 [00:00<?, ?batch/s]"
      ]
     },
     "metadata": {},
     "output_type": "display_data"
    },
    {
     "data": {
      "application/vnd.jupyter.widget-view+json": {
       "model_id": "efd5e8a511ac4ab9ad13c53e51a0c588",
       "version_major": 2,
       "version_minor": 0
      },
      "text/plain": [
       "Epoch 24:   0%|          | 0/756 [00:00<?, ?batch/s]"
      ]
     },
     "metadata": {},
     "output_type": "display_data"
    },
    {
     "data": {
      "application/vnd.jupyter.widget-view+json": {
       "model_id": "ddfa273b4f2a4f8f82c6319de98a87be",
       "version_major": 2,
       "version_minor": 0
      },
      "text/plain": [
       "Epoch 25:   0%|          | 0/756 [00:00<?, ?batch/s]"
      ]
     },
     "metadata": {},
     "output_type": "display_data"
    },
    {
     "data": {
      "application/vnd.jupyter.widget-view+json": {
       "model_id": "101ac8e7d3b645f38e9af4369a5013b9",
       "version_major": 2,
       "version_minor": 0
      },
      "text/plain": [
       "Epoch 26:   0%|          | 0/756 [00:00<?, ?batch/s]"
      ]
     },
     "metadata": {},
     "output_type": "display_data"
    },
    {
     "data": {
      "application/vnd.jupyter.widget-view+json": {
       "model_id": "29830df3f2fc44c68dd8df536631bb89",
       "version_major": 2,
       "version_minor": 0
      },
      "text/plain": [
       "Epoch 27:   0%|          | 0/756 [00:00<?, ?batch/s]"
      ]
     },
     "metadata": {},
     "output_type": "display_data"
    },
    {
     "data": {
      "application/vnd.jupyter.widget-view+json": {
       "model_id": "8a8d9247ed3e419f976ad5bcf9916c70",
       "version_major": 2,
       "version_minor": 0
      },
      "text/plain": [
       "Epoch 28:   0%|          | 0/756 [00:00<?, ?batch/s]"
      ]
     },
     "metadata": {},
     "output_type": "display_data"
    },
    {
     "data": {
      "application/vnd.jupyter.widget-view+json": {
       "model_id": "1fb0fe84cb8642d9a2d0845a65cefc9b",
       "version_major": 2,
       "version_minor": 0
      },
      "text/plain": [
       "Epoch 29:   0%|          | 0/756 [00:00<?, ?batch/s]"
      ]
     },
     "metadata": {},
     "output_type": "display_data"
    },
    {
     "data": {
      "application/vnd.jupyter.widget-view+json": {
       "model_id": "ffefc7dcf5684dfb9b5bb6cd71ab0864",
       "version_major": 2,
       "version_minor": 0
      },
      "text/plain": [
       "Epoch 30:   0%|          | 0/756 [00:00<?, ?batch/s]"
      ]
     },
     "metadata": {},
     "output_type": "display_data"
    },
    {
     "data": {
      "application/vnd.jupyter.widget-view+json": {
       "model_id": "ae665ea265eb4cc6a095f701d70ca154",
       "version_major": 2,
       "version_minor": 0
      },
      "text/plain": [
       "Epoch 31:   0%|          | 0/756 [00:00<?, ?batch/s]"
      ]
     },
     "metadata": {},
     "output_type": "display_data"
    },
    {
     "data": {
      "application/vnd.jupyter.widget-view+json": {
       "model_id": "2e32840fca994d4ba3f2320670d51076",
       "version_major": 2,
       "version_minor": 0
      },
      "text/plain": [
       "Epoch 32:   0%|          | 0/756 [00:00<?, ?batch/s]"
      ]
     },
     "metadata": {},
     "output_type": "display_data"
    },
    {
     "data": {
      "application/vnd.jupyter.widget-view+json": {
       "model_id": "31236ae38e464ca6b61945e954dd3be4",
       "version_major": 2,
       "version_minor": 0
      },
      "text/plain": [
       "Epoch 33:   0%|          | 0/756 [00:00<?, ?batch/s]"
      ]
     },
     "metadata": {},
     "output_type": "display_data"
    },
    {
     "data": {
      "application/vnd.jupyter.widget-view+json": {
       "model_id": "ad22e21998ad4851b9b9db4493cba268",
       "version_major": 2,
       "version_minor": 0
      },
      "text/plain": [
       "Epoch 34:   0%|          | 0/756 [00:00<?, ?batch/s]"
      ]
     },
     "metadata": {},
     "output_type": "display_data"
    },
    {
     "data": {
      "application/vnd.jupyter.widget-view+json": {
       "model_id": "cb96a5f8b2b846238a78e67821253ffd",
       "version_major": 2,
       "version_minor": 0
      },
      "text/plain": [
       "Epoch 35:   0%|          | 0/756 [00:00<?, ?batch/s]"
      ]
     },
     "metadata": {},
     "output_type": "display_data"
    },
    {
     "data": {
      "application/vnd.jupyter.widget-view+json": {
       "model_id": "01ab765dfb2e41b0ad752d70e1a4938d",
       "version_major": 2,
       "version_minor": 0
      },
      "text/plain": [
       "Epoch 36:   0%|          | 0/756 [00:00<?, ?batch/s]"
      ]
     },
     "metadata": {},
     "output_type": "display_data"
    },
    {
     "data": {
      "application/vnd.jupyter.widget-view+json": {
       "model_id": "1e835fcf70db4513832c2c53f790e2a4",
       "version_major": 2,
       "version_minor": 0
      },
      "text/plain": [
       "Epoch 37:   0%|          | 0/756 [00:00<?, ?batch/s]"
      ]
     },
     "metadata": {},
     "output_type": "display_data"
    },
    {
     "data": {
      "application/vnd.jupyter.widget-view+json": {
       "model_id": "048d49947114405486434b5cd894f6d4",
       "version_major": 2,
       "version_minor": 0
      },
      "text/plain": [
       "Epoch 38:   0%|          | 0/756 [00:00<?, ?batch/s]"
      ]
     },
     "metadata": {},
     "output_type": "display_data"
    },
    {
     "data": {
      "application/vnd.jupyter.widget-view+json": {
       "model_id": "b679d57c92b6459a978ecf1968b4b4eb",
       "version_major": 2,
       "version_minor": 0
      },
      "text/plain": [
       "Epoch 39:   0%|          | 0/756 [00:00<?, ?batch/s]"
      ]
     },
     "metadata": {},
     "output_type": "display_data"
    },
    {
     "data": {
      "application/vnd.jupyter.widget-view+json": {
       "model_id": "2a12fb4880bf4ab1ba39f762cf90e6b7",
       "version_major": 2,
       "version_minor": 0
      },
      "text/plain": [
       "Epoch 40:   0%|          | 0/756 [00:00<?, ?batch/s]"
      ]
     },
     "metadata": {},
     "output_type": "display_data"
    },
    {
     "data": {
      "application/vnd.jupyter.widget-view+json": {
       "model_id": "e986107d8dd94996b564a189c328661e",
       "version_major": 2,
       "version_minor": 0
      },
      "text/plain": [
       "Epoch 41:   0%|          | 0/756 [00:00<?, ?batch/s]"
      ]
     },
     "metadata": {},
     "output_type": "display_data"
    },
    {
     "data": {
      "application/vnd.jupyter.widget-view+json": {
       "model_id": "851d7721db6842fa929a43c5b22264e7",
       "version_major": 2,
       "version_minor": 0
      },
      "text/plain": [
       "Epoch 42:   0%|          | 0/756 [00:00<?, ?batch/s]"
      ]
     },
     "metadata": {},
     "output_type": "display_data"
    },
    {
     "data": {
      "application/vnd.jupyter.widget-view+json": {
       "model_id": "7af49361ff2a49c993537e1c8bb52c14",
       "version_major": 2,
       "version_minor": 0
      },
      "text/plain": [
       "Epoch 43:   0%|          | 0/756 [00:00<?, ?batch/s]"
      ]
     },
     "metadata": {},
     "output_type": "display_data"
    },
    {
     "data": {
      "application/vnd.jupyter.widget-view+json": {
       "model_id": "8a3e5b4459c54d42a7390dfcb224652c",
       "version_major": 2,
       "version_minor": 0
      },
      "text/plain": [
       "Epoch 44:   0%|          | 0/756 [00:00<?, ?batch/s]"
      ]
     },
     "metadata": {},
     "output_type": "display_data"
    },
    {
     "data": {
      "application/vnd.jupyter.widget-view+json": {
       "model_id": "1099e1771176435499fe341dbf393c90",
       "version_major": 2,
       "version_minor": 0
      },
      "text/plain": [
       "Epoch 45:   0%|          | 0/756 [00:00<?, ?batch/s]"
      ]
     },
     "metadata": {},
     "output_type": "display_data"
    },
    {
     "data": {
      "application/vnd.jupyter.widget-view+json": {
       "model_id": "60cd6b212c3e466eaca94fcf5c3838fb",
       "version_major": 2,
       "version_minor": 0
      },
      "text/plain": [
       "Epoch 46:   0%|          | 0/756 [00:00<?, ?batch/s]"
      ]
     },
     "metadata": {},
     "output_type": "display_data"
    },
    {
     "data": {
      "application/vnd.jupyter.widget-view+json": {
       "model_id": "ed3ce0408e6c4e5787f2567737452260",
       "version_major": 2,
       "version_minor": 0
      },
      "text/plain": [
       "Epoch 47:   0%|          | 0/756 [00:00<?, ?batch/s]"
      ]
     },
     "metadata": {},
     "output_type": "display_data"
    },
    {
     "data": {
      "application/vnd.jupyter.widget-view+json": {
       "model_id": "81714022fe6a408aa9919183e6be49cd",
       "version_major": 2,
       "version_minor": 0
      },
      "text/plain": [
       "Epoch 48:   0%|          | 0/756 [00:00<?, ?batch/s]"
      ]
     },
     "metadata": {},
     "output_type": "display_data"
    },
    {
     "data": {
      "application/vnd.jupyter.widget-view+json": {
       "model_id": "c4c2035842074314bcc524ccdc2b2d5f",
       "version_major": 2,
       "version_minor": 0
      },
      "text/plain": [
       "Epoch 49:   0%|          | 0/756 [00:00<?, ?batch/s]"
      ]
     },
     "metadata": {},
     "output_type": "display_data"
    },
    {
     "data": {
      "application/vnd.jupyter.widget-view+json": {
       "model_id": "ed685a4be1554e3ea9e970fd7790f595",
       "version_major": 2,
       "version_minor": 0
      },
      "text/plain": [
       "Epoch 50:   0%|          | 0/756 [00:00<?, ?batch/s]"
      ]
     },
     "metadata": {},
     "output_type": "display_data"
    },
    {
     "data": {
      "application/vnd.jupyter.widget-view+json": {
       "model_id": "f4bee6a5799745238aebc7fae6c56d47",
       "version_major": 2,
       "version_minor": 0
      },
      "text/plain": [
       "Epoch 51:   0%|          | 0/756 [00:00<?, ?batch/s]"
      ]
     },
     "metadata": {},
     "output_type": "display_data"
    },
    {
     "data": {
      "application/vnd.jupyter.widget-view+json": {
       "model_id": "45b0d9b739f74ee588bbe235a2b2b930",
       "version_major": 2,
       "version_minor": 0
      },
      "text/plain": [
       "Epoch 52:   0%|          | 0/756 [00:00<?, ?batch/s]"
      ]
     },
     "metadata": {},
     "output_type": "display_data"
    },
    {
     "data": {
      "application/vnd.jupyter.widget-view+json": {
       "model_id": "b4c6549bf9dd42e491c96c38fe1ac481",
       "version_major": 2,
       "version_minor": 0
      },
      "text/plain": [
       "Epoch 53:   0%|          | 0/756 [00:00<?, ?batch/s]"
      ]
     },
     "metadata": {},
     "output_type": "display_data"
    },
    {
     "data": {
      "application/vnd.jupyter.widget-view+json": {
       "model_id": "d44f1445b3024ba08b0c3d029e73a1ee",
       "version_major": 2,
       "version_minor": 0
      },
      "text/plain": [
       "Epoch 54:   0%|          | 0/756 [00:00<?, ?batch/s]"
      ]
     },
     "metadata": {},
     "output_type": "display_data"
    },
    {
     "data": {
      "application/vnd.jupyter.widget-view+json": {
       "model_id": "47e069064c854163ba98da39251f16ff",
       "version_major": 2,
       "version_minor": 0
      },
      "text/plain": [
       "Epoch 55:   0%|          | 0/756 [00:00<?, ?batch/s]"
      ]
     },
     "metadata": {},
     "output_type": "display_data"
    },
    {
     "data": {
      "application/vnd.jupyter.widget-view+json": {
       "model_id": "66ff63ffc4004ab6a12b75d8f1f507c1",
       "version_major": 2,
       "version_minor": 0
      },
      "text/plain": [
       "Epoch 56:   0%|          | 0/756 [00:00<?, ?batch/s]"
      ]
     },
     "metadata": {},
     "output_type": "display_data"
    },
    {
     "data": {
      "application/vnd.jupyter.widget-view+json": {
       "model_id": "e5198a0a38eb4d4689d5331100f7106b",
       "version_major": 2,
       "version_minor": 0
      },
      "text/plain": [
       "Epoch 57:   0%|          | 0/756 [00:00<?, ?batch/s]"
      ]
     },
     "metadata": {},
     "output_type": "display_data"
    },
    {
     "data": {
      "application/vnd.jupyter.widget-view+json": {
       "model_id": "6a9081c5b22246c9a30440e1d776a2d7",
       "version_major": 2,
       "version_minor": 0
      },
      "text/plain": [
       "Epoch 58:   0%|          | 0/756 [00:00<?, ?batch/s]"
      ]
     },
     "metadata": {},
     "output_type": "display_data"
    },
    {
     "data": {
      "application/vnd.jupyter.widget-view+json": {
       "model_id": "a54ccd3d31ae4c2294063f4f39742601",
       "version_major": 2,
       "version_minor": 0
      },
      "text/plain": [
       "Epoch 59:   0%|          | 0/756 [00:00<?, ?batch/s]"
      ]
     },
     "metadata": {},
     "output_type": "display_data"
    },
    {
     "data": {
      "application/vnd.jupyter.widget-view+json": {
       "model_id": "2c74ee786720454d883957fe00b31b98",
       "version_major": 2,
       "version_minor": 0
      },
      "text/plain": [
       "Epoch 60:   0%|          | 0/756 [00:00<?, ?batch/s]"
      ]
     },
     "metadata": {},
     "output_type": "display_data"
    },
    {
     "data": {
      "application/vnd.jupyter.widget-view+json": {
       "model_id": "28ac18b34fe24ce0889e683786525485",
       "version_major": 2,
       "version_minor": 0
      },
      "text/plain": [
       "Epoch 61:   0%|          | 0/756 [00:00<?, ?batch/s]"
      ]
     },
     "metadata": {},
     "output_type": "display_data"
    },
    {
     "data": {
      "application/vnd.jupyter.widget-view+json": {
       "model_id": "4438a9d9f8014fe198c39cbccd1f3afa",
       "version_major": 2,
       "version_minor": 0
      },
      "text/plain": [
       "Epoch 62:   0%|          | 0/756 [00:00<?, ?batch/s]"
      ]
     },
     "metadata": {},
     "output_type": "display_data"
    },
    {
     "data": {
      "application/vnd.jupyter.widget-view+json": {
       "model_id": "8e9831fab2184cdda2b6ccc1766843c6",
       "version_major": 2,
       "version_minor": 0
      },
      "text/plain": [
       "Epoch 63:   0%|          | 0/756 [00:00<?, ?batch/s]"
      ]
     },
     "metadata": {},
     "output_type": "display_data"
    },
    {
     "data": {
      "application/vnd.jupyter.widget-view+json": {
       "model_id": "770ed3e5d8fe486980081937b28d93f7",
       "version_major": 2,
       "version_minor": 0
      },
      "text/plain": [
       "Epoch 64:   0%|          | 0/756 [00:00<?, ?batch/s]"
      ]
     },
     "metadata": {},
     "output_type": "display_data"
    },
    {
     "data": {
      "application/vnd.jupyter.widget-view+json": {
       "model_id": "65c4059b5f194ec8b87a8fe0cf7e6ef5",
       "version_major": 2,
       "version_minor": 0
      },
      "text/plain": [
       "Epoch 65:   0%|          | 0/756 [00:00<?, ?batch/s]"
      ]
     },
     "metadata": {},
     "output_type": "display_data"
    },
    {
     "data": {
      "application/vnd.jupyter.widget-view+json": {
       "model_id": "64181ed76dae43d7b2d26b71319ed45d",
       "version_major": 2,
       "version_minor": 0
      },
      "text/plain": [
       "Epoch 66:   0%|          | 0/756 [00:00<?, ?batch/s]"
      ]
     },
     "metadata": {},
     "output_type": "display_data"
    },
    {
     "data": {
      "application/vnd.jupyter.widget-view+json": {
       "model_id": "7420bf678c9440c1946ec2f4ee2e13c2",
       "version_major": 2,
       "version_minor": 0
      },
      "text/plain": [
       "Epoch 67:   0%|          | 0/756 [00:00<?, ?batch/s]"
      ]
     },
     "metadata": {},
     "output_type": "display_data"
    },
    {
     "data": {
      "application/vnd.jupyter.widget-view+json": {
       "model_id": "799647011fce4297aa5835392cfeeea5",
       "version_major": 2,
       "version_minor": 0
      },
      "text/plain": [
       "Epoch 68:   0%|          | 0/756 [00:00<?, ?batch/s]"
      ]
     },
     "metadata": {},
     "output_type": "display_data"
    },
    {
     "data": {
      "application/vnd.jupyter.widget-view+json": {
       "model_id": "793a9348d64241c2a9e565baf12118a4",
       "version_major": 2,
       "version_minor": 0
      },
      "text/plain": [
       "Epoch 69:   0%|          | 0/756 [00:00<?, ?batch/s]"
      ]
     },
     "metadata": {},
     "output_type": "display_data"
    },
    {
     "data": {
      "application/vnd.jupyter.widget-view+json": {
       "model_id": "d6f07650fd36459983cd0638091d39e5",
       "version_major": 2,
       "version_minor": 0
      },
      "text/plain": [
       "Epoch 70:   0%|          | 0/756 [00:00<?, ?batch/s]"
      ]
     },
     "metadata": {},
     "output_type": "display_data"
    },
    {
     "data": {
      "application/vnd.jupyter.widget-view+json": {
       "model_id": "3d109879edcb4851afceea884380a4b6",
       "version_major": 2,
       "version_minor": 0
      },
      "text/plain": [
       "Epoch 71:   0%|          | 0/756 [00:00<?, ?batch/s]"
      ]
     },
     "metadata": {},
     "output_type": "display_data"
    },
    {
     "data": {
      "application/vnd.jupyter.widget-view+json": {
       "model_id": "f173353281ec41ecbab9e668baa63104",
       "version_major": 2,
       "version_minor": 0
      },
      "text/plain": [
       "Epoch 72:   0%|          | 0/756 [00:00<?, ?batch/s]"
      ]
     },
     "metadata": {},
     "output_type": "display_data"
    },
    {
     "data": {
      "application/vnd.jupyter.widget-view+json": {
       "model_id": "34511cfa59fc44158b4e0ac3058ee937",
       "version_major": 2,
       "version_minor": 0
      },
      "text/plain": [
       "Epoch 73:   0%|          | 0/756 [00:00<?, ?batch/s]"
      ]
     },
     "metadata": {},
     "output_type": "display_data"
    },
    {
     "data": {
      "application/vnd.jupyter.widget-view+json": {
       "model_id": "719f973d682e4f9baf866a13ed206355",
       "version_major": 2,
       "version_minor": 0
      },
      "text/plain": [
       "Epoch 74:   0%|          | 0/756 [00:00<?, ?batch/s]"
      ]
     },
     "metadata": {},
     "output_type": "display_data"
    },
    {
     "data": {
      "application/vnd.jupyter.widget-view+json": {
       "model_id": "6bde3c43aeff483a88ea7c56586afba8",
       "version_major": 2,
       "version_minor": 0
      },
      "text/plain": [
       "Epoch 75:   0%|          | 0/756 [00:00<?, ?batch/s]"
      ]
     },
     "metadata": {},
     "output_type": "display_data"
    },
    {
     "data": {
      "application/vnd.jupyter.widget-view+json": {
       "model_id": "328040fdeae64ff091f8ef0ed34d0399",
       "version_major": 2,
       "version_minor": 0
      },
      "text/plain": [
       "Epoch 76:   0%|          | 0/756 [00:00<?, ?batch/s]"
      ]
     },
     "metadata": {},
     "output_type": "display_data"
    },
    {
     "data": {
      "application/vnd.jupyter.widget-view+json": {
       "model_id": "245bafa033244832955981d9a1e5cd17",
       "version_major": 2,
       "version_minor": 0
      },
      "text/plain": [
       "Epoch 77:   0%|          | 0/756 [00:00<?, ?batch/s]"
      ]
     },
     "metadata": {},
     "output_type": "display_data"
    },
    {
     "data": {
      "application/vnd.jupyter.widget-view+json": {
       "model_id": "e90ef16873bc4b8f893dffef72e678c5",
       "version_major": 2,
       "version_minor": 0
      },
      "text/plain": [
       "Epoch 78:   0%|          | 0/756 [00:00<?, ?batch/s]"
      ]
     },
     "metadata": {},
     "output_type": "display_data"
    },
    {
     "data": {
      "application/vnd.jupyter.widget-view+json": {
       "model_id": "5d04eaf5e96e418ebc1801a699c9cf23",
       "version_major": 2,
       "version_minor": 0
      },
      "text/plain": [
       "Epoch 79:   0%|          | 0/756 [00:00<?, ?batch/s]"
      ]
     },
     "metadata": {},
     "output_type": "display_data"
    },
    {
     "data": {
      "application/vnd.jupyter.widget-view+json": {
       "model_id": "4123503ddc4f47178ba840d5a4098e29",
       "version_major": 2,
       "version_minor": 0
      },
      "text/plain": [
       "Epoch 80:   0%|          | 0/756 [00:00<?, ?batch/s]"
      ]
     },
     "metadata": {},
     "output_type": "display_data"
    },
    {
     "data": {
      "application/vnd.jupyter.widget-view+json": {
       "model_id": "2f9469c9d8eb4710a9b71ccab21f1b48",
       "version_major": 2,
       "version_minor": 0
      },
      "text/plain": [
       "Epoch 81:   0%|          | 0/756 [00:00<?, ?batch/s]"
      ]
     },
     "metadata": {},
     "output_type": "display_data"
    },
    {
     "data": {
      "application/vnd.jupyter.widget-view+json": {
       "model_id": "e4c515bc7f084594b0ff0dd253803c84",
       "version_major": 2,
       "version_minor": 0
      },
      "text/plain": [
       "Epoch 82:   0%|          | 0/756 [00:00<?, ?batch/s]"
      ]
     },
     "metadata": {},
     "output_type": "display_data"
    },
    {
     "data": {
      "application/vnd.jupyter.widget-view+json": {
       "model_id": "1d9e4c9aaf564fe5bb85920e9d7c56bd",
       "version_major": 2,
       "version_minor": 0
      },
      "text/plain": [
       "Epoch 83:   0%|          | 0/756 [00:00<?, ?batch/s]"
      ]
     },
     "metadata": {},
     "output_type": "display_data"
    },
    {
     "data": {
      "application/vnd.jupyter.widget-view+json": {
       "model_id": "545bc9bc1cf8462c891107adc685f66c",
       "version_major": 2,
       "version_minor": 0
      },
      "text/plain": [
       "Epoch 84:   0%|          | 0/756 [00:00<?, ?batch/s]"
      ]
     },
     "metadata": {},
     "output_type": "display_data"
    },
    {
     "data": {
      "application/vnd.jupyter.widget-view+json": {
       "model_id": "b7088e38d1b4456f99452932fbe6e331",
       "version_major": 2,
       "version_minor": 0
      },
      "text/plain": [
       "Epoch 85:   0%|          | 0/756 [00:00<?, ?batch/s]"
      ]
     },
     "metadata": {},
     "output_type": "display_data"
    },
    {
     "data": {
      "application/vnd.jupyter.widget-view+json": {
       "model_id": "638af42be9f34f7bbc9792659283f777",
       "version_major": 2,
       "version_minor": 0
      },
      "text/plain": [
       "Epoch 86:   0%|          | 0/756 [00:00<?, ?batch/s]"
      ]
     },
     "metadata": {},
     "output_type": "display_data"
    },
    {
     "data": {
      "application/vnd.jupyter.widget-view+json": {
       "model_id": "a5a5d8ad1aec4874956885db8e96c36a",
       "version_major": 2,
       "version_minor": 0
      },
      "text/plain": [
       "Epoch 87:   0%|          | 0/756 [00:00<?, ?batch/s]"
      ]
     },
     "metadata": {},
     "output_type": "display_data"
    },
    {
     "data": {
      "application/vnd.jupyter.widget-view+json": {
       "model_id": "b545145bf86847eba3fd36c6f9218969",
       "version_major": 2,
       "version_minor": 0
      },
      "text/plain": [
       "Epoch 88:   0%|          | 0/756 [00:00<?, ?batch/s]"
      ]
     },
     "metadata": {},
     "output_type": "display_data"
    },
    {
     "data": {
      "application/vnd.jupyter.widget-view+json": {
       "model_id": "cb071c4c878c4f9fad4c6a82187f8ae6",
       "version_major": 2,
       "version_minor": 0
      },
      "text/plain": [
       "Epoch 89:   0%|          | 0/756 [00:00<?, ?batch/s]"
      ]
     },
     "metadata": {},
     "output_type": "display_data"
    },
    {
     "data": {
      "application/vnd.jupyter.widget-view+json": {
       "model_id": "b103e47eed9a41e1a062ab3caecd1e91",
       "version_major": 2,
       "version_minor": 0
      },
      "text/plain": [
       "Epoch 90:   0%|          | 0/756 [00:00<?, ?batch/s]"
      ]
     },
     "metadata": {},
     "output_type": "display_data"
    },
    {
     "data": {
      "application/vnd.jupyter.widget-view+json": {
       "model_id": "5e438455e9a742f4a5edb13c4646128f",
       "version_major": 2,
       "version_minor": 0
      },
      "text/plain": [
       "Epoch 91:   0%|          | 0/756 [00:00<?, ?batch/s]"
      ]
     },
     "metadata": {},
     "output_type": "display_data"
    },
    {
     "data": {
      "application/vnd.jupyter.widget-view+json": {
       "model_id": "258e6123f2e94e24a378b833a75e435b",
       "version_major": 2,
       "version_minor": 0
      },
      "text/plain": [
       "Epoch 92:   0%|          | 0/756 [00:00<?, ?batch/s]"
      ]
     },
     "metadata": {},
     "output_type": "display_data"
    },
    {
     "data": {
      "application/vnd.jupyter.widget-view+json": {
       "model_id": "0c87505d05554e0590ccb8121d902b92",
       "version_major": 2,
       "version_minor": 0
      },
      "text/plain": [
       "Epoch 93:   0%|          | 0/756 [00:00<?, ?batch/s]"
      ]
     },
     "metadata": {},
     "output_type": "display_data"
    },
    {
     "data": {
      "application/vnd.jupyter.widget-view+json": {
       "model_id": "a6f6dad3226a49d3950ebafbb8c2e23a",
       "version_major": 2,
       "version_minor": 0
      },
      "text/plain": [
       "Epoch 94:   0%|          | 0/756 [00:00<?, ?batch/s]"
      ]
     },
     "metadata": {},
     "output_type": "display_data"
    },
    {
     "data": {
      "application/vnd.jupyter.widget-view+json": {
       "model_id": "f13b223d06044395bd74758a12532f8f",
       "version_major": 2,
       "version_minor": 0
      },
      "text/plain": [
       "Epoch 95:   0%|          | 0/756 [00:00<?, ?batch/s]"
      ]
     },
     "metadata": {},
     "output_type": "display_data"
    },
    {
     "data": {
      "application/vnd.jupyter.widget-view+json": {
       "model_id": "a59ad075af164a1f9e47c56866f9aac3",
       "version_major": 2,
       "version_minor": 0
      },
      "text/plain": [
       "Epoch 96:   0%|          | 0/756 [00:00<?, ?batch/s]"
      ]
     },
     "metadata": {},
     "output_type": "display_data"
    },
    {
     "data": {
      "application/vnd.jupyter.widget-view+json": {
       "model_id": "ce68f367eabe4e47a8cfb2cee0c5ac24",
       "version_major": 2,
       "version_minor": 0
      },
      "text/plain": [
       "Epoch 97:   0%|          | 0/756 [00:00<?, ?batch/s]"
      ]
     },
     "metadata": {},
     "output_type": "display_data"
    },
    {
     "data": {
      "application/vnd.jupyter.widget-view+json": {
       "model_id": "e412aa96fa2e4e03b153b7d6f72112d5",
       "version_major": 2,
       "version_minor": 0
      },
      "text/plain": [
       "Epoch 98:   0%|          | 0/756 [00:00<?, ?batch/s]"
      ]
     },
     "metadata": {},
     "output_type": "display_data"
    },
    {
     "data": {
      "application/vnd.jupyter.widget-view+json": {
       "model_id": "2f3c86770e7b41a797d32718d2606a03",
       "version_major": 2,
       "version_minor": 0
      },
      "text/plain": [
       "Epoch 99:   0%|          | 0/756 [00:00<?, ?batch/s]"
      ]
     },
     "metadata": {},
     "output_type": "display_data"
    },
    {
     "data": {
      "application/vnd.jupyter.widget-view+json": {
       "model_id": "9cccfe767740482283a0e2422a48a4fe",
       "version_major": 2,
       "version_minor": 0
      },
      "text/plain": [
       "Epoch 100:   0%|          | 0/756 [00:00<?, ?batch/s]"
      ]
     },
     "metadata": {},
     "output_type": "display_data"
    },
    {
     "data": {
      "application/vnd.jupyter.widget-view+json": {
       "model_id": "b0a61f42a1c545858e6a3b6db8b9b676",
       "version_major": 2,
       "version_minor": 0
      },
      "text/plain": [
       "Epoch 101:   0%|          | 0/756 [00:00<?, ?batch/s]"
      ]
     },
     "metadata": {},
     "output_type": "display_data"
    },
    {
     "data": {
      "application/vnd.jupyter.widget-view+json": {
       "model_id": "7b76e400e1a74c3abb0934a3b940b411",
       "version_major": 2,
       "version_minor": 0
      },
      "text/plain": [
       "Epoch 102:   0%|          | 0/756 [00:00<?, ?batch/s]"
      ]
     },
     "metadata": {},
     "output_type": "display_data"
    },
    {
     "data": {
      "application/vnd.jupyter.widget-view+json": {
       "model_id": "95f3d5a8f14b40ee96394bbbc9ba9e95",
       "version_major": 2,
       "version_minor": 0
      },
      "text/plain": [
       "Epoch 103:   0%|          | 0/756 [00:00<?, ?batch/s]"
      ]
     },
     "metadata": {},
     "output_type": "display_data"
    },
    {
     "data": {
      "application/vnd.jupyter.widget-view+json": {
       "model_id": "20ea9063ae444e3aab8a717944c6f65d",
       "version_major": 2,
       "version_minor": 0
      },
      "text/plain": [
       "Epoch 104:   0%|          | 0/756 [00:00<?, ?batch/s]"
      ]
     },
     "metadata": {},
     "output_type": "display_data"
    },
    {
     "data": {
      "application/vnd.jupyter.widget-view+json": {
       "model_id": "f7620154d74e48cdb2e25e1350b4ef71",
       "version_major": 2,
       "version_minor": 0
      },
      "text/plain": [
       "Epoch 105:   0%|          | 0/756 [00:00<?, ?batch/s]"
      ]
     },
     "metadata": {},
     "output_type": "display_data"
    },
    {
     "data": {
      "application/vnd.jupyter.widget-view+json": {
       "model_id": "757b47d5c512444d9992a3f4d650906b",
       "version_major": 2,
       "version_minor": 0
      },
      "text/plain": [
       "Epoch 106:   0%|          | 0/756 [00:00<?, ?batch/s]"
      ]
     },
     "metadata": {},
     "output_type": "display_data"
    },
    {
     "data": {
      "application/vnd.jupyter.widget-view+json": {
       "model_id": "0849753d58e04df3beee4bae48737ff1",
       "version_major": 2,
       "version_minor": 0
      },
      "text/plain": [
       "Epoch 107:   0%|          | 0/756 [00:00<?, ?batch/s]"
      ]
     },
     "metadata": {},
     "output_type": "display_data"
    },
    {
     "data": {
      "application/vnd.jupyter.widget-view+json": {
       "model_id": "247e43b97718429fae12516161f815ed",
       "version_major": 2,
       "version_minor": 0
      },
      "text/plain": [
       "Epoch 108:   0%|          | 0/756 [00:00<?, ?batch/s]"
      ]
     },
     "metadata": {},
     "output_type": "display_data"
    },
    {
     "data": {
      "application/vnd.jupyter.widget-view+json": {
       "model_id": "6b4385ed38b2450aadcfdeda7b75fbf0",
       "version_major": 2,
       "version_minor": 0
      },
      "text/plain": [
       "Epoch 109:   0%|          | 0/756 [00:00<?, ?batch/s]"
      ]
     },
     "metadata": {},
     "output_type": "display_data"
    },
    {
     "data": {
      "application/vnd.jupyter.widget-view+json": {
       "model_id": "5489ef75b347430b8604e580ff12f828",
       "version_major": 2,
       "version_minor": 0
      },
      "text/plain": [
       "Epoch 110:   0%|          | 0/756 [00:00<?, ?batch/s]"
      ]
     },
     "metadata": {},
     "output_type": "display_data"
    },
    {
     "data": {
      "application/vnd.jupyter.widget-view+json": {
       "model_id": "3435d04dbc65470e91b34eeb47f52fc2",
       "version_major": 2,
       "version_minor": 0
      },
      "text/plain": [
       "Epoch 111:   0%|          | 0/756 [00:00<?, ?batch/s]"
      ]
     },
     "metadata": {},
     "output_type": "display_data"
    },
    {
     "data": {
      "application/vnd.jupyter.widget-view+json": {
       "model_id": "986d0d9cb3044f4786ead52f5d341376",
       "version_major": 2,
       "version_minor": 0
      },
      "text/plain": [
       "Epoch 112:   0%|          | 0/756 [00:00<?, ?batch/s]"
      ]
     },
     "metadata": {},
     "output_type": "display_data"
    },
    {
     "data": {
      "application/vnd.jupyter.widget-view+json": {
       "model_id": "cca91019202f467ab2dde15f2b3cd6ed",
       "version_major": 2,
       "version_minor": 0
      },
      "text/plain": [
       "Epoch 113:   0%|          | 0/756 [00:00<?, ?batch/s]"
      ]
     },
     "metadata": {},
     "output_type": "display_data"
    },
    {
     "data": {
      "application/vnd.jupyter.widget-view+json": {
       "model_id": "cbfa7f65ae3c4825a5ce28db2d354011",
       "version_major": 2,
       "version_minor": 0
      },
      "text/plain": [
       "Epoch 114:   0%|          | 0/756 [00:00<?, ?batch/s]"
      ]
     },
     "metadata": {},
     "output_type": "display_data"
    },
    {
     "data": {
      "application/vnd.jupyter.widget-view+json": {
       "model_id": "2eb4ce50dcdc4e89902350dd86619750",
       "version_major": 2,
       "version_minor": 0
      },
      "text/plain": [
       "Epoch 115:   0%|          | 0/756 [00:00<?, ?batch/s]"
      ]
     },
     "metadata": {},
     "output_type": "display_data"
    },
    {
     "data": {
      "application/vnd.jupyter.widget-view+json": {
       "model_id": "731431339a154ed2a8107eda43e2c7d7",
       "version_major": 2,
       "version_minor": 0
      },
      "text/plain": [
       "Epoch 116:   0%|          | 0/756 [00:00<?, ?batch/s]"
      ]
     },
     "metadata": {},
     "output_type": "display_data"
    },
    {
     "data": {
      "application/vnd.jupyter.widget-view+json": {
       "model_id": "0d983b7e7f674447a2390486aa142b1b",
       "version_major": 2,
       "version_minor": 0
      },
      "text/plain": [
       "Epoch 117:   0%|          | 0/756 [00:00<?, ?batch/s]"
      ]
     },
     "metadata": {},
     "output_type": "display_data"
    },
    {
     "data": {
      "application/vnd.jupyter.widget-view+json": {
       "model_id": "2d0ef78b2d454a888f683a19d2f41cc6",
       "version_major": 2,
       "version_minor": 0
      },
      "text/plain": [
       "Epoch 118:   0%|          | 0/756 [00:00<?, ?batch/s]"
      ]
     },
     "metadata": {},
     "output_type": "display_data"
    },
    {
     "data": {
      "application/vnd.jupyter.widget-view+json": {
       "model_id": "84d4476c8adc48ada735f221b353aef9",
       "version_major": 2,
       "version_minor": 0
      },
      "text/plain": [
       "Epoch 119:   0%|          | 0/756 [00:00<?, ?batch/s]"
      ]
     },
     "metadata": {},
     "output_type": "display_data"
    },
    {
     "data": {
      "application/vnd.jupyter.widget-view+json": {
       "model_id": "7f8f8c4b44ec42848b6cb896234cbcb9",
       "version_major": 2,
       "version_minor": 0
      },
      "text/plain": [
       "Epoch 120:   0%|          | 0/756 [00:00<?, ?batch/s]"
      ]
     },
     "metadata": {},
     "output_type": "display_data"
    },
    {
     "data": {
      "application/vnd.jupyter.widget-view+json": {
       "model_id": "2f3548d83e244ffd9d9291633da158d8",
       "version_major": 2,
       "version_minor": 0
      },
      "text/plain": [
       "Epoch 121:   0%|          | 0/756 [00:00<?, ?batch/s]"
      ]
     },
     "metadata": {},
     "output_type": "display_data"
    },
    {
     "data": {
      "application/vnd.jupyter.widget-view+json": {
       "model_id": "23c13c8ed5e9493f9871f09a1b4bb62b",
       "version_major": 2,
       "version_minor": 0
      },
      "text/plain": [
       "Epoch 122:   0%|          | 0/756 [00:00<?, ?batch/s]"
      ]
     },
     "metadata": {},
     "output_type": "display_data"
    },
    {
     "data": {
      "application/vnd.jupyter.widget-view+json": {
       "model_id": "da17fbfb1ff94810a15a6f79eaf54bce",
       "version_major": 2,
       "version_minor": 0
      },
      "text/plain": [
       "Epoch 123:   0%|          | 0/756 [00:00<?, ?batch/s]"
      ]
     },
     "metadata": {},
     "output_type": "display_data"
    },
    {
     "data": {
      "application/vnd.jupyter.widget-view+json": {
       "model_id": "4940890a44b447e8817bbad007819c87",
       "version_major": 2,
       "version_minor": 0
      },
      "text/plain": [
       "Epoch 124:   0%|          | 0/756 [00:00<?, ?batch/s]"
      ]
     },
     "metadata": {},
     "output_type": "display_data"
    },
    {
     "data": {
      "application/vnd.jupyter.widget-view+json": {
       "model_id": "7e62b7c82ca24d49a258d0e18fb9d4a3",
       "version_major": 2,
       "version_minor": 0
      },
      "text/plain": [
       "Epoch 125:   0%|          | 0/756 [00:00<?, ?batch/s]"
      ]
     },
     "metadata": {},
     "output_type": "display_data"
    },
    {
     "data": {
      "application/vnd.jupyter.widget-view+json": {
       "model_id": "a846138c33c34b6e87b563beb03ddedf",
       "version_major": 2,
       "version_minor": 0
      },
      "text/plain": [
       "Epoch 126:   0%|          | 0/756 [00:00<?, ?batch/s]"
      ]
     },
     "metadata": {},
     "output_type": "display_data"
    },
    {
     "data": {
      "application/vnd.jupyter.widget-view+json": {
       "model_id": "230cab3af6ca4a94903f917c311d6438",
       "version_major": 2,
       "version_minor": 0
      },
      "text/plain": [
       "Epoch 127:   0%|          | 0/756 [00:00<?, ?batch/s]"
      ]
     },
     "metadata": {},
     "output_type": "display_data"
    },
    {
     "data": {
      "application/vnd.jupyter.widget-view+json": {
       "model_id": "3035e3ad404543f8bdc1a9fbade2813a",
       "version_major": 2,
       "version_minor": 0
      },
      "text/plain": [
       "Epoch 128:   0%|          | 0/756 [00:00<?, ?batch/s]"
      ]
     },
     "metadata": {},
     "output_type": "display_data"
    },
    {
     "data": {
      "application/vnd.jupyter.widget-view+json": {
       "model_id": "a5113865f1a94e92a69626d8decc30a8",
       "version_major": 2,
       "version_minor": 0
      },
      "text/plain": [
       "Epoch 129:   0%|          | 0/756 [00:00<?, ?batch/s]"
      ]
     },
     "metadata": {},
     "output_type": "display_data"
    },
    {
     "data": {
      "application/vnd.jupyter.widget-view+json": {
       "model_id": "5a4e0c2b0d3b4376a27746bddde6f45b",
       "version_major": 2,
       "version_minor": 0
      },
      "text/plain": [
       "Epoch 130:   0%|          | 0/756 [00:00<?, ?batch/s]"
      ]
     },
     "metadata": {},
     "output_type": "display_data"
    },
    {
     "data": {
      "application/vnd.jupyter.widget-view+json": {
       "model_id": "43571872d90143519a02d6fa7be1f6ab",
       "version_major": 2,
       "version_minor": 0
      },
      "text/plain": [
       "Epoch 131:   0%|          | 0/756 [00:00<?, ?batch/s]"
      ]
     },
     "metadata": {},
     "output_type": "display_data"
    },
    {
     "data": {
      "application/vnd.jupyter.widget-view+json": {
       "model_id": "ebc66338adf04115b93243beda998267",
       "version_major": 2,
       "version_minor": 0
      },
      "text/plain": [
       "Epoch 132:   0%|          | 0/756 [00:00<?, ?batch/s]"
      ]
     },
     "metadata": {},
     "output_type": "display_data"
    },
    {
     "data": {
      "application/vnd.jupyter.widget-view+json": {
       "model_id": "517206e0ed8c4b7b83d2af87a5de12e2",
       "version_major": 2,
       "version_minor": 0
      },
      "text/plain": [
       "Epoch 133:   0%|          | 0/756 [00:00<?, ?batch/s]"
      ]
     },
     "metadata": {},
     "output_type": "display_data"
    },
    {
     "data": {
      "application/vnd.jupyter.widget-view+json": {
       "model_id": "426a50311aa3441a9a0cace5e8a67994",
       "version_major": 2,
       "version_minor": 0
      },
      "text/plain": [
       "Epoch 134:   0%|          | 0/756 [00:00<?, ?batch/s]"
      ]
     },
     "metadata": {},
     "output_type": "display_data"
    },
    {
     "data": {
      "application/vnd.jupyter.widget-view+json": {
       "model_id": "e989e1636e864622b0b51fc5d6cf1bce",
       "version_major": 2,
       "version_minor": 0
      },
      "text/plain": [
       "Epoch 135:   0%|          | 0/756 [00:00<?, ?batch/s]"
      ]
     },
     "metadata": {},
     "output_type": "display_data"
    },
    {
     "data": {
      "application/vnd.jupyter.widget-view+json": {
       "model_id": "96fbcfc1a6054209987a7d362f701506",
       "version_major": 2,
       "version_minor": 0
      },
      "text/plain": [
       "Epoch 136:   0%|          | 0/756 [00:00<?, ?batch/s]"
      ]
     },
     "metadata": {},
     "output_type": "display_data"
    },
    {
     "data": {
      "application/vnd.jupyter.widget-view+json": {
       "model_id": "1e99f2a5cec64385bd353e5e0135310f",
       "version_major": 2,
       "version_minor": 0
      },
      "text/plain": [
       "Epoch 137:   0%|          | 0/756 [00:00<?, ?batch/s]"
      ]
     },
     "metadata": {},
     "output_type": "display_data"
    },
    {
     "data": {
      "application/vnd.jupyter.widget-view+json": {
       "model_id": "e74c119134424de7a8dd6acedc363e14",
       "version_major": 2,
       "version_minor": 0
      },
      "text/plain": [
       "Epoch 138:   0%|          | 0/756 [00:00<?, ?batch/s]"
      ]
     },
     "metadata": {},
     "output_type": "display_data"
    },
    {
     "data": {
      "application/vnd.jupyter.widget-view+json": {
       "model_id": "3ac67e30c0cd4a46ba80155e970764ee",
       "version_major": 2,
       "version_minor": 0
      },
      "text/plain": [
       "Epoch 139:   0%|          | 0/756 [00:00<?, ?batch/s]"
      ]
     },
     "metadata": {},
     "output_type": "display_data"
    },
    {
     "data": {
      "application/vnd.jupyter.widget-view+json": {
       "model_id": "24351039679446faabf792fe97add3a9",
       "version_major": 2,
       "version_minor": 0
      },
      "text/plain": [
       "Epoch 140:   0%|          | 0/756 [00:00<?, ?batch/s]"
      ]
     },
     "metadata": {},
     "output_type": "display_data"
    },
    {
     "data": {
      "application/vnd.jupyter.widget-view+json": {
       "model_id": "2b3bde5cfaab41ad88f3b14b2249926d",
       "version_major": 2,
       "version_minor": 0
      },
      "text/plain": [
       "Epoch 141:   0%|          | 0/756 [00:00<?, ?batch/s]"
      ]
     },
     "metadata": {},
     "output_type": "display_data"
    },
    {
     "data": {
      "application/vnd.jupyter.widget-view+json": {
       "model_id": "5a879e4abdfc47bb9c1ee5ca866341a9",
       "version_major": 2,
       "version_minor": 0
      },
      "text/plain": [
       "Epoch 142:   0%|          | 0/756 [00:00<?, ?batch/s]"
      ]
     },
     "metadata": {},
     "output_type": "display_data"
    },
    {
     "data": {
      "application/vnd.jupyter.widget-view+json": {
       "model_id": "f68df49058ca40898632f0eb0c8d550b",
       "version_major": 2,
       "version_minor": 0
      },
      "text/plain": [
       "Epoch 143:   0%|          | 0/756 [00:00<?, ?batch/s]"
      ]
     },
     "metadata": {},
     "output_type": "display_data"
    },
    {
     "data": {
      "application/vnd.jupyter.widget-view+json": {
       "model_id": "1301977b52f74bffa78534f4887db494",
       "version_major": 2,
       "version_minor": 0
      },
      "text/plain": [
       "Epoch 144:   0%|          | 0/756 [00:00<?, ?batch/s]"
      ]
     },
     "metadata": {},
     "output_type": "display_data"
    },
    {
     "data": {
      "application/vnd.jupyter.widget-view+json": {
       "model_id": "9d9413ea8a0f48148ddeea82ef6a1d6a",
       "version_major": 2,
       "version_minor": 0
      },
      "text/plain": [
       "Epoch 145:   0%|          | 0/756 [00:00<?, ?batch/s]"
      ]
     },
     "metadata": {},
     "output_type": "display_data"
    },
    {
     "data": {
      "application/vnd.jupyter.widget-view+json": {
       "model_id": "cb7cafdac3fa440f81c6baeb594b1e93",
       "version_major": 2,
       "version_minor": 0
      },
      "text/plain": [
       "Epoch 146:   0%|          | 0/756 [00:00<?, ?batch/s]"
      ]
     },
     "metadata": {},
     "output_type": "display_data"
    },
    {
     "data": {
      "application/vnd.jupyter.widget-view+json": {
       "model_id": "60fcf58ba6a049158c562bebfe8f296b",
       "version_major": 2,
       "version_minor": 0
      },
      "text/plain": [
       "Epoch 147:   0%|          | 0/756 [00:00<?, ?batch/s]"
      ]
     },
     "metadata": {},
     "output_type": "display_data"
    },
    {
     "data": {
      "application/vnd.jupyter.widget-view+json": {
       "model_id": "f2ed56af683542dbba6422a8c643aaf0",
       "version_major": 2,
       "version_minor": 0
      },
      "text/plain": [
       "Epoch 148:   0%|          | 0/756 [00:00<?, ?batch/s]"
      ]
     },
     "metadata": {},
     "output_type": "display_data"
    },
    {
     "data": {
      "application/vnd.jupyter.widget-view+json": {
       "model_id": "f56d8093d586491685ea54444fd5ef76",
       "version_major": 2,
       "version_minor": 0
      },
      "text/plain": [
       "Epoch 149:   0%|          | 0/756 [00:00<?, ?batch/s]"
      ]
     },
     "metadata": {},
     "output_type": "display_data"
    },
    {
     "data": {
      "application/vnd.jupyter.widget-view+json": {
       "model_id": "b407b30c96fd4e44b6dea5a6b2f7105e",
       "version_major": 2,
       "version_minor": 0
      },
      "text/plain": [
       "Epoch 150:   0%|          | 0/756 [00:00<?, ?batch/s]"
      ]
     },
     "metadata": {},
     "output_type": "display_data"
    },
    {
     "data": {
      "application/vnd.jupyter.widget-view+json": {
       "model_id": "8fddf7ebf55f4ac0b43bb9a07c4843b5",
       "version_major": 2,
       "version_minor": 0
      },
      "text/plain": [
       "Epoch 151:   0%|          | 0/756 [00:00<?, ?batch/s]"
      ]
     },
     "metadata": {},
     "output_type": "display_data"
    },
    {
     "data": {
      "application/vnd.jupyter.widget-view+json": {
       "model_id": "c063e0d97a3c41178047b5808d52cd32",
       "version_major": 2,
       "version_minor": 0
      },
      "text/plain": [
       "Epoch 152:   0%|          | 0/756 [00:00<?, ?batch/s]"
      ]
     },
     "metadata": {},
     "output_type": "display_data"
    },
    {
     "data": {
      "application/vnd.jupyter.widget-view+json": {
       "model_id": "ca0e73d121e54231a08601745bda00fc",
       "version_major": 2,
       "version_minor": 0
      },
      "text/plain": [
       "Epoch 153:   0%|          | 0/756 [00:00<?, ?batch/s]"
      ]
     },
     "metadata": {},
     "output_type": "display_data"
    },
    {
     "data": {
      "application/vnd.jupyter.widget-view+json": {
       "model_id": "e4ff71347cd5475cb8d7bd70c12b1b13",
       "version_major": 2,
       "version_minor": 0
      },
      "text/plain": [
       "Epoch 154:   0%|          | 0/756 [00:00<?, ?batch/s]"
      ]
     },
     "metadata": {},
     "output_type": "display_data"
    },
    {
     "data": {
      "application/vnd.jupyter.widget-view+json": {
       "model_id": "7fd18da40c1c41e98f35c6d33b41482c",
       "version_major": 2,
       "version_minor": 0
      },
      "text/plain": [
       "Epoch 155:   0%|          | 0/756 [00:00<?, ?batch/s]"
      ]
     },
     "metadata": {},
     "output_type": "display_data"
    },
    {
     "data": {
      "application/vnd.jupyter.widget-view+json": {
       "model_id": "7bc2727915564afabccc1c72f552bc57",
       "version_major": 2,
       "version_minor": 0
      },
      "text/plain": [
       "Epoch 156:   0%|          | 0/756 [00:00<?, ?batch/s]"
      ]
     },
     "metadata": {},
     "output_type": "display_data"
    },
    {
     "data": {
      "application/vnd.jupyter.widget-view+json": {
       "model_id": "b607e7f5fbd242e0b4d2ba53936c2388",
       "version_major": 2,
       "version_minor": 0
      },
      "text/plain": [
       "Epoch 157:   0%|          | 0/756 [00:00<?, ?batch/s]"
      ]
     },
     "metadata": {},
     "output_type": "display_data"
    },
    {
     "data": {
      "application/vnd.jupyter.widget-view+json": {
       "model_id": "8a0544351cab4fc1bd760c857d15e039",
       "version_major": 2,
       "version_minor": 0
      },
      "text/plain": [
       "Epoch 158:   0%|          | 0/756 [00:00<?, ?batch/s]"
      ]
     },
     "metadata": {},
     "output_type": "display_data"
    },
    {
     "data": {
      "application/vnd.jupyter.widget-view+json": {
       "model_id": "9075987a5f914680b6d969bc04a92e68",
       "version_major": 2,
       "version_minor": 0
      },
      "text/plain": [
       "Epoch 159:   0%|          | 0/756 [00:00<?, ?batch/s]"
      ]
     },
     "metadata": {},
     "output_type": "display_data"
    },
    {
     "data": {
      "application/vnd.jupyter.widget-view+json": {
       "model_id": "b4ad45caeaba4faf8801d014b156f2e0",
       "version_major": 2,
       "version_minor": 0
      },
      "text/plain": [
       "Epoch 160:   0%|          | 0/756 [00:00<?, ?batch/s]"
      ]
     },
     "metadata": {},
     "output_type": "display_data"
    },
    {
     "data": {
      "application/vnd.jupyter.widget-view+json": {
       "model_id": "f35bfa47efbc47e5a707b279ff001356",
       "version_major": 2,
       "version_minor": 0
      },
      "text/plain": [
       "Epoch 161:   0%|          | 0/756 [00:00<?, ?batch/s]"
      ]
     },
     "metadata": {},
     "output_type": "display_data"
    },
    {
     "data": {
      "application/vnd.jupyter.widget-view+json": {
       "model_id": "01e8c150bfb142488d8c6bd012cb400d",
       "version_major": 2,
       "version_minor": 0
      },
      "text/plain": [
       "Epoch 162:   0%|          | 0/756 [00:00<?, ?batch/s]"
      ]
     },
     "metadata": {},
     "output_type": "display_data"
    },
    {
     "data": {
      "application/vnd.jupyter.widget-view+json": {
       "model_id": "be7b514538874fe383d057a91665c432",
       "version_major": 2,
       "version_minor": 0
      },
      "text/plain": [
       "Epoch 163:   0%|          | 0/756 [00:00<?, ?batch/s]"
      ]
     },
     "metadata": {},
     "output_type": "display_data"
    },
    {
     "data": {
      "application/vnd.jupyter.widget-view+json": {
       "model_id": "6417f512507d43cebc13b61fd17e2174",
       "version_major": 2,
       "version_minor": 0
      },
      "text/plain": [
       "Epoch 164:   0%|          | 0/756 [00:00<?, ?batch/s]"
      ]
     },
     "metadata": {},
     "output_type": "display_data"
    },
    {
     "data": {
      "application/vnd.jupyter.widget-view+json": {
       "model_id": "fe0a2597194b4dc69f3efb387a7166c8",
       "version_major": 2,
       "version_minor": 0
      },
      "text/plain": [
       "Epoch 165:   0%|          | 0/756 [00:00<?, ?batch/s]"
      ]
     },
     "metadata": {},
     "output_type": "display_data"
    },
    {
     "data": {
      "application/vnd.jupyter.widget-view+json": {
       "model_id": "6ea422d71bbd4266b7b24d470d385d9a",
       "version_major": 2,
       "version_minor": 0
      },
      "text/plain": [
       "Epoch 166:   0%|          | 0/756 [00:00<?, ?batch/s]"
      ]
     },
     "metadata": {},
     "output_type": "display_data"
    },
    {
     "data": {
      "application/vnd.jupyter.widget-view+json": {
       "model_id": "48a392b5478646f3814636258b76d81f",
       "version_major": 2,
       "version_minor": 0
      },
      "text/plain": [
       "Epoch 167:   0%|          | 0/756 [00:00<?, ?batch/s]"
      ]
     },
     "metadata": {},
     "output_type": "display_data"
    },
    {
     "data": {
      "application/vnd.jupyter.widget-view+json": {
       "model_id": "f8fb00a3d31b4290a5a673eb0eb1c8bb",
       "version_major": 2,
       "version_minor": 0
      },
      "text/plain": [
       "Epoch 168:   0%|          | 0/756 [00:00<?, ?batch/s]"
      ]
     },
     "metadata": {},
     "output_type": "display_data"
    },
    {
     "data": {
      "application/vnd.jupyter.widget-view+json": {
       "model_id": "9489400478d547b6b242d96f40019117",
       "version_major": 2,
       "version_minor": 0
      },
      "text/plain": [
       "Epoch 169:   0%|          | 0/756 [00:00<?, ?batch/s]"
      ]
     },
     "metadata": {},
     "output_type": "display_data"
    },
    {
     "data": {
      "application/vnd.jupyter.widget-view+json": {
       "model_id": "0db83e9a8277470ea32b8d3c224071f9",
       "version_major": 2,
       "version_minor": 0
      },
      "text/plain": [
       "Epoch 170:   0%|          | 0/756 [00:00<?, ?batch/s]"
      ]
     },
     "metadata": {},
     "output_type": "display_data"
    },
    {
     "data": {
      "application/vnd.jupyter.widget-view+json": {
       "model_id": "c4e56ad4b80341889b12d8258f66b1c9",
       "version_major": 2,
       "version_minor": 0
      },
      "text/plain": [
       "Epoch 171:   0%|          | 0/756 [00:00<?, ?batch/s]"
      ]
     },
     "metadata": {},
     "output_type": "display_data"
    },
    {
     "data": {
      "application/vnd.jupyter.widget-view+json": {
       "model_id": "a61ea56cc5024a10ba8810941e42a893",
       "version_major": 2,
       "version_minor": 0
      },
      "text/plain": [
       "Epoch 172:   0%|          | 0/756 [00:00<?, ?batch/s]"
      ]
     },
     "metadata": {},
     "output_type": "display_data"
    },
    {
     "data": {
      "application/vnd.jupyter.widget-view+json": {
       "model_id": "dcf4fcdcd7a8450f8c3c519edc14f34d",
       "version_major": 2,
       "version_minor": 0
      },
      "text/plain": [
       "Epoch 173:   0%|          | 0/756 [00:00<?, ?batch/s]"
      ]
     },
     "metadata": {},
     "output_type": "display_data"
    },
    {
     "data": {
      "application/vnd.jupyter.widget-view+json": {
       "model_id": "4617530a82774197a8113797b13edc55",
       "version_major": 2,
       "version_minor": 0
      },
      "text/plain": [
       "Epoch 174:   0%|          | 0/756 [00:00<?, ?batch/s]"
      ]
     },
     "metadata": {},
     "output_type": "display_data"
    },
    {
     "data": {
      "application/vnd.jupyter.widget-view+json": {
       "model_id": "78568e3730c74dbaa9157a8694610b23",
       "version_major": 2,
       "version_minor": 0
      },
      "text/plain": [
       "Epoch 175:   0%|          | 0/756 [00:00<?, ?batch/s]"
      ]
     },
     "metadata": {},
     "output_type": "display_data"
    },
    {
     "data": {
      "application/vnd.jupyter.widget-view+json": {
       "model_id": "d187577d6eb942c8a6bcc89f70aea17c",
       "version_major": 2,
       "version_minor": 0
      },
      "text/plain": [
       "Epoch 176:   0%|          | 0/756 [00:00<?, ?batch/s]"
      ]
     },
     "metadata": {},
     "output_type": "display_data"
    },
    {
     "data": {
      "application/vnd.jupyter.widget-view+json": {
       "model_id": "387e3569698d42bc943c86b02d648c32",
       "version_major": 2,
       "version_minor": 0
      },
      "text/plain": [
       "Epoch 177:   0%|          | 0/756 [00:00<?, ?batch/s]"
      ]
     },
     "metadata": {},
     "output_type": "display_data"
    },
    {
     "data": {
      "application/vnd.jupyter.widget-view+json": {
       "model_id": "141f812efb4f45e8b4de81163a038634",
       "version_major": 2,
       "version_minor": 0
      },
      "text/plain": [
       "Epoch 178:   0%|          | 0/756 [00:00<?, ?batch/s]"
      ]
     },
     "metadata": {},
     "output_type": "display_data"
    },
    {
     "data": {
      "application/vnd.jupyter.widget-view+json": {
       "model_id": "f90e41ef191d4e65a1006e54382f9cc0",
       "version_major": 2,
       "version_minor": 0
      },
      "text/plain": [
       "Epoch 179:   0%|          | 0/756 [00:00<?, ?batch/s]"
      ]
     },
     "metadata": {},
     "output_type": "display_data"
    },
    {
     "data": {
      "application/vnd.jupyter.widget-view+json": {
       "model_id": "91eaf49c229b4b238ac829a89b0171e1",
       "version_major": 2,
       "version_minor": 0
      },
      "text/plain": [
       "Epoch 180:   0%|          | 0/756 [00:00<?, ?batch/s]"
      ]
     },
     "metadata": {},
     "output_type": "display_data"
    },
    {
     "data": {
      "application/vnd.jupyter.widget-view+json": {
       "model_id": "e8cbe0136f9246178c077d57e83dbe0e",
       "version_major": 2,
       "version_minor": 0
      },
      "text/plain": [
       "Epoch 181:   0%|          | 0/756 [00:00<?, ?batch/s]"
      ]
     },
     "metadata": {},
     "output_type": "display_data"
    },
    {
     "data": {
      "application/vnd.jupyter.widget-view+json": {
       "model_id": "9519b7b9462f426781292e27c80b649c",
       "version_major": 2,
       "version_minor": 0
      },
      "text/plain": [
       "Epoch 182:   0%|          | 0/756 [00:00<?, ?batch/s]"
      ]
     },
     "metadata": {},
     "output_type": "display_data"
    },
    {
     "data": {
      "application/vnd.jupyter.widget-view+json": {
       "model_id": "0960cb68beb34120b992b093e80f6043",
       "version_major": 2,
       "version_minor": 0
      },
      "text/plain": [
       "Epoch 183:   0%|          | 0/756 [00:00<?, ?batch/s]"
      ]
     },
     "metadata": {},
     "output_type": "display_data"
    },
    {
     "data": {
      "application/vnd.jupyter.widget-view+json": {
       "model_id": "b74affda42d44b7b9aaaa9756bc44e9a",
       "version_major": 2,
       "version_minor": 0
      },
      "text/plain": [
       "Epoch 184:   0%|          | 0/756 [00:00<?, ?batch/s]"
      ]
     },
     "metadata": {},
     "output_type": "display_data"
    },
    {
     "data": {
      "application/vnd.jupyter.widget-view+json": {
       "model_id": "57d099f87969449a8299fcca5f689a22",
       "version_major": 2,
       "version_minor": 0
      },
      "text/plain": [
       "Epoch 185:   0%|          | 0/756 [00:00<?, ?batch/s]"
      ]
     },
     "metadata": {},
     "output_type": "display_data"
    },
    {
     "data": {
      "application/vnd.jupyter.widget-view+json": {
       "model_id": "d0da533c1e41498e93b2e92762f89172",
       "version_major": 2,
       "version_minor": 0
      },
      "text/plain": [
       "Epoch 186:   0%|          | 0/756 [00:00<?, ?batch/s]"
      ]
     },
     "metadata": {},
     "output_type": "display_data"
    },
    {
     "data": {
      "application/vnd.jupyter.widget-view+json": {
       "model_id": "73dc166cd58c430b9b1c702fd1a4eb78",
       "version_major": 2,
       "version_minor": 0
      },
      "text/plain": [
       "Epoch 187:   0%|          | 0/756 [00:00<?, ?batch/s]"
      ]
     },
     "metadata": {},
     "output_type": "display_data"
    },
    {
     "data": {
      "application/vnd.jupyter.widget-view+json": {
       "model_id": "b2fe8523cb5c4088a82aa3894044e2ae",
       "version_major": 2,
       "version_minor": 0
      },
      "text/plain": [
       "Epoch 188:   0%|          | 0/756 [00:00<?, ?batch/s]"
      ]
     },
     "metadata": {},
     "output_type": "display_data"
    },
    {
     "data": {
      "application/vnd.jupyter.widget-view+json": {
       "model_id": "82369b16c30d46d7bf2db0a9afa8ec3b",
       "version_major": 2,
       "version_minor": 0
      },
      "text/plain": [
       "Epoch 189:   0%|          | 0/756 [00:00<?, ?batch/s]"
      ]
     },
     "metadata": {},
     "output_type": "display_data"
    },
    {
     "data": {
      "application/vnd.jupyter.widget-view+json": {
       "model_id": "2d296320fcb94383b456414dd8af0ee7",
       "version_major": 2,
       "version_minor": 0
      },
      "text/plain": [
       "Epoch 190:   0%|          | 0/756 [00:00<?, ?batch/s]"
      ]
     },
     "metadata": {},
     "output_type": "display_data"
    },
    {
     "data": {
      "application/vnd.jupyter.widget-view+json": {
       "model_id": "d094526e6b1f4891b7db0f448c1f36c5",
       "version_major": 2,
       "version_minor": 0
      },
      "text/plain": [
       "Epoch 191:   0%|          | 0/756 [00:00<?, ?batch/s]"
      ]
     },
     "metadata": {},
     "output_type": "display_data"
    },
    {
     "data": {
      "application/vnd.jupyter.widget-view+json": {
       "model_id": "6cf5f66e5ef143bdb3bd5b67eb9664e2",
       "version_major": 2,
       "version_minor": 0
      },
      "text/plain": [
       "Epoch 192:   0%|          | 0/756 [00:00<?, ?batch/s]"
      ]
     },
     "metadata": {},
     "output_type": "display_data"
    },
    {
     "data": {
      "application/vnd.jupyter.widget-view+json": {
       "model_id": "1905715fd3fc475ab679639133ee9e50",
       "version_major": 2,
       "version_minor": 0
      },
      "text/plain": [
       "Epoch 193:   0%|          | 0/756 [00:00<?, ?batch/s]"
      ]
     },
     "metadata": {},
     "output_type": "display_data"
    },
    {
     "data": {
      "application/vnd.jupyter.widget-view+json": {
       "model_id": "bd503bee53344e738b665906fc79a16a",
       "version_major": 2,
       "version_minor": 0
      },
      "text/plain": [
       "Epoch 194:   0%|          | 0/756 [00:00<?, ?batch/s]"
      ]
     },
     "metadata": {},
     "output_type": "display_data"
    },
    {
     "data": {
      "application/vnd.jupyter.widget-view+json": {
       "model_id": "0e8ae7aafdd14d50a1747510a1d48e08",
       "version_major": 2,
       "version_minor": 0
      },
      "text/plain": [
       "Epoch 195:   0%|          | 0/756 [00:00<?, ?batch/s]"
      ]
     },
     "metadata": {},
     "output_type": "display_data"
    },
    {
     "data": {
      "application/vnd.jupyter.widget-view+json": {
       "model_id": "a4fea32f2926491a82bbe02a8a12ff02",
       "version_major": 2,
       "version_minor": 0
      },
      "text/plain": [
       "Epoch 196:   0%|          | 0/756 [00:00<?, ?batch/s]"
      ]
     },
     "metadata": {},
     "output_type": "display_data"
    },
    {
     "data": {
      "application/vnd.jupyter.widget-view+json": {
       "model_id": "cfdd6df47286426cb624f185b12e28a8",
       "version_major": 2,
       "version_minor": 0
      },
      "text/plain": [
       "Epoch 197:   0%|          | 0/756 [00:00<?, ?batch/s]"
      ]
     },
     "metadata": {},
     "output_type": "display_data"
    },
    {
     "data": {
      "application/vnd.jupyter.widget-view+json": {
       "model_id": "cd054d0522ae422db84ad738e0a5b8bc",
       "version_major": 2,
       "version_minor": 0
      },
      "text/plain": [
       "Epoch 198:   0%|          | 0/756 [00:00<?, ?batch/s]"
      ]
     },
     "metadata": {},
     "output_type": "display_data"
    },
    {
     "data": {
      "application/vnd.jupyter.widget-view+json": {
       "model_id": "ae9ac4a7375a43feacafae287f5fe530",
       "version_major": 2,
       "version_minor": 0
      },
      "text/plain": [
       "Epoch 199:   0%|          | 0/756 [00:00<?, ?batch/s]"
      ]
     },
     "metadata": {},
     "output_type": "display_data"
    },
    {
     "data": {
      "application/vnd.jupyter.widget-view+json": {
       "model_id": "faf0314b89464129b41bab265ab29320",
       "version_major": 2,
       "version_minor": 0
      },
      "text/plain": [
       "Epoch 200:   0%|          | 0/756 [00:00<?, ?batch/s]"
      ]
     },
     "metadata": {},
     "output_type": "display_data"
    }
   ],
   "source": [
    "from tqdm.notebook import tqdm\n",
    "\n",
    "epoch_bar = tqdm(range(epochs), desc=\"Training Autoencoder\", unit=\"epoch\")\n",
    "for epoch in epoch_bar:\n",
    "    # Training phase\n",
    "    autoencoder.train()\n",
    "    epoch_train_loss = 0\n",
    "    for batch in tqdm(train_loader, desc=f\"Epoch {epoch+1}\", leave=False, unit=\"batch\"):\n",
    "        batch = batch[0].to(device)\n",
    "        optimizer.zero_grad()\n",
    "        outputs = autoencoder(batch)\n",
    "        loss = criterion(outputs, batch)\n",
    "        loss.backward()\n",
    "        torch.nn.utils.clip_grad_norm_(autoencoder.parameters(), 1.0)\n",
    "        optimizer.step()\n",
    "        epoch_train_loss += loss.item() * batch.size(0)\n",
    "    \n",
    "    # Validation phase\n",
    "    autoencoder.eval()\n",
    "    epoch_val_loss = 0\n",
    "    with torch.no_grad():\n",
    "        for batch in val_loader:\n",
    "            batch = batch[0].to(device)\n",
    "            outputs = autoencoder(batch)\n",
    "            loss = criterion(outputs, batch)\n",
    "            epoch_val_loss += loss.item() * batch.size(0)\n",
    "    \n",
    "    # Calculate metrics\n",
    "    train_loss = epoch_train_loss / len(train_loader.dataset)\n",
    "    val_loss = epoch_val_loss / len(val_loader.dataset)\n",
    "    train_losses.append(train_loss)\n",
    "    val_losses.append(val_loss)\n",
    "    \n",
    "    # Update progress bar\n",
    "    epoch_bar.set_postfix({\n",
    "        'Train Loss': f\"{train_loss:.4f}\",\n",
    "        'Val Loss': f\"{val_loss:.4f}\",\n",
    "        'LR': f\"{optimizer.param_groups[0]['lr']:.2e}\"\n",
    "    })\n",
    "    \n",
    "    # Save best model\n",
    "    if val_loss < best_loss:\n",
    "        best_loss = val_loss\n",
    "        torch.save(autoencoder.state_dict(), save_path)\n",
    "    \n",
    "    # Learning rate scheduling\n",
    "    scheduler.step(val_loss)"
   ]
  },
  {
   "cell_type": "code",
   "execution_count": 14,
   "id": "a080b3b8-b217-4b50-86a4-94358e9fb668",
   "metadata": {},
   "outputs": [
    {
     "data": {
      "image/png": "[encoded data removed]",
      "text/plain": [
       "<Figure size 1000x500 with 1 Axes>"
      ]
     },
     "metadata": {},
     "output_type": "display_data"
    }
   ],
   "source": [
    "import matplotlib.pyplot as plt\n",
    "# Plot training history\n",
    "plt.figure(figsize=(10, 5))\n",
    "plt.plot(train_losses, label='Training Loss')\n",
    "plt.plot(val_losses, label='Validation Loss')\n",
    "plt.title('Autoencoder Training Progress')\n",
    "plt.xlabel('Epochs')\n",
    "plt.ylabel('MSE Loss')\n",
    "plt.legend()\n",
    "plt.grid(True)\n",
    "plt.show()"
   ]
  },
  {
   "cell_type": "code",
   "execution_count": 15,
   "id": "880b3f7d-da3e-4ac3-b8f8-37845518cdf0",
   "metadata": {},
   "outputs": [
    {
     "data": {
      "text/plain": [
       "<All keys matched successfully>"
      ]
     },
     "execution_count": 15,
     "metadata": {},
     "output_type": "execute_result"
    }
   ],
   "source": [
    "autoencoder.load_state_dict(torch.load(save_path))"
   ]
  },
  {
   "cell_type": "code",
   "execution_count": 16,
   "id": "814131eb-fe84-4094-bdc3-2fd77f765766",
   "metadata": {},
   "outputs": [],
   "source": [
    "autoencoder.eval()\n",
    "encoder = Encoder(autoencoder).eval()"
   ]
  },
  {
   "cell_type": "code",
   "execution_count": 17,
   "id": "fc251b00-905e-4e6a-90f3-e9e07f2c0c3f",
   "metadata": {},
   "outputs": [],
   "source": [
    "# Generate encoded features\n",
    "with torch.no_grad():\n",
    "    encoded_train = encoder(train_tensor.to(device)).cpu().numpy()\n",
    "    encoded_val = encoder(val_tensor.to(device)).cpu().numpy()\n",
    "    encoded_test = encoder(test_tensor.to(device)).cpu().numpy()"
   ]
  },
  {
   "cell_type": "code",
   "execution_count": 18,
   "id": "029718d4-c837-4ebd-b79f-8c72e6f95ae4",
   "metadata": {},
   "outputs": [],
   "source": [
    "# Save encoded features\n",
    "pd.DataFrame(encoded_train).to_csv(os.path.join(temp_dir, \"encoded_features_train.csv\"), index=False)\n",
    "pd.DataFrame(encoded_val).to_csv(os.path.join(temp_dir, \"encoded_features_val.csv\"), index=False)\n",
    "pd.DataFrame(encoded_test).to_csv(os.path.join(temp_dir, \"encoded_features_test.csv\"), index=False)"
   ]
  },
  {
   "cell_type": "code",
   "execution_count": 19,
   "id": "752b8121-b17e-4483-86fc-8c96cc2197ba",
   "metadata": {},
   "outputs": [],
   "source": [
    "original_features_train = pd.read_csv(os.path.join(temp_dir, \"X_train_scaled.csv\"))\n",
    "encoded_features_train = pd.read_csv(os.path.join(temp_dir, \"encoded_features_train.csv\"))\n",
    "enriched_data_train = pd.concat([original_features_train, encoded_features_train], axis=1)\n",
    "\n",
    "original_features_val = pd.read_csv(os.path.join(temp_dir, \"X_val_scaled.csv\"))\n",
    "encoded_features_val = pd.read_csv(os.path.join(temp_dir, \"encoded_features_val.csv\"))\n",
    "enriched_data_val = pd.concat([original_features_val, encoded_features_val], axis=1)\n",
    "\n",
    "original_features_test = pd.read_csv(os.path.join(temp_dir, \"X_test_scaled.csv\"))\n",
    "encoded_features_test = pd.read_csv(os.path.join(temp_dir, \"encoded_features_test.csv\"))\n",
    "enriched_data_test = pd.concat([original_features_test, encoded_features_test], axis=1)"
   ]
  },
  {
   "cell_type": "code",
   "execution_count": 20,
   "id": "3668d30d-b14b-4341-9c9e-f197f03a97eb",
   "metadata": {},
   "outputs": [],
   "source": [
    "pd.DataFrame(enriched_data_train).to_csv(os.path.join(temp_dir, \"X_train_enriched.csv\"), index=False)\n",
    "pd.DataFrame(enriched_data_val).to_csv(os.path.join(temp_dir, \"X_val_enriched.csv\"), index=False)\n",
    "pd.DataFrame(enriched_data_test).to_csv(os.path.join(temp_dir, \"X_test_enriched.csv\"), index=False)"
   ]
  },
  {
   "cell_type": "code",
   "execution_count": null,
   "id": "051018ca-1400-471e-8f6f-9463b5dddfd6",
   "metadata": {},
   "outputs": [],
   "source": []
  }
 ],
 "metadata": {
  "kernelspec": {
   "display_name": "Python 3 (ipykernel)",
   "language": "python",
   "name": "python3"
  },
  "language_info": {
   "codemirror_mode": {
    "name": "ipython",
    "version": 3
   },
   "file_extension": ".py",
   "mimetype": "text/x-python",
   "name": "python",
   "nbconvert_exporter": "python",
   "pygments_lexer": "ipython3",
   "version": "3.12.7"
  }
 },
 "nbformat": 4,
 "nbformat_minor": 5
}
