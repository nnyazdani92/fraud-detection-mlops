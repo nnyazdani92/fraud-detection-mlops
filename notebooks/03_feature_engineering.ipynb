{
 "cells": [
  {
   "cell_type": "code",
   "execution_count": 1,
   "id": "facf64e0-056b-4cc4-bda6-1c99a8072c4e",
   "metadata": {},
   "outputs": [
    {
     "data": {
      "text/plain": [
       "True"
      ]
     },
     "execution_count": 1,
     "metadata": {},
     "output_type": "execute_result"
    }
   ],
   "source": [
    "import os\n",
    "import sys\n",
    "import mlflow\n",
    "import pandas as pd\n",
    "import torch\n",
    "import torch.nn as nn\n",
    "import joblib\n",
    "import matplotlib.pyplot as plt\n",
    "from pathlib import Path\n",
    "from tempfile import TemporaryDirectory\n",
    "from typing import Tuple, Dict\n",
    "from torch.utils.data import TensorDataset, DataLoader\n",
    "from mlflow.tracking import MlflowClient\n",
    "from mlflow.entities import ViewType\n",
    "from tqdm.notebook import tqdm\n",
    "\n",
    "sys.path.append('..')\n",
    "from dotenv import load_dotenv\n",
    "from src.mlflow_init import configure_mlflow\n",
    "\n",
    "load_dotenv()"
   ]
  },
  {
   "cell_type": "code",
   "execution_count": 2,
   "id": "1fa21cd9-6777-4ed8-b1d0-298849b35990",
   "metadata": {},
   "outputs": [],
   "source": [
    "CONFIG = {\n",
    "    \"data_params\": {\n",
    "        \"split_dirs\": [\"training\", \"validation\", \"testing\"],\n",
    "        \"split_types\": [\"Features\", \"Target\"],\n",
    "        \"split_names\": [\"X_train\", \"X_val\", \"X_test\"]\n",
    "    },\n",
    "    \"model_params\": {\n",
    "        \"encoding_dim\": 32,\n",
    "        \"hidden_dims\": [128, 64],\n",
    "        \"dropout\": 0.2,\n",
    "    },\n",
    "    \"training_params\": {\n",
    "        \"lr\": 1e-4,\n",
    "        \"epochs\": 100,\n",
    "        \"batch_size\": 256,\n",
    "        \"weight_decay\": 1e-5,\n",
    "        \"patience\": 15\n",
    "    }\n",
    "}"
   ]
  },
  {
   "cell_type": "code",
   "execution_count": 3,
   "id": "8a66a76a-77f2-4c69-bbb5-644cafdef0e6",
   "metadata": {},
   "outputs": [],
   "source": [
    "def get_preprocessed_data(run_id: str, data_params: dict[list[str]]) -> dict:\n",
    "    \"\"\"Retrieve preprocessed data from MLflow artifacts\"\"\"\n",
    "    client = MlflowClient()\n",
    "    data = {}\n",
    "\n",
    "    for split_dir in data_params[\"split_dirs\"]:\n",
    "        for split_type in data_params[\"split_types\"]:\n",
    "            artifacts = client.list_artifacts(run_id, os.path.join(\"data/processed\", split_dir, split_type))\n",
    "                    \n",
    "            for artifact in artifacts:\n",
    "                if artifact.path.endswith(\".parquet\"):\n",
    "                    path = client.download_artifacts(run_id, artifact.path)\n",
    "                    split = artifact.path.split(\"/\")[-1].split(\".\")[0]\n",
    "                    data[split] = pd.read_parquet(path)\n",
    "        \n",
    "    return data\n",
    "\n",
    "def find_latest_preprocessing_run() -> str:\n",
    "    \"\"\"Find the latest successful preprocessing run\"\"\"\n",
    "    client = MlflowClient()\n",
    "    experiment_id = mlflow.get_experiment_by_name(\"CreditCardFraudPreprocessing\").experiment_id\n",
    "    runs = client.search_runs(\n",
    "        experiment_ids = [experiment_id],\n",
    "        filter_string=\"tags.stage='preprocessing' AND attributes.status='FINISHED'\",\n",
    "        run_view_type=ViewType.ACTIVE_ONLY,\n",
    "        max_results=1,\n",
    "        order_by=[\"attribute.start_time DESC\"]\n",
    "    )\n",
    "    return runs[0].info.run_id if runs else None"
   ]
  },
  {
   "cell_type": "code",
   "execution_count": 4,
   "id": "26645e7e-43e6-4a16-b023-995ac71415d6",
   "metadata": {},
   "outputs": [],
   "source": [
    "def log_data_characteristics(data: pd.DataFrame, prefix: str) -> None:\n",
    "    \"\"\"Log comprehensive data characteristics\"\"\"\n",
    "    mlflow.log_metrics({\n",
    "        f\"{prefix}_samples\": data.shape[0],\n",
    "        f\"{prefix}_features\": data.shape[1],\n",
    "        f\"{prefix}_nan_count\": data.isna().sum().sum()\n",
    "    })"
   ]
  },
  {
   "cell_type": "code",
   "execution_count": 5,
   "id": "681b20c9-22ca-4f33-81f2-319ce15f361b",
   "metadata": {},
   "outputs": [
    {
     "name": "stderr",
     "output_type": "stream",
     "text": [
      "/home/nick/snap/code/181/.local/share/virtualenvs/fraud-detection-mlops-5wXwr5xg/lib/python3.12/site-packages/mlflow/pyfunc/utils/data_validation.py:134: UserWarning: \u001b[33mAdd type hints to the `predict` method to enable data validation and automatic signature inference during model logging. Check https://mlflow.org/docs/latest/model/python_model.html#type-hint-usage-in-pythonmodel for more details.\u001b[0m\n",
      "  color_warning(\n"
     ]
    }
   ],
   "source": [
    "class AutoencoderMLflowWrapper(mlflow.pyfunc.PythonModel):\n",
    "    \"\"\"MLflow-compatible wrapper for Autoencoder model\"\"\"\n",
    "    def __init__(self, autoencoder, encoder):\n",
    "        super().__init__()\n",
    "        self.autoencoder = autoencoder\n",
    "        self.encoder = encoder\n",
    "        \n",
    "    def predict(self, context, model_input):\n",
    "        with torch.no_grad():\n",
    "            tensor_input = torch.FloatTensor(model_input.values)\n",
    "            return self.encoder(tensor_input).numpy()"
   ]
  },
  {
   "cell_type": "code",
   "execution_count": 6,
   "id": "d210c97a-086e-403f-a9d7-24a9c7dc667f",
   "metadata": {},
   "outputs": [],
   "source": [
    "def create_autoencoder(config: Dict, input_dim: int) -> Tuple[torch.nn.Module, torch.nn.Module]:\n",
    "    \"\"\"Autoencoder training pipeline with MLflow integration\"\"\"\n",
    "    # Model architecture\n",
    "    class Autoencoder(nn.Module):\n",
    "        def __init__(self, input_dim):\n",
    "            super().__init__()\n",
    "            self.enc1 = nn.Linear(input_dim, config[\"model_params\"][\"hidden_dims\"][0])\n",
    "            self.enc_act1 = nn.ReLU()\n",
    "            self.enc2 = nn.Linear(config[\"model_params\"][\"hidden_dims\"][0], config[\"model_params\"][\"hidden_dims\"][1])\n",
    "            self.enc_bn = nn.BatchNorm1d(config[\"model_params\"][\"hidden_dims\"][1])\n",
    "            self.enc_act2 = nn.ReLU()\n",
    "            self.enc3 = nn.Linear(config[\"model_params\"][\"hidden_dims\"][1], config[\"model_params\"][\"encoding_dim\"])\n",
    "            self.dropout = nn.Dropout(config[\"model_params\"][\"dropout\"])\n",
    "            self.dec1 = nn.Linear(config[\"model_params\"][\"encoding_dim\"], config[\"model_params\"][\"hidden_dims\"][1])\n",
    "            self.dec_act1 = nn.ReLU()\n",
    "            self.dec2 = nn.Linear(config[\"model_params\"][\"hidden_dims\"][1], config[\"model_params\"][\"hidden_dims\"][0])\n",
    "            self.dec_act2 = nn.ReLU()\n",
    "            self.dec3 = nn.Linear(config[\"model_params\"][\"hidden_dims\"][0], input_dim)\n",
    "\n",
    "        def forward(self, x):\n",
    "            enc1_out = self.enc_act1(self.enc1(x))\n",
    "            enc2_out = self.enc_act2(self.enc_bn(self.enc2(enc1_out)))\n",
    "            encoding = self.enc3(enc2_out)\n",
    "            drop = self.dropout(encoding)\n",
    "            dec1_out = self.dec_act1(self.dec1(drop))\n",
    "            dec2_in = dec1_out + enc2_out\n",
    "            dec2_out = self.dec_act2(self.dec2(dec2_in))\n",
    "            dec3_in = dec2_out + enc1_out\n",
    "            output = self.dec3(dec3_in)\n",
    "            return output\n",
    "        \n",
    "    model = Autoencoder(input_dim)\n",
    "    device = torch.device('cuda' if torch.cuda.is_available() else 'cpu')\n",
    "    model.to(device)\n",
    "    \n",
    "    # Log model architecture\n",
    "    mlflow.log_params({\n",
    "        \"input_dim\": input_dim,\n",
    "        **config[\"model_params\"],\n",
    "        \"optimizer\": \"Adam\",\n",
    "        \"loss_fn\": \"SmoothL1Loss\"\n",
    "    })\n",
    "    \n",
    "    return model, device"
   ]
  },
  {
   "cell_type": "code",
   "execution_count": 7,
   "id": "01d70ba9-294d-4a08-900f-75784cd8ad20",
   "metadata": {},
   "outputs": [],
   "source": [
    "# Define Encoder\n",
    "class Encoder(nn.Module):\n",
    "    def __init__(self, autoencoder):\n",
    "        super(Encoder, self).__init__()\n",
    "        self.enc1 = autoencoder.enc1\n",
    "        self.enc_act1 = autoencoder.enc_act1\n",
    "        self.enc2 = autoencoder.enc2\n",
    "        self.enc_bn = autoencoder.enc_bn\n",
    "        self.enc_act2 = autoencoder.enc_act2\n",
    "        self.enc3 = autoencoder.enc3\n",
    "\n",
    "    def forward(self, x):\n",
    "        x = self.enc_act1(self.enc1(x))\n",
    "        x = self.enc_act2(self.enc_bn(self.enc2(x)))\n",
    "        x = self.enc3(x)\n",
    "        return x"
   ]
  },
  {
   "cell_type": "code",
   "execution_count": 8,
   "id": "1d506614-7a47-4657-80a9-bb17e74664b0",
   "metadata": {},
   "outputs": [],
   "source": [
    "def filter_non_fraud(features, target):\n",
    "    non_fraud_mask = (target == 0).values.flatten()\n",
    "    non_fraud_features = features[non_fraud_mask]\n",
    "    return non_fraud_features"
   ]
  },
  {
   "cell_type": "code",
   "execution_count": 9,
   "id": "b1733655-f6ca-4757-b5c7-5dc2f7720fa8",
   "metadata": {},
   "outputs": [],
   "source": [
    "def train(epochs, autoencoder, train_loader, val_loader, optimizer, criterion, device, save_dir, config):\n",
    "    best_loss = float('inf')\n",
    "    patience_counter = 0\n",
    "    train_losses = []\n",
    "    val_losses = []\n",
    "    \n",
    "    epoch_bar = tqdm(range(epochs), desc='Training Autoencoder', unit='epoch')\n",
    "    for epoch in epoch_bar:\n",
    "        # Training phase\n",
    "        autoencoder.train()\n",
    "        epoch_train_loss = 0\n",
    "        for batch in tqdm(train_loader, desc=f'Epoch {epoch+1}', leave=False, unit='batch'):\n",
    "            batch = batch[0].to(device)\n",
    "            optimizer.zero_grad()\n",
    "            outputs = autoencoder(batch)\n",
    "            loss = criterion(outputs, batch)\n",
    "            loss.backward()\n",
    "            torch.nn.utils.clip_grad_norm_(autoencoder.parameters(), 1.0)\n",
    "            optimizer.step()\n",
    "            epoch_train_loss += loss.item() * batch.size(0)\n",
    "\n",
    "        # Validation phase\n",
    "        autoencoder.eval()\n",
    "        epoch_val_loss = 0\n",
    "        with torch.no_grad():\n",
    "            for batch in val_loader:\n",
    "                batch = batch[0].to(device)\n",
    "                outputs = autoencoder(batch)\n",
    "                loss = criterion(outputs, batch)\n",
    "                epoch_val_loss += loss.item() * batch.size(0)\n",
    "\n",
    "        # Calculate metrics\n",
    "        train_loss = epoch_train_loss / len(train_loader.dataset)\n",
    "        val_loss = epoch_val_loss / len(val_loader.dataset)\n",
    "        train_losses.append(train_loss)\n",
    "        val_losses.append(val_loss)\n",
    "\n",
    "        # Update progress bar\n",
    "        epoch_bar.set_postfix({\n",
    "            'Train Loss': f'{train_loss:.4f}',\n",
    "            'Val Loss': f'{val_loss:.4f}',\n",
    "            'LR': f'{optimizer.param_groups[0][\"lr\"]:.2e}'\n",
    "        })\n",
    "\n",
    "        mlflow.log_metrics({\n",
    "            \"train_loss\": train_loss,\n",
    "            \"val_loss\": val_loss,\n",
    "            \"learning_rate\": optimizer.param_groups[0]['lr']\n",
    "        }, step=epoch)\n",
    "\n",
    "        # Early stopping and model checkpointing\n",
    "        if val_loss < best_loss:\n",
    "            best_loss = val_loss\n",
    "            patience_counter = 0\n",
    "            torch.save(autoencoder.state_dict(), Path(save_dir) / \"best_model.pth\")\n",
    "        else:\n",
    "            patience_counter += 1\n",
    "            if patience_counter >= config[\"training_params\"][\"patience\"]:\n",
    "                break\n",
    "\n",
    "    return train_losses, val_losses"
   ]
  },
  {
   "cell_type": "code",
   "execution_count": 10,
   "id": "97231bff-d29d-4492-a3fe-882754dff68e",
   "metadata": {},
   "outputs": [],
   "source": [
    "def plot_history(train_losses, val_losses, figsize=(10, 5)):\n",
    "    plt.figure(figsize=figsize)\n",
    "    plt.plot(train_losses, label='Training Loss')\n",
    "    plt.plot(val_losses, label='Validation Loss')\n",
    "    plt.title('Autoencoder Training Progress')\n",
    "    plt.xlabel('Epochs')\n",
    "    plt.ylabel('MSE Loss')\n",
    "    plt.legend()\n",
    "    plt.grid(True)\n",
    "\n",
    "    with TemporaryDirectory() as tmp_dir:\n",
    "        plot_path = os.path.join(tmp_dir, \"training_history.png\")\n",
    "        plt.savefig(plot_path)\n",
    "        mlflow.log_artifact(plot_path)\n",
    "        \n",
    "    plt.close()"
   ]
  },
  {
   "cell_type": "code",
   "execution_count": 11,
   "id": "bf6f5f08-05ac-4527-966b-5c0808cf3aa3",
   "metadata": {},
   "outputs": [],
   "source": [
    "def feature_engineering_pipeline(config: dict):    \n",
    "    # Link to preprocessing run\n",
    "    preprocessing_run_id = find_latest_preprocessing_run()\n",
    "    if not preprocessing_run_id:\n",
    "        raise ValueError(\"No successful preprocessing run found\")\n",
    "        \n",
    "    mlflow.log_param(\"preprocessing_run_id\", preprocessing_run_id)\n",
    "    mlflow.set_tags({\n",
    "        \"stage\": \"feature_engineering\",\n",
    "        \"dataset_type\": \"tabular\",\n",
    "        \"task\": \"reconstruction\",\n",
    "        \"parent_run\": preprocessing_run_id\n",
    "    })\n",
    "\n",
    "    # Retrieve processed data from MLflow\n",
    "    processed_data = get_preprocessed_data(preprocessing_run_id, config[\"data_params\"])\n",
    "    \n",
    "    # Log data characteristics\n",
    "    mlflow.log_metrics({\n",
    "        \"train_samples_retrieved\": processed_data[\"X_train\"].shape[0],\n",
    "        \"val_samples_retrieved\": processed_data[\"X_val\"].shape[0],\n",
    "        \"test_samples_retrieved\": processed_data[\"X_test\"].shape[0]\n",
    "    })\n",
    "\n",
    "    # Filter non-fraud cases\n",
    "    X_train_non_fraud = filter_non_fraud(processed_data[\"X_train\"], processed_data[\"y_train\"])\n",
    "    X_val_non_fraud = filter_non_fraud(processed_data[\"X_val\"], processed_data[\"y_val\"])\n",
    "\n",
    "    # Create datasets\n",
    "    train_dataset = TensorDataset(torch.tensor(X_train_non_fraud.values, dtype=torch.float32))\n",
    "    val_dataset = TensorDataset(torch.tensor(X_val_non_fraud.values, dtype=torch.float32))\n",
    "\n",
    "    batch_size = config[\"training_params\"][\"batch_size\"]\n",
    "    train_loader = DataLoader(train_dataset, batch_size=batch_size, shuffle=True, num_workers=os.cpu_count())\n",
    "    val_loader = DataLoader(val_dataset, batch_size=batch_size, num_workers=os.cpu_count())\n",
    "\n",
    "    input_dim = X_train_non_fraud.shape[1]\n",
    "\n",
    "     # Initialize model and training components\n",
    "    autoencoder, device = create_autoencoder(config, input_dim)\n",
    "    criterion = nn.SmoothL1Loss()\n",
    "    optimizer = torch.optim.Adam(\n",
    "        autoencoder.parameters(),\n",
    "        lr=config[\"training_params\"][\"lr\"],\n",
    "        weight_decay=config[\"training_params\"][\"weight_decay\"]\n",
    "    )\n",
    "    \n",
    "    # Log training configuration\n",
    "    mlflow.log_params(config[\"training_params\"])\n",
    "    mlflow.log_dict(config, \"training_config.json\")\n",
    "\n",
    "    epochs = config[\"training_params\"][\"epochs\"]\n",
    "    \n",
    "    with TemporaryDirectory() as save_dir:\n",
    "        train_losses, val_losses = train(epochs, autoencoder, train_loader, val_loader, optimizer, criterion, device, save_dir, config)\n",
    "        plot_history(train_losses, val_losses)\n",
    "        autoencoder.load_state_dict(torch.load(Path(save_dir) / \"best_model.pth\"))\n",
    "        \n",
    "    # Generate and log encoded features\n",
    "    autoencoder.eval()\n",
    "    encoder = Encoder(autoencoder).eval()\n",
    "\n",
    "    mlflow.pytorch.log_model(\n",
    "        pytorch_model=encoder,\n",
    "        artifact_path=\"encoder\",\n",
    "        registered_model_name=\"FraudEncoder\"\n",
    "    )\n",
    "    \n",
    "    with torch.no_grad():\n",
    "        with TemporaryDirectory() as tmp_dir:\n",
    "            for split, split_dir in zip(config['data_params']['split_names'], config['data_params']['split_dirs']):\n",
    "                tensor_data = torch.FloatTensor(processed_data[split].values).to(device)\n",
    "                encoded = encoder(tensor_data).cpu().numpy()\n",
    "                pd.DataFrame(encoded).to_parquet(Path(tmp_dir) / f\"encoded_{split}.parquet\")\n",
    "                mlflow.log_artifact(Path(tmp_dir) / f\"encoded_{split}.parquet\", f\"engineered_features/{split_dir}/Features\")\n",
    "            \n",
    "    # Log environment details\n",
    "    mlflow.log_params({\n",
    "        \"pytorch_version\": torch.__version__,\n",
    "        \"cuda_available\": torch.cuda.is_available(),\n",
    "        \"device_count\": torch.cuda.device_count() if torch.cuda.is_available() else 0\n",
    "    })"
   ]
  },
  {
   "cell_type": "code",
   "execution_count": 12,
   "id": "b97b5b16-0475-4345-a147-0d46ebd899b6",
   "metadata": {},
   "outputs": [
    {
     "data": {
      "application/vnd.jupyter.widget-view+json": {
       "model_id": "6711a18169c944708ee3d454c8a66c08",
       "version_major": 2,
       "version_minor": 0
      },
      "text/plain": [
       "Training Autoencoder:   0%|          | 0/100 [00:00<?, ?epoch/s]"
      ]
     },
     "metadata": {},
     "output_type": "display_data"
    },
    {
     "data": {
      "application/vnd.jupyter.widget-view+json": {
       "model_id": "46e65ed6419841e483aacf2d7bf69024",
       "version_major": 2,
       "version_minor": 0
      },
      "text/plain": [
       "Epoch 1:   0%|          | 0/756 [00:00<?, ?batch/s]"
      ]
     },
     "metadata": {},
     "output_type": "display_data"
    },
    {
     "data": {
      "application/vnd.jupyter.widget-view+json": {
       "model_id": "138fd123ff02479785a845803cce4174",
       "version_major": 2,
       "version_minor": 0
      },
      "text/plain": [
       "Epoch 2:   0%|          | 0/756 [00:00<?, ?batch/s]"
      ]
     },
     "metadata": {},
     "output_type": "display_data"
    },
    {
     "data": {
      "application/vnd.jupyter.widget-view+json": {
       "model_id": "30e48ed59c1b4a9fb27d19a125894e3d",
       "version_major": 2,
       "version_minor": 0
      },
      "text/plain": [
       "Epoch 3:   0%|          | 0/756 [00:00<?, ?batch/s]"
      ]
     },
     "metadata": {},
     "output_type": "display_data"
    },
    {
     "data": {
      "application/vnd.jupyter.widget-view+json": {
       "model_id": "e0d4a1315eef4659a92e66a4db18aff3",
       "version_major": 2,
       "version_minor": 0
      },
      "text/plain": [
       "Epoch 4:   0%|          | 0/756 [00:00<?, ?batch/s]"
      ]
     },
     "metadata": {},
     "output_type": "display_data"
    },
    {
     "data": {
      "application/vnd.jupyter.widget-view+json": {
       "model_id": "309d9d9df4a54792bee50cf2bd1b8254",
       "version_major": 2,
       "version_minor": 0
      },
      "text/plain": [
       "Epoch 5:   0%|          | 0/756 [00:00<?, ?batch/s]"
      ]
     },
     "metadata": {},
     "output_type": "display_data"
    },
    {
     "data": {
      "application/vnd.jupyter.widget-view+json": {
       "model_id": "45278cd04612450cb68dcc4b77496489",
       "version_major": 2,
       "version_minor": 0
      },
      "text/plain": [
       "Epoch 6:   0%|          | 0/756 [00:00<?, ?batch/s]"
      ]
     },
     "metadata": {},
     "output_type": "display_data"
    },
    {
     "data": {
      "application/vnd.jupyter.widget-view+json": {
       "model_id": "1ef076e86107401a861f990e369fe794",
       "version_major": 2,
       "version_minor": 0
      },
      "text/plain": [
       "Epoch 7:   0%|          | 0/756 [00:00<?, ?batch/s]"
      ]
     },
     "metadata": {},
     "output_type": "display_data"
    },
    {
     "data": {
      "application/vnd.jupyter.widget-view+json": {
       "model_id": "0c8b9c88f8304729b33a52930cc45007",
       "version_major": 2,
       "version_minor": 0
      },
      "text/plain": [
       "Epoch 8:   0%|          | 0/756 [00:00<?, ?batch/s]"
      ]
     },
     "metadata": {},
     "output_type": "display_data"
    },
    {
     "data": {
      "application/vnd.jupyter.widget-view+json": {
       "model_id": "f81d24d559d9419e82e97d2a1d28abc8",
       "version_major": 2,
       "version_minor": 0
      },
      "text/plain": [
       "Epoch 9:   0%|          | 0/756 [00:00<?, ?batch/s]"
      ]
     },
     "metadata": {},
     "output_type": "display_data"
    },
    {
     "data": {
      "application/vnd.jupyter.widget-view+json": {
       "model_id": "3c20f170c6b645d0a6419d0c0a7ced83",
       "version_major": 2,
       "version_minor": 0
      },
      "text/plain": [
       "Epoch 10:   0%|          | 0/756 [00:00<?, ?batch/s]"
      ]
     },
     "metadata": {},
     "output_type": "display_data"
    },
    {
     "data": {
      "application/vnd.jupyter.widget-view+json": {
       "model_id": "e4839b2d73c84b70ba9297fc7c448b0f",
       "version_major": 2,
       "version_minor": 0
      },
      "text/plain": [
       "Epoch 11:   0%|          | 0/756 [00:00<?, ?batch/s]"
      ]
     },
     "metadata": {},
     "output_type": "display_data"
    },
    {
     "data": {
      "application/vnd.jupyter.widget-view+json": {
       "model_id": "f5ae120a907b463f98171a5482d9398e",
       "version_major": 2,
       "version_minor": 0
      },
      "text/plain": [
       "Epoch 12:   0%|          | 0/756 [00:00<?, ?batch/s]"
      ]
     },
     "metadata": {},
     "output_type": "display_data"
    },
    {
     "data": {
      "application/vnd.jupyter.widget-view+json": {
       "model_id": "855ea94abd6a4e1d8e2c99e339358d99",
       "version_major": 2,
       "version_minor": 0
      },
      "text/plain": [
       "Epoch 13:   0%|          | 0/756 [00:00<?, ?batch/s]"
      ]
     },
     "metadata": {},
     "output_type": "display_data"
    },
    {
     "data": {
      "application/vnd.jupyter.widget-view+json": {
       "model_id": "34a4b3229be64d4caf8240f8f5f4d01d",
       "version_major": 2,
       "version_minor": 0
      },
      "text/plain": [
       "Epoch 14:   0%|          | 0/756 [00:00<?, ?batch/s]"
      ]
     },
     "metadata": {},
     "output_type": "display_data"
    },
    {
     "data": {
      "application/vnd.jupyter.widget-view+json": {
       "model_id": "3b16f3820f024a54ab70a5af697823ad",
       "version_major": 2,
       "version_minor": 0
      },
      "text/plain": [
       "Epoch 15:   0%|          | 0/756 [00:00<?, ?batch/s]"
      ]
     },
     "metadata": {},
     "output_type": "display_data"
    },
    {
     "data": {
      "application/vnd.jupyter.widget-view+json": {
       "model_id": "bbaa523dc51f4483a804727e83f09ca4",
       "version_major": 2,
       "version_minor": 0
      },
      "text/plain": [
       "Epoch 16:   0%|          | 0/756 [00:00<?, ?batch/s]"
      ]
     },
     "metadata": {},
     "output_type": "display_data"
    },
    {
     "data": {
      "application/vnd.jupyter.widget-view+json": {
       "model_id": "aa7a8b8de41d4ee5aaeb41acd3fe07df",
       "version_major": 2,
       "version_minor": 0
      },
      "text/plain": [
       "Epoch 17:   0%|          | 0/756 [00:00<?, ?batch/s]"
      ]
     },
     "metadata": {},
     "output_type": "display_data"
    },
    {
     "data": {
      "application/vnd.jupyter.widget-view+json": {
       "model_id": "82af80017b494f319f789e64732ca882",
       "version_major": 2,
       "version_minor": 0
      },
      "text/plain": [
       "Epoch 18:   0%|          | 0/756 [00:00<?, ?batch/s]"
      ]
     },
     "metadata": {},
     "output_type": "display_data"
    },
    {
     "data": {
      "application/vnd.jupyter.widget-view+json": {
       "model_id": "8a7c8758f90d4432be111b4613647336",
       "version_major": 2,
       "version_minor": 0
      },
      "text/plain": [
       "Epoch 19:   0%|          | 0/756 [00:00<?, ?batch/s]"
      ]
     },
     "metadata": {},
     "output_type": "display_data"
    },
    {
     "data": {
      "application/vnd.jupyter.widget-view+json": {
       "model_id": "b81dce2d6c6c4fc49d2f55630614a945",
       "version_major": 2,
       "version_minor": 0
      },
      "text/plain": [
       "Epoch 20:   0%|          | 0/756 [00:00<?, ?batch/s]"
      ]
     },
     "metadata": {},
     "output_type": "display_data"
    },
    {
     "data": {
      "application/vnd.jupyter.widget-view+json": {
       "model_id": "06b3f2d8ef9e47f1abd164da42cfdc7e",
       "version_major": 2,
       "version_minor": 0
      },
      "text/plain": [
       "Epoch 21:   0%|          | 0/756 [00:00<?, ?batch/s]"
      ]
     },
     "metadata": {},
     "output_type": "display_data"
    },
    {
     "data": {
      "application/vnd.jupyter.widget-view+json": {
       "model_id": "f50f0ac5ba044ac98836c55c8940bd0c",
       "version_major": 2,
       "version_minor": 0
      },
      "text/plain": [
       "Epoch 22:   0%|          | 0/756 [00:00<?, ?batch/s]"
      ]
     },
     "metadata": {},
     "output_type": "display_data"
    },
    {
     "data": {
      "application/vnd.jupyter.widget-view+json": {
       "model_id": "8dc200c131854863bc231e5197cab626",
       "version_major": 2,
       "version_minor": 0
      },
      "text/plain": [
       "Epoch 23:   0%|          | 0/756 [00:00<?, ?batch/s]"
      ]
     },
     "metadata": {},
     "output_type": "display_data"
    },
    {
     "data": {
      "application/vnd.jupyter.widget-view+json": {
       "model_id": "51a6c827d3b94909934cdaec55d84d85",
       "version_major": 2,
       "version_minor": 0
      },
      "text/plain": [
       "Epoch 24:   0%|          | 0/756 [00:00<?, ?batch/s]"
      ]
     },
     "metadata": {},
     "output_type": "display_data"
    },
    {
     "data": {
      "application/vnd.jupyter.widget-view+json": {
       "model_id": "20b71f73c1e9441595d716e9ae415c66",
       "version_major": 2,
       "version_minor": 0
      },
      "text/plain": [
       "Epoch 25:   0%|          | 0/756 [00:00<?, ?batch/s]"
      ]
     },
     "metadata": {},
     "output_type": "display_data"
    },
    {
     "data": {
      "application/vnd.jupyter.widget-view+json": {
       "model_id": "df862089db244f1b99a1a1a7d05f51de",
       "version_major": 2,
       "version_minor": 0
      },
      "text/plain": [
       "Epoch 26:   0%|          | 0/756 [00:00<?, ?batch/s]"
      ]
     },
     "metadata": {},
     "output_type": "display_data"
    },
    {
     "data": {
      "application/vnd.jupyter.widget-view+json": {
       "model_id": "6bf44585405a4b288ee328af4ac491ab",
       "version_major": 2,
       "version_minor": 0
      },
      "text/plain": [
       "Epoch 27:   0%|          | 0/756 [00:00<?, ?batch/s]"
      ]
     },
     "metadata": {},
     "output_type": "display_data"
    },
    {
     "data": {
      "application/vnd.jupyter.widget-view+json": {
       "model_id": "30e27930f0c1417fbf5d42a3a21c6a9c",
       "version_major": 2,
       "version_minor": 0
      },
      "text/plain": [
       "Epoch 28:   0%|          | 0/756 [00:00<?, ?batch/s]"
      ]
     },
     "metadata": {},
     "output_type": "display_data"
    },
    {
     "data": {
      "application/vnd.jupyter.widget-view+json": {
       "model_id": "aa115f9966e54fe793f8ceb4dd841d29",
       "version_major": 2,
       "version_minor": 0
      },
      "text/plain": [
       "Epoch 29:   0%|          | 0/756 [00:00<?, ?batch/s]"
      ]
     },
     "metadata": {},
     "output_type": "display_data"
    },
    {
     "data": {
      "application/vnd.jupyter.widget-view+json": {
       "model_id": "71329b5bbb9746faa4e1f75b081191ed",
       "version_major": 2,
       "version_minor": 0
      },
      "text/plain": [
       "Epoch 30:   0%|          | 0/756 [00:00<?, ?batch/s]"
      ]
     },
     "metadata": {},
     "output_type": "display_data"
    },
    {
     "data": {
      "application/vnd.jupyter.widget-view+json": {
       "model_id": "dad49383429b4c25bbcf93bb96fdee39",
       "version_major": 2,
       "version_minor": 0
      },
      "text/plain": [
       "Epoch 31:   0%|          | 0/756 [00:00<?, ?batch/s]"
      ]
     },
     "metadata": {},
     "output_type": "display_data"
    },
    {
     "data": {
      "application/vnd.jupyter.widget-view+json": {
       "model_id": "1cec9a02c2264734a6bfe5a39dd2298a",
       "version_major": 2,
       "version_minor": 0
      },
      "text/plain": [
       "Epoch 32:   0%|          | 0/756 [00:00<?, ?batch/s]"
      ]
     },
     "metadata": {},
     "output_type": "display_data"
    },
    {
     "data": {
      "application/vnd.jupyter.widget-view+json": {
       "model_id": "0fcaa01d54ab4602a09bbb4d0213eafe",
       "version_major": 2,
       "version_minor": 0
      },
      "text/plain": [
       "Epoch 33:   0%|          | 0/756 [00:00<?, ?batch/s]"
      ]
     },
     "metadata": {},
     "output_type": "display_data"
    },
    {
     "data": {
      "application/vnd.jupyter.widget-view+json": {
       "model_id": "99b334f8279849e29736c7bc3acb7365",
       "version_major": 2,
       "version_minor": 0
      },
      "text/plain": [
       "Epoch 34:   0%|          | 0/756 [00:00<?, ?batch/s]"
      ]
     },
     "metadata": {},
     "output_type": "display_data"
    },
    {
     "data": {
      "application/vnd.jupyter.widget-view+json": {
       "model_id": "4c6d6abb935345a1a9b27be0127815c4",
       "version_major": 2,
       "version_minor": 0
      },
      "text/plain": [
       "Epoch 35:   0%|          | 0/756 [00:00<?, ?batch/s]"
      ]
     },
     "metadata": {},
     "output_type": "display_data"
    },
    {
     "data": {
      "application/vnd.jupyter.widget-view+json": {
       "model_id": "9dd8700155ff478c9d825f7038edd7ca",
       "version_major": 2,
       "version_minor": 0
      },
      "text/plain": [
       "Epoch 36:   0%|          | 0/756 [00:00<?, ?batch/s]"
      ]
     },
     "metadata": {},
     "output_type": "display_data"
    },
    {
     "data": {
      "application/vnd.jupyter.widget-view+json": {
       "model_id": "feca496244a842229fbc20dac5389a7b",
       "version_major": 2,
       "version_minor": 0
      },
      "text/plain": [
       "Epoch 37:   0%|          | 0/756 [00:00<?, ?batch/s]"
      ]
     },
     "metadata": {},
     "output_type": "display_data"
    },
    {
     "data": {
      "application/vnd.jupyter.widget-view+json": {
       "model_id": "be82c59853d34fd986545371fe27b87e",
       "version_major": 2,
       "version_minor": 0
      },
      "text/plain": [
       "Epoch 38:   0%|          | 0/756 [00:00<?, ?batch/s]"
      ]
     },
     "metadata": {},
     "output_type": "display_data"
    },
    {
     "data": {
      "application/vnd.jupyter.widget-view+json": {
       "model_id": "d0e77e785cac45a0ad1dded2ee13d5b3",
       "version_major": 2,
       "version_minor": 0
      },
      "text/plain": [
       "Epoch 39:   0%|          | 0/756 [00:00<?, ?batch/s]"
      ]
     },
     "metadata": {},
     "output_type": "display_data"
    },
    {
     "data": {
      "application/vnd.jupyter.widget-view+json": {
       "model_id": "500a507614ce452aba1fcd569f7e8aa6",
       "version_major": 2,
       "version_minor": 0
      },
      "text/plain": [
       "Epoch 40:   0%|          | 0/756 [00:00<?, ?batch/s]"
      ]
     },
     "metadata": {},
     "output_type": "display_data"
    },
    {
     "data": {
      "application/vnd.jupyter.widget-view+json": {
       "model_id": "f147846a41194c54ad3739c8687f8cda",
       "version_major": 2,
       "version_minor": 0
      },
      "text/plain": [
       "Epoch 41:   0%|          | 0/756 [00:00<?, ?batch/s]"
      ]
     },
     "metadata": {},
     "output_type": "display_data"
    },
    {
     "data": {
      "application/vnd.jupyter.widget-view+json": {
       "model_id": "fb63de770a894f1ba2df54229613bb31",
       "version_major": 2,
       "version_minor": 0
      },
      "text/plain": [
       "Epoch 42:   0%|          | 0/756 [00:00<?, ?batch/s]"
      ]
     },
     "metadata": {},
     "output_type": "display_data"
    },
    {
     "data": {
      "application/vnd.jupyter.widget-view+json": {
       "model_id": "234347f31da7425aacbd9b03b4dff8a8",
       "version_major": 2,
       "version_minor": 0
      },
      "text/plain": [
       "Epoch 43:   0%|          | 0/756 [00:00<?, ?batch/s]"
      ]
     },
     "metadata": {},
     "output_type": "display_data"
    },
    {
     "data": {
      "application/vnd.jupyter.widget-view+json": {
       "model_id": "fd3895a02e434e9eb391fca5b0a69881",
       "version_major": 2,
       "version_minor": 0
      },
      "text/plain": [
       "Epoch 44:   0%|          | 0/756 [00:00<?, ?batch/s]"
      ]
     },
     "metadata": {},
     "output_type": "display_data"
    },
    {
     "data": {
      "application/vnd.jupyter.widget-view+json": {
       "model_id": "438864c6f9124681b2ede7f3be363844",
       "version_major": 2,
       "version_minor": 0
      },
      "text/plain": [
       "Epoch 45:   0%|          | 0/756 [00:00<?, ?batch/s]"
      ]
     },
     "metadata": {},
     "output_type": "display_data"
    },
    {
     "data": {
      "application/vnd.jupyter.widget-view+json": {
       "model_id": "134dae7e4e734a83875f2b9fe51b7528",
       "version_major": 2,
       "version_minor": 0
      },
      "text/plain": [
       "Epoch 46:   0%|          | 0/756 [00:00<?, ?batch/s]"
      ]
     },
     "metadata": {},
     "output_type": "display_data"
    },
    {
     "data": {
      "application/vnd.jupyter.widget-view+json": {
       "model_id": "0f93b55e41a443b6946e28d9bba49fe6",
       "version_major": 2,
       "version_minor": 0
      },
      "text/plain": [
       "Epoch 47:   0%|          | 0/756 [00:00<?, ?batch/s]"
      ]
     },
     "metadata": {},
     "output_type": "display_data"
    },
    {
     "data": {
      "application/vnd.jupyter.widget-view+json": {
       "model_id": "2c32cdda33ec4c78b3ef545d66b337d0",
       "version_major": 2,
       "version_minor": 0
      },
      "text/plain": [
       "Epoch 48:   0%|          | 0/756 [00:00<?, ?batch/s]"
      ]
     },
     "metadata": {},
     "output_type": "display_data"
    },
    {
     "data": {
      "application/vnd.jupyter.widget-view+json": {
       "model_id": "7f3b361978e9497d812310f17231e938",
       "version_major": 2,
       "version_minor": 0
      },
      "text/plain": [
       "Epoch 49:   0%|          | 0/756 [00:00<?, ?batch/s]"
      ]
     },
     "metadata": {},
     "output_type": "display_data"
    },
    {
     "data": {
      "application/vnd.jupyter.widget-view+json": {
       "model_id": "02e654d1ffb1453abdf0451ec6bc530b",
       "version_major": 2,
       "version_minor": 0
      },
      "text/plain": [
       "Epoch 50:   0%|          | 0/756 [00:00<?, ?batch/s]"
      ]
     },
     "metadata": {},
     "output_type": "display_data"
    },
    {
     "data": {
      "application/vnd.jupyter.widget-view+json": {
       "model_id": "67f6d737b5344e1b88b850e74e1f5530",
       "version_major": 2,
       "version_minor": 0
      },
      "text/plain": [
       "Epoch 51:   0%|          | 0/756 [00:00<?, ?batch/s]"
      ]
     },
     "metadata": {},
     "output_type": "display_data"
    },
    {
     "data": {
      "application/vnd.jupyter.widget-view+json": {
       "model_id": "2a1796b35feb482cace7f754017c15e2",
       "version_major": 2,
       "version_minor": 0
      },
      "text/plain": [
       "Epoch 52:   0%|          | 0/756 [00:00<?, ?batch/s]"
      ]
     },
     "metadata": {},
     "output_type": "display_data"
    },
    {
     "data": {
      "application/vnd.jupyter.widget-view+json": {
       "model_id": "444e39ae387e4f5ea7f8f2584dda9bdb",
       "version_major": 2,
       "version_minor": 0
      },
      "text/plain": [
       "Epoch 53:   0%|          | 0/756 [00:00<?, ?batch/s]"
      ]
     },
     "metadata": {},
     "output_type": "display_data"
    },
    {
     "data": {
      "application/vnd.jupyter.widget-view+json": {
       "model_id": "39fd9e4d8829406c865605a9974a68f7",
       "version_major": 2,
       "version_minor": 0
      },
      "text/plain": [
       "Epoch 54:   0%|          | 0/756 [00:00<?, ?batch/s]"
      ]
     },
     "metadata": {},
     "output_type": "display_data"
    },
    {
     "data": {
      "application/vnd.jupyter.widget-view+json": {
       "model_id": "54db79488105471496a3b46c1bffa5e3",
       "version_major": 2,
       "version_minor": 0
      },
      "text/plain": [
       "Epoch 55:   0%|          | 0/756 [00:00<?, ?batch/s]"
      ]
     },
     "metadata": {},
     "output_type": "display_data"
    },
    {
     "data": {
      "application/vnd.jupyter.widget-view+json": {
       "model_id": "e60b8b397aaf4e26ae6af91ea327bcbf",
       "version_major": 2,
       "version_minor": 0
      },
      "text/plain": [
       "Epoch 56:   0%|          | 0/756 [00:00<?, ?batch/s]"
      ]
     },
     "metadata": {},
     "output_type": "display_data"
    },
    {
     "data": {
      "application/vnd.jupyter.widget-view+json": {
       "model_id": "1eec3a9522a24ab3ab8be1311d1943ec",
       "version_major": 2,
       "version_minor": 0
      },
      "text/plain": [
       "Epoch 57:   0%|          | 0/756 [00:00<?, ?batch/s]"
      ]
     },
     "metadata": {},
     "output_type": "display_data"
    },
    {
     "data": {
      "application/vnd.jupyter.widget-view+json": {
       "model_id": "b7ae452d3d6746cfbce81d75f63a6f38",
       "version_major": 2,
       "version_minor": 0
      },
      "text/plain": [
       "Epoch 58:   0%|          | 0/756 [00:00<?, ?batch/s]"
      ]
     },
     "metadata": {},
     "output_type": "display_data"
    },
    {
     "data": {
      "application/vnd.jupyter.widget-view+json": {
       "model_id": "d665e51d41744fb7a147fc3dc4655df7",
       "version_major": 2,
       "version_minor": 0
      },
      "text/plain": [
       "Epoch 59:   0%|          | 0/756 [00:00<?, ?batch/s]"
      ]
     },
     "metadata": {},
     "output_type": "display_data"
    },
    {
     "data": {
      "application/vnd.jupyter.widget-view+json": {
       "model_id": "9ea5bc1a8134480e81370547256fa1b0",
       "version_major": 2,
       "version_minor": 0
      },
      "text/plain": [
       "Epoch 60:   0%|          | 0/756 [00:00<?, ?batch/s]"
      ]
     },
     "metadata": {},
     "output_type": "display_data"
    },
    {
     "data": {
      "application/vnd.jupyter.widget-view+json": {
       "model_id": "54d1cbc74dbe44bbb8730161b26a300c",
       "version_major": 2,
       "version_minor": 0
      },
      "text/plain": [
       "Epoch 61:   0%|          | 0/756 [00:00<?, ?batch/s]"
      ]
     },
     "metadata": {},
     "output_type": "display_data"
    },
    {
     "data": {
      "application/vnd.jupyter.widget-view+json": {
       "model_id": "0443c8cc155a4a74b110f64d6115f05d",
       "version_major": 2,
       "version_minor": 0
      },
      "text/plain": [
       "Epoch 62:   0%|          | 0/756 [00:00<?, ?batch/s]"
      ]
     },
     "metadata": {},
     "output_type": "display_data"
    },
    {
     "data": {
      "application/vnd.jupyter.widget-view+json": {
       "model_id": "b8499f9e21794d9c85f1e4b49b6f601c",
       "version_major": 2,
       "version_minor": 0
      },
      "text/plain": [
       "Epoch 63:   0%|          | 0/756 [00:00<?, ?batch/s]"
      ]
     },
     "metadata": {},
     "output_type": "display_data"
    },
    {
     "data": {
      "application/vnd.jupyter.widget-view+json": {
       "model_id": "fd3729e66afe4913996f0f00848000d3",
       "version_major": 2,
       "version_minor": 0
      },
      "text/plain": [
       "Epoch 64:   0%|          | 0/756 [00:00<?, ?batch/s]"
      ]
     },
     "metadata": {},
     "output_type": "display_data"
    },
    {
     "data": {
      "application/vnd.jupyter.widget-view+json": {
       "model_id": "efaadd92f8d74c608509242ee8c5cbba",
       "version_major": 2,
       "version_minor": 0
      },
      "text/plain": [
       "Epoch 65:   0%|          | 0/756 [00:00<?, ?batch/s]"
      ]
     },
     "metadata": {},
     "output_type": "display_data"
    },
    {
     "data": {
      "application/vnd.jupyter.widget-view+json": {
       "model_id": "77d51e45c1ba4dc9a57769222844e790",
       "version_major": 2,
       "version_minor": 0
      },
      "text/plain": [
       "Epoch 66:   0%|          | 0/756 [00:00<?, ?batch/s]"
      ]
     },
     "metadata": {},
     "output_type": "display_data"
    },
    {
     "data": {
      "application/vnd.jupyter.widget-view+json": {
       "model_id": "f82e003c72304a35bb343e743ae1d473",
       "version_major": 2,
       "version_minor": 0
      },
      "text/plain": [
       "Epoch 67:   0%|          | 0/756 [00:00<?, ?batch/s]"
      ]
     },
     "metadata": {},
     "output_type": "display_data"
    },
    {
     "data": {
      "application/vnd.jupyter.widget-view+json": {
       "model_id": "d8744fb5b30c48fa9811430b7fd26c8b",
       "version_major": 2,
       "version_minor": 0
      },
      "text/plain": [
       "Epoch 68:   0%|          | 0/756 [00:00<?, ?batch/s]"
      ]
     },
     "metadata": {},
     "output_type": "display_data"
    },
    {
     "data": {
      "application/vnd.jupyter.widget-view+json": {
       "model_id": "565b16480e6e4c19abdb7133038f1efb",
       "version_major": 2,
       "version_minor": 0
      },
      "text/plain": [
       "Epoch 69:   0%|          | 0/756 [00:00<?, ?batch/s]"
      ]
     },
     "metadata": {},
     "output_type": "display_data"
    },
    {
     "data": {
      "application/vnd.jupyter.widget-view+json": {
       "model_id": "5d0b5ded448a45e090e5f5a4678fb9fb",
       "version_major": 2,
       "version_minor": 0
      },
      "text/plain": [
       "Epoch 70:   0%|          | 0/756 [00:00<?, ?batch/s]"
      ]
     },
     "metadata": {},
     "output_type": "display_data"
    },
    {
     "data": {
      "application/vnd.jupyter.widget-view+json": {
       "model_id": "c17106b4852145c5a3963a9ad560cae3",
       "version_major": 2,
       "version_minor": 0
      },
      "text/plain": [
       "Epoch 71:   0%|          | 0/756 [00:00<?, ?batch/s]"
      ]
     },
     "metadata": {},
     "output_type": "display_data"
    },
    {
     "data": {
      "application/vnd.jupyter.widget-view+json": {
       "model_id": "9bb434b10adb42d68ba19daf3c69bec1",
       "version_major": 2,
       "version_minor": 0
      },
      "text/plain": [
       "Epoch 72:   0%|          | 0/756 [00:00<?, ?batch/s]"
      ]
     },
     "metadata": {},
     "output_type": "display_data"
    },
    {
     "data": {
      "application/vnd.jupyter.widget-view+json": {
       "model_id": "8503b6c3d7664cd8a6bd15bc78dc9c97",
       "version_major": 2,
       "version_minor": 0
      },
      "text/plain": [
       "Epoch 73:   0%|          | 0/756 [00:00<?, ?batch/s]"
      ]
     },
     "metadata": {},
     "output_type": "display_data"
    },
    {
     "data": {
      "application/vnd.jupyter.widget-view+json": {
       "model_id": "0da68e2122184d94a8155aeac813d44f",
       "version_major": 2,
       "version_minor": 0
      },
      "text/plain": [
       "Epoch 74:   0%|          | 0/756 [00:00<?, ?batch/s]"
      ]
     },
     "metadata": {},
     "output_type": "display_data"
    },
    {
     "data": {
      "application/vnd.jupyter.widget-view+json": {
       "model_id": "f5d5d5d70d264020b00a485bd3b3a8c2",
       "version_major": 2,
       "version_minor": 0
      },
      "text/plain": [
       "Epoch 75:   0%|          | 0/756 [00:00<?, ?batch/s]"
      ]
     },
     "metadata": {},
     "output_type": "display_data"
    },
    {
     "data": {
      "application/vnd.jupyter.widget-view+json": {
       "model_id": "ff8aed89dfa949ef95ce38b39706255b",
       "version_major": 2,
       "version_minor": 0
      },
      "text/plain": [
       "Epoch 76:   0%|          | 0/756 [00:00<?, ?batch/s]"
      ]
     },
     "metadata": {},
     "output_type": "display_data"
    },
    {
     "data": {
      "application/vnd.jupyter.widget-view+json": {
       "model_id": "60e28c679a80486ba2e5c7fb165adbd1",
       "version_major": 2,
       "version_minor": 0
      },
      "text/plain": [
       "Epoch 77:   0%|          | 0/756 [00:00<?, ?batch/s]"
      ]
     },
     "metadata": {},
     "output_type": "display_data"
    },
    {
     "data": {
      "application/vnd.jupyter.widget-view+json": {
       "model_id": "876cba236f6a4ce0b2d3147a14d97b76",
       "version_major": 2,
       "version_minor": 0
      },
      "text/plain": [
       "Epoch 78:   0%|          | 0/756 [00:00<?, ?batch/s]"
      ]
     },
     "metadata": {},
     "output_type": "display_data"
    },
    {
     "data": {
      "application/vnd.jupyter.widget-view+json": {
       "model_id": "bf26d473f68544fd9f2b29de34c429d7",
       "version_major": 2,
       "version_minor": 0
      },
      "text/plain": [
       "Epoch 79:   0%|          | 0/756 [00:00<?, ?batch/s]"
      ]
     },
     "metadata": {},
     "output_type": "display_data"
    },
    {
     "data": {
      "application/vnd.jupyter.widget-view+json": {
       "model_id": "ad899214db1c4629a0f93f1b7b8a11cb",
       "version_major": 2,
       "version_minor": 0
      },
      "text/plain": [
       "Epoch 80:   0%|          | 0/756 [00:00<?, ?batch/s]"
      ]
     },
     "metadata": {},
     "output_type": "display_data"
    },
    {
     "data": {
      "application/vnd.jupyter.widget-view+json": {
       "model_id": "0a969e24c04f4968bd7960f8f3e5842b",
       "version_major": 2,
       "version_minor": 0
      },
      "text/plain": [
       "Epoch 81:   0%|          | 0/756 [00:00<?, ?batch/s]"
      ]
     },
     "metadata": {},
     "output_type": "display_data"
    },
    {
     "data": {
      "application/vnd.jupyter.widget-view+json": {
       "model_id": "eff6ebc7634d481eb421d7a4bbc9f82b",
       "version_major": 2,
       "version_minor": 0
      },
      "text/plain": [
       "Epoch 82:   0%|          | 0/756 [00:00<?, ?batch/s]"
      ]
     },
     "metadata": {},
     "output_type": "display_data"
    },
    {
     "data": {
      "application/vnd.jupyter.widget-view+json": {
       "model_id": "3e64593f49ce40e682b05603ed774be6",
       "version_major": 2,
       "version_minor": 0
      },
      "text/plain": [
       "Epoch 83:   0%|          | 0/756 [00:00<?, ?batch/s]"
      ]
     },
     "metadata": {},
     "output_type": "display_data"
    },
    {
     "data": {
      "application/vnd.jupyter.widget-view+json": {
       "model_id": "fef9095dacaf47219cc5af6ca44c20f4",
       "version_major": 2,
       "version_minor": 0
      },
      "text/plain": [
       "Epoch 84:   0%|          | 0/756 [00:00<?, ?batch/s]"
      ]
     },
     "metadata": {},
     "output_type": "display_data"
    },
    {
     "data": {
      "application/vnd.jupyter.widget-view+json": {
       "model_id": "dcfef2ee042c4e9cb7ff9b2eee787db4",
       "version_major": 2,
       "version_minor": 0
      },
      "text/plain": [
       "Epoch 85:   0%|          | 0/756 [00:00<?, ?batch/s]"
      ]
     },
     "metadata": {},
     "output_type": "display_data"
    },
    {
     "data": {
      "application/vnd.jupyter.widget-view+json": {
       "model_id": "f52584953ed245f9b2bcf6e49261e8ec",
       "version_major": 2,
       "version_minor": 0
      },
      "text/plain": [
       "Epoch 86:   0%|          | 0/756 [00:00<?, ?batch/s]"
      ]
     },
     "metadata": {},
     "output_type": "display_data"
    },
    {
     "data": {
      "application/vnd.jupyter.widget-view+json": {
       "model_id": "d033ae6c0fff4d269c2d8e161989ff5c",
       "version_major": 2,
       "version_minor": 0
      },
      "text/plain": [
       "Epoch 87:   0%|          | 0/756 [00:00<?, ?batch/s]"
      ]
     },
     "metadata": {},
     "output_type": "display_data"
    },
    {
     "data": {
      "application/vnd.jupyter.widget-view+json": {
       "model_id": "4a456fae9f664d11baeed52428de242f",
       "version_major": 2,
       "version_minor": 0
      },
      "text/plain": [
       "Epoch 88:   0%|          | 0/756 [00:00<?, ?batch/s]"
      ]
     },
     "metadata": {},
     "output_type": "display_data"
    },
    {
     "data": {
      "application/vnd.jupyter.widget-view+json": {
       "model_id": "90a5ef8e37244dfeb54c4f4b829b17b5",
       "version_major": 2,
       "version_minor": 0
      },
      "text/plain": [
       "Epoch 89:   0%|          | 0/756 [00:00<?, ?batch/s]"
      ]
     },
     "metadata": {},
     "output_type": "display_data"
    },
    {
     "data": {
      "application/vnd.jupyter.widget-view+json": {
       "model_id": "3bba729ca7ad4ae9883fcb4d075fb247",
       "version_major": 2,
       "version_minor": 0
      },
      "text/plain": [
       "Epoch 90:   0%|          | 0/756 [00:00<?, ?batch/s]"
      ]
     },
     "metadata": {},
     "output_type": "display_data"
    },
    {
     "data": {
      "application/vnd.jupyter.widget-view+json": {
       "model_id": "987119442d504f5eafcaf4f3bed356e2",
       "version_major": 2,
       "version_minor": 0
      },
      "text/plain": [
       "Epoch 91:   0%|          | 0/756 [00:00<?, ?batch/s]"
      ]
     },
     "metadata": {},
     "output_type": "display_data"
    },
    {
     "data": {
      "application/vnd.jupyter.widget-view+json": {
       "model_id": "2c6aad2566eb49a2a5bef3ec51588120",
       "version_major": 2,
       "version_minor": 0
      },
      "text/plain": [
       "Epoch 92:   0%|          | 0/756 [00:00<?, ?batch/s]"
      ]
     },
     "metadata": {},
     "output_type": "display_data"
    },
    {
     "data": {
      "application/vnd.jupyter.widget-view+json": {
       "model_id": "f94bb64c6355443d9dd62722f09d419b",
       "version_major": 2,
       "version_minor": 0
      },
      "text/plain": [
       "Epoch 93:   0%|          | 0/756 [00:00<?, ?batch/s]"
      ]
     },
     "metadata": {},
     "output_type": "display_data"
    },
    {
     "data": {
      "application/vnd.jupyter.widget-view+json": {
       "model_id": "3129ee3ba5234378b627bb01c70e2e8d",
       "version_major": 2,
       "version_minor": 0
      },
      "text/plain": [
       "Epoch 94:   0%|          | 0/756 [00:00<?, ?batch/s]"
      ]
     },
     "metadata": {},
     "output_type": "display_data"
    },
    {
     "data": {
      "application/vnd.jupyter.widget-view+json": {
       "model_id": "e6a729ca79be428d95fcd237123f357d",
       "version_major": 2,
       "version_minor": 0
      },
      "text/plain": [
       "Epoch 95:   0%|          | 0/756 [00:00<?, ?batch/s]"
      ]
     },
     "metadata": {},
     "output_type": "display_data"
    },
    {
     "data": {
      "application/vnd.jupyter.widget-view+json": {
       "model_id": "19d9a2336148434399c309ae8a0cd7f4",
       "version_major": 2,
       "version_minor": 0
      },
      "text/plain": [
       "Epoch 96:   0%|          | 0/756 [00:00<?, ?batch/s]"
      ]
     },
     "metadata": {},
     "output_type": "display_data"
    },
    {
     "data": {
      "application/vnd.jupyter.widget-view+json": {
       "model_id": "f0dd567ba2a745d3a575fd6c92f70a92",
       "version_major": 2,
       "version_minor": 0
      },
      "text/plain": [
       "Epoch 97:   0%|          | 0/756 [00:00<?, ?batch/s]"
      ]
     },
     "metadata": {},
     "output_type": "display_data"
    },
    {
     "data": {
      "application/vnd.jupyter.widget-view+json": {
       "model_id": "fb55d1eba5c641e388b157efb61caa5c",
       "version_major": 2,
       "version_minor": 0
      },
      "text/plain": [
       "Epoch 98:   0%|          | 0/756 [00:00<?, ?batch/s]"
      ]
     },
     "metadata": {},
     "output_type": "display_data"
    },
    {
     "data": {
      "application/vnd.jupyter.widget-view+json": {
       "model_id": "1fa1f9532ae149c1913dbd066b763b40",
       "version_major": 2,
       "version_minor": 0
      },
      "text/plain": [
       "Epoch 99:   0%|          | 0/756 [00:00<?, ?batch/s]"
      ]
     },
     "metadata": {},
     "output_type": "display_data"
    },
    {
     "data": {
      "application/vnd.jupyter.widget-view+json": {
       "model_id": "e84f2ef098874c0399599f30da1ffee1",
       "version_major": 2,
       "version_minor": 0
      },
      "text/plain": [
       "Epoch 100:   0%|          | 0/756 [00:00<?, ?batch/s]"
      ]
     },
     "metadata": {},
     "output_type": "display_data"
    },
    {
     "name": "stderr",
     "output_type": "stream",
     "text": [
      "\u001b[31m2025/02/06 14:28:52 WARNING mlflow.models.model: Model logged without a signature and input example. Please set `input_example` parameter when logging the model to auto infer the model signature.\u001b[0m\n",
      "Registered model 'FraudEncoder' already exists. Creating a new version of this model...\n",
      "Created version '10' of model 'FraudEncoder'.\n"
     ]
    },
    {
     "name": "stdout",
     "output_type": "stream",
     "text": [
      "Feature engineering pipeline completed. Run ID: b6ed33a1d093482ab994e2d79b701f1f\n"
     ]
    }
   ],
   "source": [
    "if __name__ == \"__main__\":\n",
    "    configure_mlflow(\"CreditCardFraudAutoencoder\")\n",
    "    with mlflow.start_run(run_name=\"feature_engineering\") as run:\n",
    "        feature_engineering_pipeline(CONFIG)\n",
    "        print(\"Feature engineering pipeline completed. Run ID:\", mlflow.active_run().info.run_id)"
   ]
  },
  {
   "cell_type": "code",
   "execution_count": null,
   "id": "4c1877c9-3b6d-4d85-ac42-230a9346747a",
   "metadata": {},
   "outputs": [],
   "source": []
  }
 ],
 "metadata": {
  "kernelspec": {
   "display_name": "Python 3 (ipykernel)",
   "language": "python",
   "name": "python3"
  },
  "language_info": {
   "codemirror_mode": {
    "name": "ipython",
    "version": 3
   },
   "file_extension": ".py",
   "mimetype": "text/x-python",
   "name": "python",
   "nbconvert_exporter": "python",
   "pygments_lexer": "ipython3",
   "version": "3.12.7"
  }
 },
 "nbformat": 4,
 "nbformat_minor": 5
}
