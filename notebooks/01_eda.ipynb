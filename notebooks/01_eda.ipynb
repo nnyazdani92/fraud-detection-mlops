{
 "cells": [
  {
   "cell_type": "code",
   "execution_count": 37,
   "id": "b1c7a1cd-0cfc-4df6-a10b-7d3860f4935d",
   "metadata": {},
   "outputs": [],
   "source": [
    "import os\n",
    "import tempfile\n",
    "import mlflow\n",
    "import pandas as pd\n",
    "import seaborn as sns\n",
    "import matplotlib.pyplot as plt\n",
    "from datetime import datetime\n",
    "import sys\n",
    "\n",
    "sys.path.append('..')\n",
    "from dotenv import load_dotenv\n",
    "from src.download_data import download_kaggle_dataset"
   ]
  },
  {
   "cell_type": "code",
   "execution_count": 38,
   "id": "aaf3c21c-fdf0-41c9-8ba1-eac5a18664d3",
   "metadata": {},
   "outputs": [
    {
     "data": {
      "text/plain": [
       "True"
      ]
     },
     "execution_count": 38,
     "metadata": {},
     "output_type": "execute_result"
    }
   ],
   "source": [
    "load_dotenv()"
   ]
  },
  {
   "cell_type": "code",
   "execution_count": 39,
   "id": "bf044176-ae64-4cc6-a5b4-a64793747577",
   "metadata": {},
   "outputs": [],
   "source": [
    "# Configuration management\n",
    "MLFLOW_TRACKING_URI = os.environ[\"MLFLOW_TRACKING_URI\"]\n",
    "EXPERIMENT_NAME = \"CreditCardFraudAnalysis\"\n",
    "ARTIFACT_DIR = tempfile.mkdtemp(prefix='eda_artifacts_')  # Use temporary directory\n",
    "RAW_DATA_DIR = os.environ[\"RAW_DATA_DIR\"]"
   ]
  },
  {
   "cell_type": "code",
   "execution_count": 40,
   "id": "0886434f-df1d-45b8-adbd-1e12613b2a08",
   "metadata": {},
   "outputs": [
    {
     "data": {
      "text/plain": [
       "<Experiment: artifact_location='file:///home/nick/Documents/code/fraud-detection-mlops/mlflow/mlruns/633464287265529281', creation_time=1738782014739, experiment_id='633464287265529281', last_update_time=1738782014739, lifecycle_stage='active', name='CreditCardFraudAnalysis', tags={}>"
      ]
     },
     "execution_count": 40,
     "metadata": {},
     "output_type": "execute_result"
    }
   ],
   "source": [
    "# Initialize MLflow\n",
    "mlflow.set_tracking_uri(MLFLOW_TRACKING_URI)\n",
    "mlflow.set_experiment(EXPERIMENT_NAME)"
   ]
  },
  {
   "cell_type": "code",
   "execution_count": 41,
   "id": "35a41d15-97a8-41a5-85ff-17e8cd21768a",
   "metadata": {},
   "outputs": [],
   "source": [
    "def generate_plot(\n",
    "    data: pd.DataFrame,\n",
    "    numerical_features: list,\n",
    "    target_column: str,\n",
    "    plot_type: str,\n",
    "    plot_title: str,\n",
    "    plot_kws: dict = None,\n",
    "    figsize: tuple = (20, 30),\n",
    "    subplot_layout: tuple = (8, 4)\n",
    ") -> plt.Figure:\n",
    "    \"\"\"\n",
    "    Generate and save a multi-plot visualization for numerical features analysis.\n",
    "    \n",
    "    Parameters:\n",
    "        data (pd.DataFrame): Input dataset\n",
    "        numerical_features (list): List of numerical features to plot\n",
    "        target_column (str): Name of target variable column\n",
    "        plot_type (str): Type of plot to generate (kde, box, hist, violin, scatter)\n",
    "        plot_title (str): Overall title for the plot matrix\n",
    "        plot_kws (dict): Keyword arguments for seaborn plotting function\n",
    "        figsize (tuple): Figure dimensions (width, height)\n",
    "        subplot_layout (tuple): (rows, cols) for subplot arrangement\n",
    "        \n",
    "    Returns:\n",
    "        plt.Figure: Generated figure object\n",
    "    \n",
    "    Raises:\n",
    "        ValueError: For unsupported plot types\n",
    "    \"\"\"\n",
    "    plot_kws = plot_kws or {}\n",
    "    n_features = len(numerical_features)\n",
    "    rows, cols = subplot_layout\n",
    "    \n",
    "    # Dynamically adjust layout if needed\n",
    "    if n_features < rows * cols:\n",
    "        rows = (n_features + cols - 1) // cols  # Calculate minimum needed rows\n",
    "    \n",
    "    fig = plt.figure(figsize=(figsize[0], figsize[1] * rows/8))  # Scale height\n",
    "    fig.suptitle(plot_title, y=1.02, fontsize=14)\n",
    "    \n",
    "    # Supported plot types with validation\n",
    "    plot_functions = {\n",
    "        'kde': sns.kdeplot,\n",
    "        'box': sns.boxplot,\n",
    "        'hist': sns.histplot,\n",
    "        'violin': sns.violinplot,\n",
    "    }\n",
    "    \n",
    "    if plot_type not in plot_functions:\n",
    "        raise ValueError(f\"Unsupported plot type: {plot_type}. Choose from {list(plot_functions.keys())}\")\n",
    "    \n",
    "    # Generate subplots\n",
    "    for i, feature in enumerate(numerical_features, 1):\n",
    "        ax = plt.subplot(rows, cols, i)\n",
    "        \n",
    "        try:\n",
    "            if plot_type in ['kde', 'hist']:\n",
    "                plot_functions[plot_type](\n",
    "                    data=data, \n",
    "                    x=feature, \n",
    "                    hue=target_column, \n",
    "                    common_norm=False, \n",
    "                    ax=ax,\n",
    "                    **plot_kws\n",
    "                )\n",
    "            elif plot_type in ['box', 'violin']:\n",
    "                plot_functions[plot_type](\n",
    "                    data=data, \n",
    "                    x=target_column, \n",
    "                    y=feature, \n",
    "                    ax=ax,\n",
    "                    **plot_kws\n",
    "                )\n",
    "                \n",
    "            ax.set_title(f\"{feature}\\n\", fontsize=10)\n",
    "            ax.tick_params(axis='x', labelsize=8)\n",
    "            ax.tick_params(axis='y', labelsize=8)\n",
    "            \n",
    "        except Exception as e:\n",
    "            plt.close()\n",
    "            raise RuntimeError(f\"Error generating {plot_type} plot for {feature}: {str(e)}\")\n",
    "    \n",
    "    plt.tight_layout()\n",
    "    return fig"
   ]
  },
  {
   "cell_type": "code",
   "execution_count": 42,
   "id": "6a5992dd-a0b8-4ecd-b743-12ef58fb7d94",
   "metadata": {},
   "outputs": [],
   "source": [
    "def log_plot(plot_name: str) -> None:\n",
    "    \"\"\"Helper function to save and log plots\"\"\"\n",
    "    plot_path = os.path.join(ARTIFACT_DIR, f\"{plot_name}_{datetime.now().strftime('%Y%m%d%H%M%S')}.png\")\n",
    "    plt.savefig(plot_path, bbox_inches='tight')\n",
    "    mlflow.log_artifact(plot_path)\n",
    "    plt.close()\n",
    "\n",
    "def log_dataset_summary(data: pd.DataFrame) -> None:\n",
    "    \"\"\"Log key dataset statistics\"\"\"\n",
    "    mlflow.log_params({\n",
    "        \"num_rows\": data.shape[0],\n",
    "        \"num_columns\": data.shape[1],\n",
    "        \"dataset_version\": \"1.0.0\",\n",
    "        \"dataset_source\": \"kaggle\"\n",
    "    })\n",
    "    \n",
    "    missing_values = data.isnull().sum()\n",
    "    mlflow.log_metrics({\n",
    "        \"total_missing_values\": missing_values.sum(),\n",
    "        \"max_missing_in_column\": missing_values.max()\n",
    "    })"
   ]
  },
  {
   "cell_type": "code",
   "execution_count": 43,
   "id": "e96cad3d-a95c-43e4-b2ba-225a63bbf511",
   "metadata": {},
   "outputs": [],
   "source": [
    "def analyze_target_distribution(data: pd.DataFrame, target_col: str = 'Class') -> None:\n",
    "    \"\"\"Analyze and log target variable distribution\"\"\"\n",
    "    target_dist = data[target_col].value_counts()\n",
    "    mlflow.log_metrics({\n",
    "        \"fraud_cases\": target_dist[1],\n",
    "        \"non_fraud_cases\": target_dist[0],\n",
    "        \"imbalance_ratio\": target_dist[0] / target_dist[1]\n",
    "    })\n",
    "    \n",
    "    plt.figure(figsize=(8, 6))\n",
    "    sns.countplot(x=target_col, data=data)\n",
    "    plt.title('Class Distribution (0: Normal, 1: Fraud)')\n",
    "    log_plot(\"class_distribution\")\n",
    "\n",
    "def log_feature_analysis(data: pd.DataFrame, numerical_features: list, target_col: str = 'Class') -> None:\n",
    "    \"\"\"Perform and log feature analysis\"\"\"\n",
    "    # Correlation analysis\n",
    "    corr_matrix = data[numerical_features + [target_col]].corr()\n",
    "    plt.figure(figsize=(12, 10))\n",
    "    sns.heatmap(corr_matrix, annot=False, cmap='coolwarm', center=0)\n",
    "    plt.title('Feature Correlation Matrix')\n",
    "    log_plot(\"correlation_matrix\")\n",
    "\n",
    "    # Outlier analysis using IQR\n",
    "    outlier_counts = {}\n",
    "    for feature in numerical_features:\n",
    "        Q1 = data[feature].quantile(0.25)\n",
    "        Q3 = data[feature].quantile(0.75)\n",
    "        IQR = Q3 - Q1\n",
    "        outlier_counts[feature] = ((data[feature] < (Q1 - 1.5 * IQR)) | \n",
    "                                  (data[feature] > (Q3 + 1.5 * IQR))).sum()\n",
    "    \n",
    "    mlflow.log_metrics({f\"outliers_{k}\": v for k, v in outlier_counts.items()})\n",
    "\n",
    "    # Plot boxplots\n",
    "    fig = generate_plot(data, numerical_features, target_col, 'box','Feature Boxplots')\n",
    "    log_plot(\"boxplots\")\n",
    "\n",
    "    # Plot KDEs\n",
    "    fig = generate_plot(data, numerical_features, target_col, 'kde','Feature KDEs')\n",
    "    log_plot(\"kdes\")\n",
    "    \n",
    "    # Plot violin plots\n",
    "    fig = generate_plot(data, numerical_features, target_col, 'violin','Feature Violin Plots')\n",
    "    log_plot(\"violins\")"
   ]
  },
  {
   "cell_type": "code",
   "execution_count": 44,
   "id": "501c2c9e-52e0-408f-8639-8b4850c938f1",
   "metadata": {},
   "outputs": [],
   "source": [
    "def main():\n",
    "    with mlflow.start_run(run_name=\"EDA_Run\") as run:\n",
    "        # Log environment details\n",
    "        mlflow.log_params({\n",
    "            \"python_version\": sys.version,\n",
    "            \"pandas_version\": pd.__version__,\n",
    "            \"mlflow_version\": mlflow.__version__\n",
    "        })\n",
    "        \n",
    "        # Download and log dataset\n",
    "        dataset_name = 'mlg-ulb/creditcardfraud'\n",
    "        dataset_dir = download_kaggle_dataset(dataset_name, RAW_DATA_DIR)\n",
    "        mlflow.log_artifact(os.path.join(dataset_dir, 'creditcard.csv'), \"raw_data\")\n",
    "        \n",
    "        # Load data\n",
    "        data = pd.read_csv(os.path.join(dataset_dir, 'creditcard.csv'))\n",
    "        \n",
    "        # Dataset summary\n",
    "        log_dataset_summary(data)\n",
    "        \n",
    "        # Target analysis\n",
    "        analyze_target_distribution(data)\n",
    "        \n",
    "        # Feature analysis\n",
    "        numerical_features = data.select_dtypes(include=['float64']).columns.tolist()\n",
    "        log_feature_analysis(data, numerical_features)\n",
    "        \n",
    "        # Add tags for better organization\n",
    "        mlflow.set_tags({\n",
    "            \"task_type\": \"eda\",\n",
    "            \"dataset\": \"creditcard-fraud\",\n",
    "            \"team\": \"fraud-detection\"\n",
    "        })"
   ]
  },
  {
   "cell_type": "code",
   "execution_count": 45,
   "id": "e69b05ef-f632-4452-844f-f36650845422",
   "metadata": {},
   "outputs": [
    {
     "name": "stdout",
     "output_type": "stream",
     "text": [
      "Dataset URL: https://www.kaggle.com/datasets/mlg-ulb/creditcardfraud\n",
      "Dataset downloaded to directory: /home/nick/Documents/code/fraud-detection-mlops/data/raw\n",
      "MLflow run completed. Artifacts stored in: /tmp/eda_artifacts_z0r6fxb0\n"
     ]
    }
   ],
   "source": [
    "if __name__ == \"__main__\":\n",
    "    main()\n",
    "    print(\"MLflow run completed. Artifacts stored in:\", ARTIFACT_DIR)"
   ]
  },
  {
   "cell_type": "code",
   "execution_count": null,
   "id": "34eee068-a13b-4591-a699-360d8726d9b7",
   "metadata": {},
   "outputs": [],
   "source": []
  }
 ],
 "metadata": {
  "kernelspec": {
   "display_name": "Python 3 (ipykernel)",
   "language": "python",
   "name": "python3"
  },
  "language_info": {
   "codemirror_mode": {
    "name": "ipython",
    "version": 3
   },
   "file_extension": ".py",
   "mimetype": "text/x-python",
   "name": "python",
   "nbconvert_exporter": "python",
   "pygments_lexer": "ipython3",
   "version": "3.12.7"
  }
 },
 "nbformat": 4,
 "nbformat_minor": 5
}
