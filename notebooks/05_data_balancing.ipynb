{
 "cells": [
  {
   "cell_type": "code",
   "execution_count": 1,
   "id": "e369474a-c63d-4272-bf8b-19734edbea3c",
   "metadata": {},
   "outputs": [],
   "source": [
    "import os\n",
    "import pandas as pd\n",
    "import numpy as np\n",
    "from imblearn.over_sampling import SMOTE\n",
    "from sklearn.model_selection import train_test_split\n",
    "import mlflow"
   ]
  },
  {
   "cell_type": "code",
   "execution_count": 2,
   "id": "92e26cf1-658d-467c-a3a1-b4f33ab5950c",
   "metadata": {},
   "outputs": [
    {
     "name": "stderr",
     "output_type": "stream",
     "text": [
      "2025/02/06 00:18:10 INFO mlflow.tracking.fluent: Experiment with name 'CreditCardFraudResampling' does not exist. Creating a new experiment.\n"
     ]
    },
    {
     "data": {
      "text/plain": [
       "<Experiment: artifact_location='file:///home/nick/Documents/code/fraud-detection-mlops/mlflow/mlruns/929632483163283303', creation_time=1738754290102, experiment_id='929632483163283303', last_update_time=1738754290102, lifecycle_stage='active', name='CreditCardFraudResampling', tags={}>"
      ]
     },
     "execution_count": 2,
     "metadata": {},
     "output_type": "execute_result"
    }
   ],
   "source": [
    "mlflow.set_tracking_uri(\"file:///home/nick/Documents/code/fraud-detection-mlops/mlflow/mlruns\")\n",
    "experiment_name = \"CreditCardFraudResampling\"\n",
    "mlflow.set_experiment(experiment_name)"
   ]
  },
  {
   "cell_type": "code",
   "execution_count": 3,
   "id": "25b785a2-07d8-4be0-b02b-077c32d2739d",
   "metadata": {},
   "outputs": [],
   "source": [
    "feature_selected_data_dir = '../data/selected'\n",
    "processed_data_dir = '../data/processed'\n",
    "resampled_data_dir = '../data/resampled'"
   ]
  },
  {
   "cell_type": "code",
   "execution_count": 5,
   "id": "8b259715-877a-4637-ade5-118322cd2837",
   "metadata": {},
   "outputs": [
    {
     "name": "stdout",
     "output_type": "stream",
     "text": [
      "Original class distribution: 0    193333\n",
      "1       335\n",
      "Name: count, dtype: int64\n",
      "Resampled class distribution: 0    193333\n",
      "1    193333\n",
      "Name: count, dtype: int64\n",
      "MLflow run completed.\n"
     ]
    }
   ],
   "source": [
    "with mlflow.start_run():\n",
    "    # Load selected features data\n",
    "    X_train = pd.read_csv(os.path.join(feature_selected_data_dir, 'X_train_selected.csv'))\n",
    "    y_train = pd.read_csv(os.path.join(processed_data_dir, 'y_train.csv'))\n",
    "\n",
    "    # Log basic information about the dataset\n",
    "    mlflow.log_param(\"num_rows_train\", X_train.shape[0])\n",
    "    mlflow.log_param(\"num_columns_train\", X_train.shape[1])\n",
    "\n",
    "    # Apply SMOTE to training data only\n",
    "    sm = SMOTE(random_state=42, sampling_strategy='auto')\n",
    "    X_train_res, y_train_res = sm.fit_resample(X_train, y_train.values.ravel())\n",
    "\n",
    "    # Log resampling details\n",
    "    mlflow.log_param(\"smote_random_state\", 42)\n",
    "    mlflow.log_param(\"smote_sampling_strategy\", 'auto')\n",
    "    mlflow.log_metric(\"original_num_samples\", len(y_train))\n",
    "    mlflow.log_metric(\"resampled_num_samples\", len(y_train_res))\n",
    "\n",
    "    # Save resampled data\n",
    "    X_train_res.to_csv(os.path.join(resampled_data_dir, 'X_train_res.csv'), index=False)\n",
    "    pd.Series(y_train_res).to_csv(os.path.join(resampled_data_dir, 'y_train_res.csv'), index=False)\n",
    "\n",
    "    # Log artifacts\n",
    "    mlflow.log_artifact(os.path.join(resampled_data_dir, 'X_train_res.csv'))\n",
    "    mlflow.log_artifact(os.path.join(resampled_data_dir, 'y_train_res.csv'))\n",
    "\n",
    "    # Verify the resampling\n",
    "    print(f\"Original class distribution: {pd.Series(y_train.values.ravel()).value_counts()}\")\n",
    "    print(f\"Resampled class distribution: {pd.Series(y_train_res).value_counts()}\")\n",
    "\n",
    "print(\"MLflow run completed.\")"
   ]
  },
  {
   "cell_type": "code",
   "execution_count": null,
   "id": "60efa323-6c42-427d-8b1d-0f39b3239caf",
   "metadata": {},
   "outputs": [],
   "source": []
  }
 ],
 "metadata": {
  "kernelspec": {
   "display_name": "Python 3 (ipykernel)",
   "language": "python",
   "name": "python3"
  },
  "language_info": {
   "codemirror_mode": {
    "name": "ipython",
    "version": 3
   },
   "file_extension": ".py",
   "mimetype": "text/x-python",
   "name": "python",
   "nbconvert_exporter": "python",
   "pygments_lexer": "ipython3",
   "version": "3.12.7"
  }
 },
 "nbformat": 4,
 "nbformat_minor": 5
}
