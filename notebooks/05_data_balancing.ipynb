{
 "cells": [
  {
   "cell_type": "code",
   "execution_count": 1,
   "id": "e369474a-c63d-4272-bf8b-19734edbea3c",
   "metadata": {},
   "outputs": [],
   "source": [
    "import os\n",
    "import sys\n",
    "import pandas as pd\n",
    "import numpy as np\n",
    "import mlflow\n",
    "from pathlib import Path\n",
    "from tempfile import TemporaryDirectory\n",
    "from imblearn.over_sampling import SMOTE\n",
    "\n",
    "sys.path.append('..')\n",
    "from src.mlflow_utils import configure_mlflow, find_latest_run_id_by_experiment_and_stage, get_targets, get_data, load_config"
   ]
  },
  {
   "cell_type": "code",
   "execution_count": 2,
   "id": "ee6fde09-e7c7-4e70-b91c-017a7a9eec97",
   "metadata": {},
   "outputs": [],
   "source": [
    "CONFIG = load_config()"
   ]
  },
  {
   "cell_type": "code",
   "execution_count": 3,
   "id": "51bd828b-3ed1-4f0b-b7be-381f9b6fa82f",
   "metadata": {},
   "outputs": [],
   "source": [
    "def resampling_pipeline(config):\n",
    "    with TemporaryDirectory() as tmp_dir:\n",
    "        mlflow.set_tags({\n",
    "            \"stage\": \"resampling\",\n",
    "            \"model_type\": \"SMOTE\"\n",
    "        })\n",
    "\n",
    "        fs_experiment_name = config[\"experiment_names\"][\"feature_selection\"]\n",
    "        fs_run_name = config[\"run_names\"][\"feature_selection\"]\n",
    "        preprocessing_experiment_name = config[\"experiment_names\"][\"preprocessing\"]\n",
    "        preprocessing_run_name = config[\"run_names\"][\"preprocessing\"]\n",
    "\n",
    "        \n",
    "        # Find parent runs\n",
    "        fs_run_id = find_latest_run_id_by_experiment_and_stage(fs_experiment_name, fs_run_name)\n",
    "        preprocessing_run_id = find_latest_run_id_by_experiment_and_stage(preprocessing_experiment_name, preprocessing_run_name)\n",
    "\n",
    "        # Log lineage\n",
    "        mlflow.log_params({\n",
    "            \"feature_selection_run_id\": fs_run_id,\n",
    "            \"preprocessing_run_id\": preprocessing_run_id\n",
    "        })\n",
    "\n",
    "        # Load data from MLflow\n",
    "        selected_data = get_data(fs_run_id, config[\"dataset\"], config[\"artifacts\"][\"data\"][\"selected\"])\n",
    "        targets = get_targets(preprocessing_run_id, config[\"dataset\"])\n",
    "\n",
    "        X_train = selected_data[\"X_train\"]\n",
    "        y_train = targets[\"y_train\"]\n",
    "\n",
    "        # Apply SMOTE to training data only\n",
    "        sm = SMOTE(random_state=42, sampling_strategy='auto')\n",
    "        X_train_res, y_train_res = sm.fit_resample(X_train, y_train.values.ravel())\n",
    "\n",
    "        artifacts = config[\"artifacts\"]\n",
    "\n",
    "        with TemporaryDirectory() as tmp_dir:            \n",
    "            X_data_path = Path(tmp_dir) / \"X_train.parquet\"\n",
    "            y_data_path = Path(tmp_dir) / \"y_train.parquet\"\n",
    "            X_train_res.to_parquet(X_data_path)\n",
    "            pd.DataFrame(y_train_res).to_parquet(y_data_path)\n",
    "            mlflow.log_artifact(X_data_path, f\"{artifacts['data']['resampled']}/training\")\n",
    "            mlflow.log_artifact(y_data_path, f\"{artifacts['data']['resampled']}/training\")\n",
    "\n",
    "        # Log configuration\n",
    "        mlflow.log_dict(config, \"resampling_config.json\")"
   ]
  },
  {
   "cell_type": "code",
   "execution_count": 4,
   "id": "60efa323-6c42-427d-8b1d-0f39b3239caf",
   "metadata": {},
   "outputs": [
    {
     "name": "stdout",
     "output_type": "stream",
     "text": [
      "Resampling pipeline completed. Run ID: 5e493c31d48c461f931a0d5e32fa3e85\n"
     ]
    }
   ],
   "source": [
    "if __name__ == \"__main__\":\n",
    "    configure_mlflow(\"CreditCardFraudResmapling\")\n",
    "    with mlflow.start_run(run_name=\"resampling\"):\n",
    "        resampling_pipeline(CONFIG)\n",
    "        print(\"Resampling pipeline completed. Run ID:\", mlflow.active_run().info.run_id)"
   ]
  },
  {
   "cell_type": "code",
   "execution_count": null,
   "id": "87b01c50-ac71-4353-800e-1796f1c3f0ef",
   "metadata": {},
   "outputs": [],
   "source": []
  }
 ],
 "metadata": {
  "kernelspec": {
   "display_name": "Python 3 (ipykernel)",
   "language": "python",
   "name": "python3"
  },
  "language_info": {
   "codemirror_mode": {
    "name": "ipython",
    "version": 3
   },
   "file_extension": ".py",
   "mimetype": "text/x-python",
   "name": "python",
   "nbconvert_exporter": "python",
   "pygments_lexer": "ipython3",
   "version": "3.12.7"
  }
 },
 "nbformat": 4,
 "nbformat_minor": 5
}
